{
 "cells": [
  {
   "cell_type": "markdown",
   "id": "b9064f9d-0bf1-4958-98cc-250d4e012ba3",
   "metadata": {},
   "source": [
    "# Week 3 and Week 4 Lab"
   ]
  },
  {
   "cell_type": "markdown",
   "id": "a2d1a25b-78fa-467e-8407-8bfb779c5fc6",
   "metadata": {},
   "source": [
    "Using the World Disasters dataset and the Weather dataset, please complete the following tasks in Jupyter Lab or Jupyter Notebook. Please upload your notebook to GitHub and submit the URL for your repository to Brightspace. \n",
    "\n",
    "## 1)\tPerform EDA on the Disasters dataset \n",
    "\n",
    "a.\tDisplay information of the dataset using df.info()\n",
    "\n",
    "b.\tCount how many null values are present in each column and display those counts \n",
    "\n",
    "c.\tPring the summary statistics for the entire data frame \n",
    "\n",
    "d.\tFill in missing values using the median. Show how many null values are present after handling missing values. \n",
    "\n"
   ]
  },
  {
   "cell_type": "code",
   "execution_count": 120,
   "id": "7b74bc0c-1acf-494a-b4cc-dcbea92721c9",
   "metadata": {
    "tags": []
   },
   "outputs": [],
   "source": [
    "# Package imports for this notebook \n",
    "import os # package to traverse the directories on your computer\n",
    "import pandas as pd # dataframe reading, writing, and manipulation\n",
    "import seaborn as sns # visualization library\n",
    "import matplotlib.pyplot as plt # visualization library "
   ]
  },
  {
   "cell_type": "code",
   "execution_count": 121,
   "id": "7f39b269-1ff7-4303-ace4-c09649cd9e0d",
   "metadata": {
    "tags": []
   },
   "outputs": [],
   "source": [
    "# Path to data\n",
    "# Change directories to path\n",
    "data_path = \"/Users/arnel/Downloads\"\n",
    "os.chdir(data_path)\n"
   ]
  },
  {
   "cell_type": "code",
   "execution_count": 148,
   "id": "f32a878c-ba68-4259-b1e8-4254689baa1d",
   "metadata": {
    "tags": []
   },
   "outputs": [],
   "source": [
    "# Import data\n",
    "df = pd.read_excel(\"public_emdat_project.xlsx\")\n",
    "df_1 = pd.read_csv(\"Weather Data.csv\")\n",
    "\n"
   ]
  },
  {
   "cell_type": "code",
   "execution_count": 123,
   "id": "22ec6441-8a64-4451-bc49-d77caa96c555",
   "metadata": {
    "tags": []
   },
   "outputs": [
    {
     "name": "stdout",
     "output_type": "stream",
     "text": [
      "\n",
      "Dataset Information:\n",
      "<class 'pandas.core.frame.DataFrame'>\n",
      "RangeIndex: 15784 entries, 0 to 15783\n",
      "Data columns (total 46 columns):\n",
      " #   Column                                     Non-Null Count  Dtype         \n",
      "---  ------                                     --------------  -----         \n",
      " 0   DisNo.                                     15784 non-null  object        \n",
      " 1   Historic                                   15784 non-null  object        \n",
      " 2   Classification Key                         15784 non-null  object        \n",
      " 3   Disaster Group                             15784 non-null  object        \n",
      " 4   Disaster Subgroup                          15784 non-null  object        \n",
      " 5   Disaster Type                              15784 non-null  object        \n",
      " 6   Disaster Subtype                           15784 non-null  object        \n",
      " 7   External IDs                               2405 non-null   object        \n",
      " 8   Event Name                                 4955 non-null   object        \n",
      " 9   ISO                                        15784 non-null  object        \n",
      " 10  Country                                    15784 non-null  object        \n",
      " 11  Subregion                                  15784 non-null  object        \n",
      " 12  Region                                     15784 non-null  object        \n",
      " 13  Location                                   15136 non-null  object        \n",
      " 14  Origin                                     3955 non-null   object        \n",
      " 15  Associated Types                           3296 non-null   object        \n",
      " 16  OFDA/BHA Response                          15784 non-null  object        \n",
      " 17  Appeal                                     15784 non-null  object        \n",
      " 18  Declaration                                15784 non-null  object        \n",
      " 19  AID Contribution ('000 US$)                490 non-null    float64       \n",
      " 20  Magnitude                                  3378 non-null   float64       \n",
      " 21  Magnitude Scale                            9892 non-null   object        \n",
      " 22  Latitude                                   1815 non-null   float64       \n",
      " 23  Longitude                                  1815 non-null   float64       \n",
      " 24  River Basin                                1212 non-null   object        \n",
      " 25  Start Year                                 15784 non-null  int64         \n",
      " 26  Start Month                                15715 non-null  float64       \n",
      " 27  Start Day                                  14275 non-null  float64       \n",
      " 28  End Year                                   15784 non-null  int64         \n",
      " 29  End Month                                  15622 non-null  float64       \n",
      " 30  End Day                                    14342 non-null  float64       \n",
      " 31  Total Deaths                               12655 non-null  float64       \n",
      " 32  No. Injured                                5790 non-null   float64       \n",
      " 33  No. Affected                               7172 non-null   float64       \n",
      " 34  No. Homeless                               1324 non-null   float64       \n",
      " 35  Total Affected                             11682 non-null  float64       \n",
      " 36  Reconstruction Costs ('000 US$)            33 non-null     float64       \n",
      " 37  Reconstruction Costs, Adjusted ('000 US$)  33 non-null     float64       \n",
      " 38  Insured Damage ('000 US$)                  695 non-null    float64       \n",
      " 39  Insured Damage, Adjusted ('000 US$)        694 non-null    float64       \n",
      " 40  Total Damage ('000 US$)                    3126 non-null   float64       \n",
      " 41  Total Damage, Adjusted ('000 US$)          3111 non-null   float64       \n",
      " 42  CPI                                        15621 non-null  float64       \n",
      " 43  Admin Units                                8498 non-null   object        \n",
      " 44  Entry Date                                 15784 non-null  datetime64[ns]\n",
      " 45  Last Update                                15784 non-null  datetime64[ns]\n",
      "dtypes: datetime64[ns](2), float64(20), int64(2), object(22)\n",
      "memory usage: 5.5+ MB\n",
      "None\n"
     ]
    }
   ],
   "source": [
    "# a.Display information of the dataset using df.info()\n",
    "\n",
    "print(\"\\nDataset Information:\")\n",
    "print(df.info()) # Checking the structure and information about the dataset\n"
   ]
  },
  {
   "cell_type": "code",
   "execution_count": 124,
   "id": "79195559-f3ed-401f-bef2-6a0cd55a81ac",
   "metadata": {
    "tags": []
   },
   "outputs": [
    {
     "name": "stdout",
     "output_type": "stream",
     "text": [
      "\n",
      "Missing values in each column:\n",
      "DisNo.                                           0\n",
      "Historic                                         0\n",
      "Classification Key                               0\n",
      "Disaster Group                                   0\n",
      "Disaster Subgroup                                0\n",
      "Disaster Type                                    0\n",
      "Disaster Subtype                                 0\n",
      "External IDs                                 13379\n",
      "Event Name                                   10829\n",
      "ISO                                              0\n",
      "Country                                          0\n",
      "Subregion                                        0\n",
      "Region                                           0\n",
      "Location                                       648\n",
      "Origin                                       11829\n",
      "Associated Types                             12488\n",
      "OFDA/BHA Response                                0\n",
      "Appeal                                           0\n",
      "Declaration                                      0\n",
      "AID Contribution ('000 US$)                  15294\n",
      "Magnitude                                    12406\n",
      "Magnitude Scale                               5892\n",
      "Latitude                                     13969\n",
      "Longitude                                    13969\n",
      "River Basin                                  14572\n",
      "Start Year                                       0\n",
      "Start Month                                     69\n",
      "Start Day                                     1509\n",
      "End Year                                         0\n",
      "End Month                                      162\n",
      "End Day                                       1442\n",
      "Total Deaths                                  3129\n",
      "No. Injured                                   9994\n",
      "No. Affected                                  8612\n",
      "No. Homeless                                 14460\n",
      "Total Affected                                4102\n",
      "Reconstruction Costs ('000 US$)              15751\n",
      "Reconstruction Costs, Adjusted ('000 US$)    15751\n",
      "Insured Damage ('000 US$)                    15089\n",
      "Insured Damage, Adjusted ('000 US$)          15090\n",
      "Total Damage ('000 US$)                      12658\n",
      "Total Damage, Adjusted ('000 US$)            12673\n",
      "CPI                                            163\n",
      "Admin Units                                   7286\n",
      "Entry Date                                       0\n",
      "Last Update                                      0\n",
      "dtype: int64\n"
     ]
    }
   ],
   "source": [
    "# b.Count how many null values are present in each column and display those counts\n",
    "\n",
    "print(\"\\nMissing values in each column:\")\n",
    "print(df.isnull().sum()) # Checking for missing values\n"
   ]
  },
  {
   "cell_type": "code",
   "execution_count": 125,
   "id": "5d33ef54-619a-4ca1-afb0-62e95acfaf3b",
   "metadata": {
    "tags": []
   },
   "outputs": [
    {
     "name": "stdout",
     "output_type": "stream",
     "text": [
      "\n",
      "Summary statistics of numerical columns:\n",
      "       AID Contribution ('000 US$)     Magnitude     Latitude    Longitude  \\\n",
      "count                 4.900000e+02  3.378000e+03  1815.000000  1815.000000   \n",
      "mean                  2.851070e+04  6.006125e+04    16.464334    42.139949   \n",
      "std                   2.116816e+05  7.412252e+05    21.776287    75.535413   \n",
      "min                   3.000000e+00 -5.700000e+01   -72.640000  -172.095000   \n",
      "25%                   1.660000e+02  7.600000e+00     1.102500     0.859500   \n",
      "50%                   7.665000e+02  1.900000e+02    18.590000    54.448200   \n",
      "75%                   4.951000e+03  2.049750e+04    34.816500   103.099000   \n",
      "max                   3.518530e+06  4.000000e+07    67.930000   179.650000   \n",
      "\n",
      "         Start Year   Start Month     Start Day      End Year     End Month  \\\n",
      "count  15784.000000  15715.000000  14275.000000  15784.000000  15622.000000   \n",
      "mean    2010.590155      6.448616     15.361331   2010.621706      6.572782   \n",
      "std        7.130697      3.420503      8.972848      7.134688      3.398380   \n",
      "min     2000.000000      1.000000      1.000000   2000.000000      1.000000   \n",
      "25%     2004.000000      4.000000      7.000000   2004.000000      4.000000   \n",
      "50%     2010.000000      7.000000     15.000000   2010.000000      7.000000   \n",
      "75%     2017.000000      9.000000     23.000000   2017.000000      9.000000   \n",
      "max     2024.000000     12.000000     31.000000   2024.000000     12.000000   \n",
      "\n",
      "            End Day  ...  No. Affected  No. Homeless  Total Affected  \\\n",
      "count  14342.000000  ...  7.172000e+03  1.324000e+03    1.168200e+04   \n",
      "mean      15.799749  ...  6.373147e+05  3.178635e+04    3.955015e+05   \n",
      "std        8.894060  ...  6.794417e+06  2.150570e+05    5.334026e+06   \n",
      "min        1.000000  ...  1.000000e+00  3.000000e+00    1.000000e+00   \n",
      "25%        8.000000  ...  6.000000e+02  3.472500e+02    4.000000e+01   \n",
      "50%       16.000000  ...  6.370000e+03  2.000000e+03    9.570000e+02   \n",
      "75%       24.000000  ...  6.000000e+04  7.351500e+03    1.668700e+04   \n",
      "max       31.000000  ...  3.300000e+08  5.000000e+06    3.300000e+08   \n",
      "\n",
      "       Reconstruction Costs ('000 US$)  \\\n",
      "count                     3.300000e+01   \n",
      "mean                      5.687264e+06   \n",
      "std                       1.745232e+07   \n",
      "min                       8.400000e+01   \n",
      "25%                       1.000000e+05   \n",
      "50%                       5.650000e+05   \n",
      "75%                       3.344000e+06   \n",
      "max                       1.000000e+08   \n",
      "\n",
      "       Reconstruction Costs, Adjusted ('000 US$)  Insured Damage ('000 US$)  \\\n",
      "count                               3.300000e+01               6.950000e+02   \n",
      "mean                                6.357118e+06               1.291425e+06   \n",
      "std                                 1.760343e+07               4.578385e+06   \n",
      "min                                 1.310000e+02               3.400000e+01   \n",
      "25%                                 1.000000e+05               7.400000e+04   \n",
      "50%                                 7.023360e+05               2.500000e+05   \n",
      "75%                                 4.245383e+06               8.000000e+05   \n",
      "max                                 1.000000e+08               6.000000e+07   \n",
      "\n",
      "       Insured Damage, Adjusted ('000 US$)  Total Damage ('000 US$)  \\\n",
      "count                         6.940000e+02             3.126000e+03   \n",
      "mean                          1.699765e+06             1.127098e+06   \n",
      "std                           5.954430e+06             6.237979e+06   \n",
      "min                           4.800000e+01             0.000000e+00   \n",
      "25%                           9.917050e+04             1.500000e+04   \n",
      "50%                           3.491245e+05             1.000000e+05   \n",
      "75%                           1.117445e+06             5.400000e+05   \n",
      "max                           9.361435e+07             2.100000e+08   \n",
      "\n",
      "       Total Damage, Adjusted ('000 US$)           CPI  \n",
      "count                       3.111000e+03  15621.000000  \n",
      "mean                        1.471953e+06     72.701827  \n",
      "std                         8.311406e+06     11.516895  \n",
      "min                         0.000000e+00     56.514291  \n",
      "25%                         2.123400e+04     61.989586  \n",
      "50%                         1.408780e+05     71.563596  \n",
      "75%                         7.145890e+05     78.767923  \n",
      "max                         2.844652e+08    100.000000  \n",
      "\n",
      "[8 rows x 22 columns]\n"
     ]
    }
   ],
   "source": [
    "# c. Pring the summary statistics for the entire data frame \n",
    " \n",
    "print(\"\\nSummary statistics of numerical columns:\")\n",
    "print(df.describe())# Summary statistics\n"
   ]
  },
  {
   "cell_type": "code",
   "execution_count": 126,
   "id": "0e5fff48-ba4c-4f6c-a0b0-6198a13d97f8",
   "metadata": {
    "tags": []
   },
   "outputs": [
    {
     "name": "stdout",
     "output_type": "stream",
     "text": [
      "\n",
      "Missing values after handling:\n",
      "DisNo.                                           0\n",
      "Historic                                         0\n",
      "Classification Key                               0\n",
      "Disaster Group                                   0\n",
      "Disaster Subgroup                                0\n",
      "Disaster Type                                    0\n",
      "Disaster Subtype                                 0\n",
      "External IDs                                 13379\n",
      "Event Name                                   10829\n",
      "ISO                                              0\n",
      "Country                                          0\n",
      "Subregion                                        0\n",
      "Region                                           0\n",
      "Location                                       648\n",
      "Origin                                       11829\n",
      "Associated Types                             12488\n",
      "OFDA/BHA Response                                0\n",
      "Appeal                                           0\n",
      "Declaration                                      0\n",
      "AID Contribution ('000 US$)                      0\n",
      "Magnitude                                        0\n",
      "Magnitude Scale                               5892\n",
      "Latitude                                     13969\n",
      "Longitude                                    13969\n",
      "River Basin                                  14572\n",
      "Start Year                                       0\n",
      "Start Month                                     69\n",
      "Start Day                                     1509\n",
      "End Year                                         0\n",
      "End Month                                      162\n",
      "End Day                                       1442\n",
      "Total Deaths                                     0\n",
      "No. Injured                                      0\n",
      "No. Affected                                     0\n",
      "No. Homeless                                     0\n",
      "Total Affected                                   0\n",
      "Reconstruction Costs ('000 US$)                  0\n",
      "Reconstruction Costs, Adjusted ('000 US$)        0\n",
      "Insured Damage ('000 US$)                        0\n",
      "Insured Damage, Adjusted ('000 US$)              0\n",
      "Total Damage ('000 US$)                          0\n",
      "Total Damage, Adjusted ('000 US$)                0\n",
      "CPI                                              0\n",
      "Admin Units                                   7286\n",
      "Entry Date                                       0\n",
      "Last Update                                      0\n",
      "dtype: int64\n"
     ]
    }
   ],
   "source": [
    "# d. Fill in missing values using the median. Show how many null values are present after handling missing values. \n",
    "\n",
    "# Skip columns like latitude, longitude, etc. \n",
    "skip_cols = [\"Latitude\", \"Longitude\", \"Start Year\", \"Start Month\", \"Start Day\", \"End Year\", \"End Month\", \"End Day\"]\n",
    "\n",
    "# Get a list of columns to fill excluding the skipped columns \n",
    "fill_cols = df.columns.difference(skip_cols)\n",
    "\n",
    "# Fill NaN values that are found only in the fill_cols list\n",
    "# Use .apply() to apply a function to each value in a column\n",
    "\n",
    "df[fill_cols] = df[fill_cols].apply(lambda x: x.fillna(x.median()) if x.dtype in ['float64', 'int64'] else x)\n",
    "\n",
    "# View count of missing values after handling\n",
    "print(\"\\nMissing values after handling:\")\n",
    "print(df.isnull().sum())\n"
   ]
  },
  {
   "cell_type": "markdown",
   "id": "ec383711-c2da-4c91-8b54-5a1a7c20e98d",
   "metadata": {
    "tags": []
   },
   "source": [
    "## 2)\tVisualizations using PLOTLY library – DISASTERS DATASET\n",
    "\n",
    "a.\tCreate a visual that shows disaster counts per year"
   ]
  },
  {
   "cell_type": "code",
   "execution_count": 127,
   "id": "0ad4ae80-c3c1-4f73-acf9-1c34eb65fda0",
   "metadata": {
    "tags": []
   },
   "outputs": [
    {
     "data": {
      "image/png": "[encoded data removed]",
      "text/plain": [
       "<Figure size 1000x600 with 1 Axes>"
      ]
     },
     "metadata": {},
     "output_type": "display_data"
    }
   ],
   "source": [
    "# Count plot for Disaster Types\n",
    "\n",
    "# Get the number of disasters per year by grouping by \"Start Year\" and counting how many times each year appears across the dataset\n",
    "disaster_per_year = df.groupby(\"Start Year\").agg(Count = pd.NamedAgg(\"Start Year\", \"count\")).sort_values(\"Start Year\").reset_index(drop = False)\n",
    "disaster_per_year\n",
    "\n",
    "# Number of disasters per year line plot\n",
    "plt.figure(figsize = (10, 6))\n",
    "sns.lineplot(data = disaster_per_year, x = \"Start Year\", y = \"Count\", marker = \"o\")\n",
    "plt.title('Number of Disasters per Year')\n",
    "plt.show()\n"
   ]
  },
  {
   "cell_type": "markdown",
   "id": "b99bc60c-6046-4db2-bac5-38329e664851",
   "metadata": {},
   "source": [
    "b.\tCreate a visual that shows the top 10 disasters by total fatalities\n"
   ]
  },
  {
   "cell_type": "code",
   "execution_count": 128,
   "id": "3caeb7cf-6f72-4bd2-a744-18635b688ac4",
   "metadata": {
    "tags": []
   },
   "outputs": [
    {
     "data": {
      "image/png": "[encoded data removed]",
      "text/plain": [
       "<Figure size 1000x600 with 1 Axes>"
      ]
     },
     "metadata": {},
     "output_type": "display_data"
    }
   ],
   "source": [
    "# Visualize the top 10 disasters by fatalities\n",
    "\n",
    "# Get the number of disasters per year by grouping by \"Disaster Type\" and \"Total Deaths\" and usingthe nlargest method to limit to 10\n",
    "top_disasters = df.groupby('Disaster Type')['Total Deaths'].sum().nlargest(10)\n",
    "plt.figure(figsize = (10, 6))\n",
    "sns.barplot(x = top_disasters.index, y = top_disasters.values)\n",
    "plt.title('Top 10 Disasters by Total Fatalities')\n",
    "plt.xticks(rotation = 90)\n",
    "plt.show()"
   ]
  },
  {
   "cell_type": "markdown",
   "id": "0f2c1940-29dc-4475-85a5-ae2294c7978e",
   "metadata": {},
   "source": [
    "c.\tCreate a correlation matrix heatmap\n",
    "    i.\tDescribe 3 things you notice"
   ]
  },
  {
   "cell_type": "code",
   "execution_count": 129,
   "id": "7113a810-416b-442c-9b09-5d6a0c1c3361",
   "metadata": {
    "tags": []
   },
   "outputs": [
    {
     "data": {
      "application/vnd.plotly.v1+json": {
       "config": {
        "plotlyServerURL": "https://plot.ly"
       },
       "data": [
        {
         "coloraxis": "coloraxis",
         "hovertemplate": "x: %{x}<br>y: %{y}<br>color: %{z}<extra></extra>",
         "name": "0",
         "texttemplate": "%{z}",
         "type": "heatmap",
         "x": [
          "AID Contribution ('000 US$)",
          "Magnitude",
          "Latitude",
          "Longitude",
          "Start Year",
          "Start Month",
          "Start Day",
          "End Year",
          "End Month",
          "End Day",
          "Total Deaths",
          "No. Injured",
          "No. Affected",
          "No. Homeless",
          "Total Affected",
          "Reconstruction Costs ('000 US$)",
          "Reconstruction Costs, Adjusted ('000 US$)",
          "Insured Damage ('000 US$)",
          "Insured Damage, Adjusted ('000 US$)",
          "Total Damage ('000 US$)",
          "Total Damage, Adjusted ('000 US$)",
          "CPI"
         ],
         "xaxis": "x",
         "y": [
          "AID Contribution ('000 US$)",
          "Magnitude",
          "Latitude",
          "Longitude",
          "Start Year",
          "Start Month",
          "Start Day",
          "End Year",
          "End Month",
          "End Day",
          "Total Deaths",
          "No. Injured",
          "No. Affected",
          "No. Homeless",
          "Total Affected",
          "Reconstruction Costs ('000 US$)",
          "Reconstruction Costs, Adjusted ('000 US$)",
          "Insured Damage ('000 US$)",
          "Insured Damage, Adjusted ('000 US$)",
          "Total Damage ('000 US$)",
          "Total Damage, Adjusted ('000 US$)",
          "CPI"
         ],
         "yaxis": "y",
         "z": [
          [
           1,
           0.0022060181609438096,
           0.007065709893070086,
           -0.0222812378193347,
           -0.005271864183951186,
           -0.009701133124198149,
           0.0030752252890568575,
           -0.004982884728938699,
           -0.007600555338859904,
           -0.009156644658637273,
           0.5679533600975483,
           0.13376151120219842,
           0.04205314521169917,
           0.010626874387678207,
           0.0426662144662418,
           0.0863769049859115,
           0.11956308195845114,
           0.04677824471311799,
           0.048746179220620744,
           0.15010985395160778,
           0.15487498280119688,
           -0.004879764189390401
          ],
          [
           0.0022060181609438096,
           1,
           -0.059593319501667914,
           -0.060735034938101076,
           0.002402085280031135,
           0.007448089952158117,
           -0.01397390398535944,
           0.0027456224780758164,
           0.007793061796790817,
           -0.009315164407517848,
           -0.00037410477664069923,
           0.002057952918548417,
           0.023555805908942063,
           0.002728731259576102,
           0.02360551177395566,
           -0.0004992703482160318,
           -0.0005407573980609917,
           -0.0008281553528775483,
           -0.0008134673597438699,
           0.0020792414810410107,
           0.0024002318636994796,
           0.00035167049766830153
          ],
          [
           0.007065709893070086,
           -0.059593319501667914,
           1,
           0.045896071426342416,
           -0.030519965866850688,
           0.09794937229187818,
           0.058396610436974125,
           -0.03377810307807524,
           0.1398545596065075,
           -0.009840242553346559,
           0.008308001655819438,
           0.023383432901924274,
           0.0370254283356945,
           0.010971690805854336,
           0.03754990812060042,
           0.025418934239617465,
           0.02431576736991246,
           0.0015501052822821627,
           0.0007826882794895896,
           0.04530334745171334,
           0.04215355414463701,
           -0.02811614695856905
          ],
          [
           -0.0222812378193347,
           -0.060735034938101076,
           0.045896071426342416,
           1,
           -0.010404413667621692,
           0.0022641965925011913,
           -0.0008832432398848739,
           -0.011596000292393703,
           0.010308271611512583,
           -0.05184491174643318,
           -0.0007477339426520228,
           0.009676005353129447,
           0.06447332379556905,
           0.02659617500329194,
           0.06577729575048623,
           -0.009430063819745241,
           -0.01174368724088793,
           0.0256266161916432,
           0.02419342832651211,
           0.041836827241584086,
           0.03976127254758431,
           -0.012166435355071491
          ],
          [
           -0.005271864183951186,
           0.002402085280031135,
           -0.030519965866850688,
           -0.010404413667621692,
           1,
           -0.04168466766022727,
           -0.012739939516572157,
           0.9995952274240855,
           -0.01913209926764743,
           -0.00013290107485129174,
           -0.006259290250419718,
           0.001905807694072388,
           -0.004399329300334968,
           -0.015728551245454424,
           -0.004543639593565041,
           0.01714463550536456,
           0.016700049206341064,
           0.024354609190353885,
           0.017767799040634774,
           0.034349490171840844,
           0.023182907853492116,
           0.9625900202942339
          ],
          [
           -0.009701133124198149,
           0.007448089952158117,
           0.09794937229187818,
           0.0022641965925011913,
           -0.04168466766022727,
           1,
           0.03711761678839666,
           -0.03913168286649985,
           0.8903878980301898,
           0.005019495037833187,
           -0.0030097383967118076,
           -0.01305774911257537,
           -0.014384550148795175,
           0.007682016671170472,
           -0.014324531054863837,
           -0.014544917929005089,
           -0.015272921865053855,
           0.007050643861462776,
           0.007344475959192222,
           -0.0014974549193364673,
           0.0006344984709615168,
           -0.02015135903733895
          ],
          [
           0.0030752252890568575,
           -0.01397390398535944,
           0.058396610436974125,
           -0.0008832432398848739,
           -0.012739939516572157,
           0.03711761678839666,
           1,
           -0.012424906171812064,
           0.031072674587983774,
           0.6857043597963071,
           -0.0022241734686571342,
           -0.018024329014824685,
           0.0001535661573860617,
           0.005853511126134816,
           0.0002113636088135763,
           -0.00893082616745569,
           -0.008574318556533152,
           0.01229309956265371,
           0.012330266006143405,
           0.006539131801994246,
           0.007763703921277968,
           -0.010215671795642815
          ],
          [
           -0.004982884728938699,
           0.0027456224780758164,
           -0.03377810307807524,
           -0.011596000292393703,
           0.9995952274240855,
           -0.03913168286649985,
           -0.012424906171812064,
           1,
           -0.02250902112194758,
           -0.0007510653004163434,
           -0.00616743485918785,
           0.002238688935071435,
           -0.0027154050077109687,
           -0.015819227007561262,
           -0.002858728447683415,
           0.01707496569637756,
           0.016624714400593172,
           0.024249908954915165,
           0.01767046614362454,
           0.03438144090596977,
           0.023227444282817283,
           0.9621920696753795
          ],
          [
           -0.007600555338859904,
           0.007793061796790817,
           0.1398545596065075,
           0.010308271611512583,
           -0.01913209926764743,
           0.8903878980301898,
           0.031072674587983774,
           -0.02250902112194758,
           1,
           0.0004896514057898786,
           0.0017198203039320863,
           0.002570610953186283,
           0.013676388224750433,
           0.009426992977871827,
           0.013841215694623626,
           -0.014540483663390714,
           -0.015304737821603737,
           0.012596558299508905,
           0.012596118661131257,
           0.007484038634554273,
           0.008462205825971045,
           0.002996347465863495
          ],
          [
           -0.009156644658637273,
           -0.009315164407517848,
           -0.009840242553346559,
           -0.05184491174643318,
           -0.00013290107485129174,
           0.005019495037833187,
           0.6857043597963071,
           -0.0007510653004163434,
           0.0004896514057898786,
           1,
           -0.005150704676155158,
           -0.001481707195425175,
           0.01294823865643321,
           0.003145713998686652,
           0.013001604907939305,
           -0.00966152202421689,
           -0.009346228772800919,
           -0.003607907822055125,
           -0.001983826183927654,
           -0.000356890837167875,
           0.0011779318876465668,
           0.0003524373360401209
          ],
          [
           0.5679533600975483,
           -0.00037410477664069923,
           0.008308001655819438,
           -0.0007477339426520228,
           -0.006259290250419718,
           -0.0030097383967118076,
           -0.0022241734686571342,
           -0.00616743485918785,
           0.0017198203039320863,
           -0.005150704676155158,
           1,
           0.18148206261549354,
           0.033009662972290056,
           0.18704944151533173,
           0.036198706751631116,
           0.24436151308244228,
           0.28253971115130283,
           0.018842663691154487,
           0.02010284717285482,
           0.1437874236723357,
           0.1484748914041206,
           -0.003713164734532547
          ],
          [
           0.13376151120219842,
           0.002057952918548417,
           0.023383432901924274,
           0.009676005353129447,
           0.001905807694072388,
           -0.01305774911257537,
           -0.018024329014824685,
           0.002238688935071435,
           0.002570610953186283,
           -0.001481707195425175,
           0.18148206261549354,
           1,
           0.03984058280049304,
           0.06636775323395983,
           0.04422142739547089,
           0.08848706656164503,
           0.1021790300754274,
           7.611446124204885e-05,
           0.00014527578880521965,
           0.05867033192294842,
           0.06141267560706539,
           0.0014877784701102634
          ],
          [
           0.04205314521169917,
           0.023555805908942063,
           0.0370254283356945,
           0.06447332379556905,
           -0.004399329300334968,
           -0.014384550148795175,
           0.0001535661573860617,
           -0.0027154050077109687,
           0.013676388224750433,
           0.01294823865643321,
           0.033009662972290056,
           0.03984058280049304,
           1,
           0.003180084529654511,
           0.9998969685818987,
           0.030014227465995438,
           0.032962571230241274,
           0.002433102133048189,
           0.002576650151444873,
           0.08035537956311434,
           0.08466048110936739,
           -0.0054879525140658575
          ],
          [
           0.010626874387678207,
           0.002728731259576102,
           0.010971690805854336,
           0.02659617500329194,
           -0.015728551245454424,
           0.007682016671170472,
           0.005853511126134816,
           -0.015819227007561262,
           0.009426992977871827,
           0.003145713998686652,
           0.18704944151533173,
           0.06636775323395983,
           0.003180084529654511,
           1,
           0.01709259574396282,
           0.03894525558976379,
           0.05920223408126068,
           0.014847143531187157,
           0.015363078154666329,
           0.03724241076401967,
           0.04121277946693242,
           -0.014790382650700717
          ],
          [
           0.0426662144662418,
           0.02360551177395566,
           0.03754990812060042,
           0.06577729575048623,
           -0.004543639593565041,
           -0.014324531054863837,
           0.0002113636088135763,
           -0.002858728447683415,
           0.013841215694623626,
           0.013001604907939305,
           0.036198706751631116,
           0.04422142739547089,
           0.9998969685818987,
           0.01709259574396282,
           1,
           0.03085417487843076,
           0.034127027503258335,
           0.002646632829514741,
           0.0027984910291291346,
           0.08106779545310865,
           0.0854356210431553,
           -0.00562510675306887
          ],
          [
           0.0863769049859115,
           -0.0004992703482160318,
           0.025418934239617465,
           -0.009430063819745241,
           0.01714463550536456,
           -0.014544917929005089,
           -0.00893082616745569,
           0.01707496569637756,
           -0.014540483663390714,
           -0.00966152202421689,
           0.24436151308244228,
           0.08848706656164503,
           0.030014227465995438,
           0.03894525558976379,
           0.03085417487843076,
           1,
           0.9971431578353577,
           0.0055455792233431184,
           0.006005023283174398,
           0.13158777471217656,
           0.10953071063606243,
           0.022966925041010087
          ],
          [
           0.11956308195845114,
           -0.0005407573980609917,
           0.02431576736991246,
           -0.01174368724088793,
           0.016700049206341064,
           -0.015272921865053855,
           -0.008574318556533152,
           0.016624714400593172,
           -0.015304737821603737,
           -0.009346228772800919,
           0.28253971115130283,
           0.1021790300754274,
           0.032962571230241274,
           0.05920223408126068,
           0.034127027503258335,
           0.9971431578353577,
           1,
           0.007927919467413875,
           0.008573859129098776,
           0.14359043919368136,
           0.12278876833435046,
           0.022419328994373343
          ],
          [
           0.04677824471311799,
           -0.0008281553528775483,
           0.0015501052822821627,
           0.0256266161916432,
           0.024354609190353885,
           0.007050643861462776,
           0.01229309956265371,
           0.024249908954915165,
           0.012596558299508905,
           -0.003607907822055125,
           0.018842663691154487,
           7.611446124204885e-05,
           0.002433102133048189,
           0.014847143531187157,
           0.002646632829514741,
           0.0055455792233431184,
           0.007927919467413875,
           1,
           0.9879014064253152,
           0.813923572153405,
           0.7986820417860987,
           0.024228002680372278
          ],
          [
           0.048746179220620744,
           -0.0008134673597438699,
           0.0007826882794895896,
           0.02419342832651211,
           0.017767799040634774,
           0.007344475959192222,
           0.012330266006143405,
           0.01767046614362454,
           0.012596118661131257,
           -0.001983826183927654,
           0.02010284717285482,
           0.00014527578880521965,
           0.002576650151444873,
           0.015363078154666329,
           0.0027984910291291346,
           0.006005023283174398,
           0.008573859129098776,
           0.9879014064253152,
           1,
           0.8159518318678696,
           0.8164640250219837,
           0.017399256432283298
          ],
          [
           0.15010985395160778,
           0.0020792414810410107,
           0.04530334745171334,
           0.041836827241584086,
           0.034349490171840844,
           -0.0014974549193364673,
           0.006539131801994246,
           0.03438144090596977,
           0.007484038634554273,
           -0.000356890837167875,
           0.1437874236723357,
           0.05867033192294842,
           0.08035537956311434,
           0.03724241076401967,
           0.08106779545310865,
           0.13158777471217656,
           0.14359043919368136,
           0.813923572153405,
           0.8159518318678696,
           1,
           0.9919722742046437,
           0.0345000175103135
          ],
          [
           0.15487498280119688,
           0.0024002318636994796,
           0.04215355414463701,
           0.03976127254758431,
           0.023182907853492116,
           0.0006344984709615168,
           0.007763703921277968,
           0.023227444282817283,
           0.008462205825971045,
           0.0011779318876465668,
           0.1484748914041206,
           0.06141267560706539,
           0.08466048110936739,
           0.04121277946693242,
           0.0854356210431553,
           0.10953071063606243,
           0.12278876833435046,
           0.7986820417860987,
           0.8164640250219837,
           0.9919722742046437,
           1,
           0.023931547695671608
          ],
          [
           -0.004879764189390401,
           0.00035167049766830153,
           -0.02811614695856905,
           -0.012166435355071491,
           0.9625900202942339,
           -0.02015135903733895,
           -0.010215671795642815,
           0.9621920696753795,
           0.002996347465863495,
           0.0003524373360401209,
           -0.003713164734532547,
           0.0014877784701102634,
           -0.0054879525140658575,
           -0.014790382650700717,
           -0.00562510675306887,
           0.022966925041010087,
           0.022419328994373343,
           0.024228002680372278,
           0.017399256432283298,
           0.0345000175103135,
           0.023931547695671608,
           1
          ]
         ]
        }
       ],
       "layout": {
        "coloraxis": {
         "colorscale": [
          [
           0,
           "#0d0887"
          ],
          [
           0.1111111111111111,
           "#46039f"
          ],
          [
           0.2222222222222222,
           "#7201a8"
          ],
          [
           0.3333333333333333,
           "#9c179e"
          ],
          [
           0.4444444444444444,
           "#bd3786"
          ],
          [
           0.5555555555555556,
           "#d8576b"
          ],
          [
           0.6666666666666666,
           "#ed7953"
          ],
          [
           0.7777777777777778,
           "#fb9f3a"
          ],
          [
           0.8888888888888888,
           "#fdca26"
          ],
          [
           1,
           "#f0f921"
          ]
         ]
        },
        "height": 700,
        "margin": {
         "t": 60
        },
        "template": {
         "data": {
          "bar": [
           {
            "error_x": {
             "color": "#2a3f5f"
            },
            "error_y": {
             "color": "#2a3f5f"
            },
            "marker": {
             "line": {
              "color": "#E5ECF6",
              "width": 0.5
             },
             "pattern": {
              "fillmode": "overlay",
              "size": 10,
              "solidity": 0.2
             }
            },
            "type": "bar"
           }
          ],
          "barpolar": [
           {
            "marker": {
             "line": {
              "color": "#E5ECF6",
              "width": 0.5
             },
             "pattern": {
              "fillmode": "overlay",
              "size": 10,
              "solidity": 0.2
             }
            },
            "type": "barpolar"
           }
          ],
          "carpet": [
           {
            "aaxis": {
             "endlinecolor": "#2a3f5f",
             "gridcolor": "white",
             "linecolor": "white",
             "minorgridcolor": "white",
             "startlinecolor": "#2a3f5f"
            },
            "baxis": {
             "endlinecolor": "#2a3f5f",
             "gridcolor": "white",
             "linecolor": "white",
             "minorgridcolor": "white",
             "startlinecolor": "#2a3f5f"
            },
            "type": "carpet"
           }
          ],
          "choropleth": [
           {
            "colorbar": {
             "outlinewidth": 0,
             "ticks": ""
            },
            "type": "choropleth"
           }
          ],
          "contour": [
           {
            "colorbar": {
             "outlinewidth": 0,
             "ticks": ""
            },
            "colorscale": [
             [
              0,
              "#0d0887"
             ],
             [
              0.1111111111111111,
              "#46039f"
             ],
             [
              0.2222222222222222,
              "#7201a8"
             ],
             [
              0.3333333333333333,
              "#9c179e"
             ],
             [
              0.4444444444444444,
              "#bd3786"
             ],
             [
              0.5555555555555556,
              "#d8576b"
             ],
             [
              0.6666666666666666,
              "#ed7953"
             ],
             [
              0.7777777777777778,
              "#fb9f3a"
             ],
             [
              0.8888888888888888,
              "#fdca26"
             ],
             [
              1,
              "#f0f921"
             ]
            ],
            "type": "contour"
           }
          ],
          "contourcarpet": [
           {
            "colorbar": {
             "outlinewidth": 0,
             "ticks": ""
            },
            "type": "contourcarpet"
           }
          ],
          "heatmap": [
           {
            "colorbar": {
             "outlinewidth": 0,
             "ticks": ""
            },
            "colorscale": [
             [
              0,
              "#0d0887"
             ],
             [
              0.1111111111111111,
              "#46039f"
             ],
             [
              0.2222222222222222,
              "#7201a8"
             ],
             [
              0.3333333333333333,
              "#9c179e"
             ],
             [
              0.4444444444444444,
              "#bd3786"
             ],
             [
              0.5555555555555556,
              "#d8576b"
             ],
             [
              0.6666666666666666,
              "#ed7953"
             ],
             [
              0.7777777777777778,
              "#fb9f3a"
             ],
             [
              0.8888888888888888,
              "#fdca26"
             ],
             [
              1,
              "#f0f921"
             ]
            ],
            "type": "heatmap"
           }
          ],
          "heatmapgl": [
           {
            "colorbar": {
             "outlinewidth": 0,
             "ticks": ""
            },
            "colorscale": [
             [
              0,
              "#0d0887"
             ],
             [
              0.1111111111111111,
              "#46039f"
             ],
             [
              0.2222222222222222,
              "#7201a8"
             ],
             [
              0.3333333333333333,
              "#9c179e"
             ],
             [
              0.4444444444444444,
              "#bd3786"
             ],
             [
              0.5555555555555556,
              "#d8576b"
             ],
             [
              0.6666666666666666,
              "#ed7953"
             ],
             [
              0.7777777777777778,
              "#fb9f3a"
             ],
             [
              0.8888888888888888,
              "#fdca26"
             ],
             [
              1,
              "#f0f921"
             ]
            ],
            "type": "heatmapgl"
           }
          ],
          "histogram": [
           {
            "marker": {
             "pattern": {
              "fillmode": "overlay",
              "size": 10,
              "solidity": 0.2
             }
            },
            "type": "histogram"
           }
          ],
          "histogram2d": [
           {
            "colorbar": {
             "outlinewidth": 0,
             "ticks": ""
            },
            "colorscale": [
             [
              0,
              "#0d0887"
             ],
             [
              0.1111111111111111,
              "#46039f"
             ],
             [
              0.2222222222222222,
              "#7201a8"
             ],
             [
              0.3333333333333333,
              "#9c179e"
             ],
             [
              0.4444444444444444,
              "#bd3786"
             ],
             [
              0.5555555555555556,
              "#d8576b"
             ],
             [
              0.6666666666666666,
              "#ed7953"
             ],
             [
              0.7777777777777778,
              "#fb9f3a"
             ],
             [
              0.8888888888888888,
              "#fdca26"
             ],
             [
              1,
              "#f0f921"
             ]
            ],
            "type": "histogram2d"
           }
          ],
          "histogram2dcontour": [
           {
            "colorbar": {
             "outlinewidth": 0,
             "ticks": ""
            },
            "colorscale": [
             [
              0,
              "#0d0887"
             ],
             [
              0.1111111111111111,
              "#46039f"
             ],
             [
              0.2222222222222222,
              "#7201a8"
             ],
             [
              0.3333333333333333,
              "#9c179e"
             ],
             [
              0.4444444444444444,
              "#bd3786"
             ],
             [
              0.5555555555555556,
              "#d8576b"
             ],
             [
              0.6666666666666666,
              "#ed7953"
             ],
             [
              0.7777777777777778,
              "#fb9f3a"
             ],
             [
              0.8888888888888888,
              "#fdca26"
             ],
             [
              1,
              "#f0f921"
             ]
            ],
            "type": "histogram2dcontour"
           }
          ],
          "mesh3d": [
           {
            "colorbar": {
             "outlinewidth": 0,
             "ticks": ""
            },
            "type": "mesh3d"
           }
          ],
          "parcoords": [
           {
            "line": {
             "colorbar": {
              "outlinewidth": 0,
              "ticks": ""
             }
            },
            "type": "parcoords"
           }
          ],
          "pie": [
           {
            "automargin": true,
            "type": "pie"
           }
          ],
          "scatter": [
           {
            "fillpattern": {
             "fillmode": "overlay",
             "size": 10,
             "solidity": 0.2
            },
            "type": "scatter"
           }
          ],
          "scatter3d": [
           {
            "line": {
             "colorbar": {
              "outlinewidth": 0,
              "ticks": ""
             }
            },
            "marker": {
             "colorbar": {
              "outlinewidth": 0,
              "ticks": ""
             }
            },
            "type": "scatter3d"
           }
          ],
          "scattercarpet": [
           {
            "marker": {
             "colorbar": {
              "outlinewidth": 0,
              "ticks": ""
             }
            },
            "type": "scattercarpet"
           }
          ],
          "scattergeo": [
           {
            "marker": {
             "colorbar": {
              "outlinewidth": 0,
              "ticks": ""
             }
            },
            "type": "scattergeo"
           }
          ],
          "scattergl": [
           {
            "marker": {
             "colorbar": {
              "outlinewidth": 0,
              "ticks": ""
             }
            },
            "type": "scattergl"
           }
          ],
          "scattermapbox": [
           {
            "marker": {
             "colorbar": {
              "outlinewidth": 0,
              "ticks": ""
             }
            },
            "type": "scattermapbox"
           }
          ],
          "scatterpolar": [
           {
            "marker": {
             "colorbar": {
              "outlinewidth": 0,
              "ticks": ""
             }
            },
            "type": "scatterpolar"
           }
          ],
          "scatterpolargl": [
           {
            "marker": {
             "colorbar": {
              "outlinewidth": 0,
              "ticks": ""
             }
            },
            "type": "scatterpolargl"
           }
          ],
          "scatterternary": [
           {
            "marker": {
             "colorbar": {
              "outlinewidth": 0,
              "ticks": ""
             }
            },
            "type": "scatterternary"
           }
          ],
          "surface": [
           {
            "colorbar": {
             "outlinewidth": 0,
             "ticks": ""
            },
            "colorscale": [
             [
              0,
              "#0d0887"
             ],
             [
              0.1111111111111111,
              "#46039f"
             ],
             [
              0.2222222222222222,
              "#7201a8"
             ],
             [
              0.3333333333333333,
              "#9c179e"
             ],
             [
              0.4444444444444444,
              "#bd3786"
             ],
             [
              0.5555555555555556,
              "#d8576b"
             ],
             [
              0.6666666666666666,
              "#ed7953"
             ],
             [
              0.7777777777777778,
              "#fb9f3a"
             ],
             [
              0.8888888888888888,
              "#fdca26"
             ],
             [
              1,
              "#f0f921"
             ]
            ],
            "type": "surface"
           }
          ],
          "table": [
           {
            "cells": {
             "fill": {
              "color": "#EBF0F8"
             },
             "line": {
              "color": "white"
             }
            },
            "header": {
             "fill": {
              "color": "#C8D4E3"
             },
             "line": {
              "color": "white"
             }
            },
            "type": "table"
           }
          ]
         },
         "layout": {
          "annotationdefaults": {
           "arrowcolor": "#2a3f5f",
           "arrowhead": 0,
           "arrowwidth": 1
          },
          "autotypenumbers": "strict",
          "coloraxis": {
           "colorbar": {
            "outlinewidth": 0,
            "ticks": ""
           }
          },
          "colorscale": {
           "diverging": [
            [
             0,
             "#8e0152"
            ],
            [
             0.1,
             "#c51b7d"
            ],
            [
             0.2,
             "#de77ae"
            ],
            [
             0.3,
             "#f1b6da"
            ],
            [
             0.4,
             "#fde0ef"
            ],
            [
             0.5,
             "#f7f7f7"
            ],
            [
             0.6,
             "#e6f5d0"
            ],
            [
             0.7,
             "#b8e186"
            ],
            [
             0.8,
             "#7fbc41"
            ],
            [
             0.9,
             "#4d9221"
            ],
            [
             1,
             "#276419"
            ]
           ],
           "sequential": [
            [
             0,
             "#0d0887"
            ],
            [
             0.1111111111111111,
             "#46039f"
            ],
            [
             0.2222222222222222,
             "#7201a8"
            ],
            [
             0.3333333333333333,
             "#9c179e"
            ],
            [
             0.4444444444444444,
             "#bd3786"
            ],
            [
             0.5555555555555556,
             "#d8576b"
            ],
            [
             0.6666666666666666,
             "#ed7953"
            ],
            [
             0.7777777777777778,
             "#fb9f3a"
            ],
            [
             0.8888888888888888,
             "#fdca26"
            ],
            [
             1,
             "#f0f921"
            ]
           ],
           "sequentialminus": [
            [
             0,
             "#0d0887"
            ],
            [
             0.1111111111111111,
             "#46039f"
            ],
            [
             0.2222222222222222,
             "#7201a8"
            ],
            [
             0.3333333333333333,
             "#9c179e"
            ],
            [
             0.4444444444444444,
             "#bd3786"
            ],
            [
             0.5555555555555556,
             "#d8576b"
            ],
            [
             0.6666666666666666,
             "#ed7953"
            ],
            [
             0.7777777777777778,
             "#fb9f3a"
            ],
            [
             0.8888888888888888,
             "#fdca26"
            ],
            [
             1,
             "#f0f921"
            ]
           ]
          },
          "colorway": [
           "#636efa",
           "#EF553B",
           "#00cc96",
           "#ab63fa",
           "#FFA15A",
           "#19d3f3",
           "#FF6692",
           "#B6E880",
           "#FF97FF",
           "#FECB52"
          ],
          "font": {
           "color": "#2a3f5f"
          },
          "geo": {
           "bgcolor": "white",
           "lakecolor": "white",
           "landcolor": "#E5ECF6",
           "showlakes": true,
           "showland": true,
           "subunitcolor": "white"
          },
          "hoverlabel": {
           "align": "left"
          },
          "hovermode": "closest",
          "mapbox": {
           "style": "light"
          },
          "paper_bgcolor": "white",
          "plot_bgcolor": "#E5ECF6",
          "polar": {
           "angularaxis": {
            "gridcolor": "white",
            "linecolor": "white",
            "ticks": ""
           },
           "bgcolor": "#E5ECF6",
           "radialaxis": {
            "gridcolor": "white",
            "linecolor": "white",
            "ticks": ""
           }
          },
          "scene": {
           "xaxis": {
            "backgroundcolor": "#E5ECF6",
            "gridcolor": "white",
            "gridwidth": 2,
            "linecolor": "white",
            "showbackground": true,
            "ticks": "",
            "zerolinecolor": "white"
           },
           "yaxis": {
            "backgroundcolor": "#E5ECF6",
            "gridcolor": "white",
            "gridwidth": 2,
            "linecolor": "white",
            "showbackground": true,
            "ticks": "",
            "zerolinecolor": "white"
           },
           "zaxis": {
            "backgroundcolor": "#E5ECF6",
            "gridcolor": "white",
            "gridwidth": 2,
            "linecolor": "white",
            "showbackground": true,
            "ticks": "",
            "zerolinecolor": "white"
           }
          },
          "shapedefaults": {
           "line": {
            "color": "#2a3f5f"
           }
          },
          "ternary": {
           "aaxis": {
            "gridcolor": "white",
            "linecolor": "white",
            "ticks": ""
           },
           "baxis": {
            "gridcolor": "white",
            "linecolor": "white",
            "ticks": ""
           },
           "bgcolor": "#E5ECF6",
           "caxis": {
            "gridcolor": "white",
            "linecolor": "white",
            "ticks": ""
           }
          },
          "title": {
           "x": 0.05
          },
          "xaxis": {
           "automargin": true,
           "gridcolor": "white",
           "linecolor": "white",
           "ticks": "",
           "title": {
            "standoff": 15
           },
           "zerolinecolor": "white",
           "zerolinewidth": 2
          },
          "yaxis": {
           "automargin": true,
           "gridcolor": "white",
           "linecolor": "white",
           "ticks": "",
           "title": {
            "standoff": 15
           },
           "zerolinecolor": "white",
           "zerolinewidth": 2
          }
         }
        },
        "width": 1500,
        "xaxis": {
         "anchor": "y",
         "autorange": true,
         "domain": [
          0,
          1
         ],
         "range": [
          -0.5,
          21.5
         ],
         "type": "category"
        },
        "yaxis": {
         "anchor": "x",
         "autorange": true,
         "domain": [
          0,
          1
         ],
         "range": [
          21.5,
          -0.5
         ],
         "type": "category"
        }
       }
      },
      "image/png": "[encoded data removed]",
      "text/html": [
       "<div>                            <div id=\"dd8e1d75-c440-4fcf-b567-693575d6f5d9\" class=\"plotly-graph-div\" style=\"height:700px; width:1500px;\"></div>            <script type=\"text/javascript\">                require([\"plotly\"], function(Plotly) {                    window.PLOTLYENV=window.PLOTLYENV || {};                                    if (document.getElementById(\"dd8e1d75-c440-4fcf-b567-693575d6f5d9\")) {                    Plotly.newPlot(                        \"dd8e1d75-c440-4fcf-b567-693575d6f5d9\",                        [{\"coloraxis\":\"coloraxis\",\"name\":\"0\",\"texttemplate\":\"%{z}\",\"x\":[\"AID Contribution ('000 US$)\",\"Magnitude\",\"Latitude\",\"Longitude\",\"Start Year\",\"Start Month\",\"Start Day\",\"End Year\",\"End Month\",\"End Day\",\"Total Deaths\",\"No. Injured\",\"No. Affected\",\"No. Homeless\",\"Total Affected\",\"Reconstruction Costs ('000 US$)\",\"Reconstruction Costs, Adjusted ('000 US$)\",\"Insured Damage ('000 US$)\",\"Insured Damage, Adjusted ('000 US$)\",\"Total Damage ('000 US$)\",\"Total Damage, Adjusted ('000 US$)\",\"CPI\"],\"y\":[\"AID Contribution ('000 US$)\",\"Magnitude\",\"Latitude\",\"Longitude\",\"Start Year\",\"Start Month\",\"Start Day\",\"End Year\",\"End Month\",\"End Day\",\"Total Deaths\",\"No. Injured\",\"No. Affected\",\"No. Homeless\",\"Total Affected\",\"Reconstruction Costs ('000 US$)\",\"Reconstruction Costs, Adjusted ('000 US$)\",\"Insured Damage ('000 US$)\",\"Insured Damage, Adjusted ('000 US$)\",\"Total Damage ('000 US$)\",\"Total Damage, Adjusted ('000 US$)\",\"CPI\"],\"z\":[[1.0,0.0022060181609438096,0.007065709893070086,-0.0222812378193347,-0.005271864183951186,-0.009701133124198149,0.0030752252890568575,-0.004982884728938699,-0.007600555338859904,-0.009156644658637273,0.5679533600975483,0.13376151120219842,0.04205314521169917,0.010626874387678207,0.0426662144662418,0.0863769049859115,0.11956308195845114,0.04677824471311799,0.048746179220620744,0.15010985395160778,0.15487498280119688,-0.004879764189390401],[0.0022060181609438096,1.0,-0.059593319501667914,-0.060735034938101076,0.002402085280031135,0.007448089952158117,-0.01397390398535944,0.0027456224780758164,0.007793061796790817,-0.009315164407517848,-0.00037410477664069923,0.002057952918548417,0.023555805908942063,0.002728731259576102,0.02360551177395566,-0.0004992703482160318,-0.0005407573980609917,-0.0008281553528775483,-0.0008134673597438699,0.0020792414810410107,0.0024002318636994796,0.00035167049766830153],[0.007065709893070086,-0.059593319501667914,1.0,0.045896071426342416,-0.030519965866850688,0.09794937229187818,0.058396610436974125,-0.03377810307807524,0.1398545596065075,-0.009840242553346559,0.008308001655819438,0.023383432901924274,0.0370254283356945,0.010971690805854336,0.03754990812060042,0.025418934239617465,0.02431576736991246,0.0015501052822821627,0.0007826882794895896,0.04530334745171334,0.04215355414463701,-0.02811614695856905],[-0.0222812378193347,-0.060735034938101076,0.045896071426342416,1.0,-0.010404413667621692,0.0022641965925011913,-0.0008832432398848739,-0.011596000292393703,0.010308271611512583,-0.05184491174643318,-0.0007477339426520228,0.009676005353129447,0.06447332379556905,0.02659617500329194,0.06577729575048623,-0.009430063819745241,-0.01174368724088793,0.0256266161916432,0.02419342832651211,0.041836827241584086,0.03976127254758431,-0.012166435355071491],[-0.005271864183951186,0.002402085280031135,-0.030519965866850688,-0.010404413667621692,1.0,-0.04168466766022727,-0.012739939516572157,0.9995952274240855,-0.01913209926764743,-0.00013290107485129174,-0.006259290250419718,0.001905807694072388,-0.004399329300334968,-0.015728551245454424,-0.004543639593565041,0.01714463550536456,0.016700049206341064,0.024354609190353885,0.017767799040634774,0.034349490171840844,0.023182907853492116,0.9625900202942339],[-0.009701133124198149,0.007448089952158117,0.09794937229187818,0.0022641965925011913,-0.04168466766022727,1.0,0.03711761678839666,-0.03913168286649985,0.8903878980301898,0.005019495037833187,-0.0030097383967118076,-0.01305774911257537,-0.014384550148795175,0.007682016671170472,-0.014324531054863837,-0.014544917929005089,-0.015272921865053855,0.007050643861462776,0.007344475959192222,-0.0014974549193364673,0.0006344984709615168,-0.02015135903733895],[0.0030752252890568575,-0.01397390398535944,0.058396610436974125,-0.0008832432398848739,-0.012739939516572157,0.03711761678839666,1.0,-0.012424906171812064,0.031072674587983774,0.6857043597963071,-0.0022241734686571342,-0.018024329014824685,0.0001535661573860617,0.005853511126134816,0.0002113636088135763,-0.00893082616745569,-0.008574318556533152,0.01229309956265371,0.012330266006143405,0.006539131801994246,0.007763703921277968,-0.010215671795642815],[-0.004982884728938699,0.0027456224780758164,-0.03377810307807524,-0.011596000292393703,0.9995952274240855,-0.03913168286649985,-0.012424906171812064,1.0,-0.02250902112194758,-0.0007510653004163434,-0.00616743485918785,0.002238688935071435,-0.0027154050077109687,-0.015819227007561262,-0.002858728447683415,0.01707496569637756,0.016624714400593172,0.024249908954915165,0.01767046614362454,0.03438144090596977,0.023227444282817283,0.9621920696753795],[-0.007600555338859904,0.007793061796790817,0.1398545596065075,0.010308271611512583,-0.01913209926764743,0.8903878980301898,0.031072674587983774,-0.02250902112194758,1.0,0.0004896514057898786,0.0017198203039320863,0.002570610953186283,0.013676388224750433,0.009426992977871827,0.013841215694623626,-0.014540483663390714,-0.015304737821603737,0.012596558299508905,0.012596118661131257,0.007484038634554273,0.008462205825971045,0.002996347465863495],[-0.009156644658637273,-0.009315164407517848,-0.009840242553346559,-0.05184491174643318,-0.00013290107485129174,0.005019495037833187,0.6857043597963071,-0.0007510653004163434,0.0004896514057898786,1.0,-0.005150704676155158,-0.001481707195425175,0.01294823865643321,0.003145713998686652,0.013001604907939305,-0.00966152202421689,-0.009346228772800919,-0.003607907822055125,-0.001983826183927654,-0.000356890837167875,0.0011779318876465668,0.0003524373360401209],[0.5679533600975483,-0.00037410477664069923,0.008308001655819438,-0.0007477339426520228,-0.006259290250419718,-0.0030097383967118076,-0.0022241734686571342,-0.00616743485918785,0.0017198203039320863,-0.005150704676155158,1.0,0.18148206261549354,0.033009662972290056,0.18704944151533173,0.036198706751631116,0.24436151308244228,0.28253971115130283,0.018842663691154487,0.02010284717285482,0.1437874236723357,0.1484748914041206,-0.003713164734532547],[0.13376151120219842,0.002057952918548417,0.023383432901924274,0.009676005353129447,0.001905807694072388,-0.01305774911257537,-0.018024329014824685,0.002238688935071435,0.002570610953186283,-0.001481707195425175,0.18148206261549354,1.0,0.03984058280049304,0.06636775323395983,0.04422142739547089,0.08848706656164503,0.1021790300754274,7.611446124204885e-05,0.00014527578880521965,0.05867033192294842,0.06141267560706539,0.0014877784701102634],[0.04205314521169917,0.023555805908942063,0.0370254283356945,0.06447332379556905,-0.004399329300334968,-0.014384550148795175,0.0001535661573860617,-0.0027154050077109687,0.013676388224750433,0.01294823865643321,0.033009662972290056,0.03984058280049304,1.0,0.003180084529654511,0.9998969685818987,0.030014227465995438,0.032962571230241274,0.002433102133048189,0.002576650151444873,0.08035537956311434,0.08466048110936739,-0.0054879525140658575],[0.010626874387678207,0.002728731259576102,0.010971690805854336,0.02659617500329194,-0.015728551245454424,0.007682016671170472,0.005853511126134816,-0.015819227007561262,0.009426992977871827,0.003145713998686652,0.18704944151533173,0.06636775323395983,0.003180084529654511,1.0,0.01709259574396282,0.03894525558976379,0.05920223408126068,0.014847143531187157,0.015363078154666329,0.03724241076401967,0.04121277946693242,-0.014790382650700717],[0.0426662144662418,0.02360551177395566,0.03754990812060042,0.06577729575048623,-0.004543639593565041,-0.014324531054863837,0.0002113636088135763,-0.002858728447683415,0.013841215694623626,0.013001604907939305,0.036198706751631116,0.04422142739547089,0.9998969685818987,0.01709259574396282,1.0,0.03085417487843076,0.034127027503258335,0.002646632829514741,0.0027984910291291346,0.08106779545310865,0.0854356210431553,-0.00562510675306887],[0.0863769049859115,-0.0004992703482160318,0.025418934239617465,-0.009430063819745241,0.01714463550536456,-0.014544917929005089,-0.00893082616745569,0.01707496569637756,-0.014540483663390714,-0.00966152202421689,0.24436151308244228,0.08848706656164503,0.030014227465995438,0.03894525558976379,0.03085417487843076,1.0,0.9971431578353577,0.0055455792233431184,0.006005023283174398,0.13158777471217656,0.10953071063606243,0.022966925041010087],[0.11956308195845114,-0.0005407573980609917,0.02431576736991246,-0.01174368724088793,0.016700049206341064,-0.015272921865053855,-0.008574318556533152,0.016624714400593172,-0.015304737821603737,-0.009346228772800919,0.28253971115130283,0.1021790300754274,0.032962571230241274,0.05920223408126068,0.034127027503258335,0.9971431578353577,1.0,0.007927919467413875,0.008573859129098776,0.14359043919368136,0.12278876833435046,0.022419328994373343],[0.04677824471311799,-0.0008281553528775483,0.0015501052822821627,0.0256266161916432,0.024354609190353885,0.007050643861462776,0.01229309956265371,0.024249908954915165,0.012596558299508905,-0.003607907822055125,0.018842663691154487,7.611446124204885e-05,0.002433102133048189,0.014847143531187157,0.002646632829514741,0.0055455792233431184,0.007927919467413875,1.0,0.9879014064253152,0.813923572153405,0.7986820417860987,0.024228002680372278],[0.048746179220620744,-0.0008134673597438699,0.0007826882794895896,0.02419342832651211,0.017767799040634774,0.007344475959192222,0.012330266006143405,0.01767046614362454,0.012596118661131257,-0.001983826183927654,0.02010284717285482,0.00014527578880521965,0.002576650151444873,0.015363078154666329,0.0027984910291291346,0.006005023283174398,0.008573859129098776,0.9879014064253152,1.0,0.8159518318678696,0.8164640250219837,0.017399256432283298],[0.15010985395160778,0.0020792414810410107,0.04530334745171334,0.041836827241584086,0.034349490171840844,-0.0014974549193364673,0.006539131801994246,0.03438144090596977,0.007484038634554273,-0.000356890837167875,0.1437874236723357,0.05867033192294842,0.08035537956311434,0.03724241076401967,0.08106779545310865,0.13158777471217656,0.14359043919368136,0.813923572153405,0.8159518318678696,1.0,0.9919722742046437,0.0345000175103135],[0.15487498280119688,0.0024002318636994796,0.04215355414463701,0.03976127254758431,0.023182907853492116,0.0006344984709615168,0.007763703921277968,0.023227444282817283,0.008462205825971045,0.0011779318876465668,0.1484748914041206,0.06141267560706539,0.08466048110936739,0.04121277946693242,0.0854356210431553,0.10953071063606243,0.12278876833435046,0.7986820417860987,0.8164640250219837,0.9919722742046437,1.0,0.023931547695671608],[-0.004879764189390401,0.00035167049766830153,-0.02811614695856905,-0.012166435355071491,0.9625900202942339,-0.02015135903733895,-0.010215671795642815,0.9621920696753795,0.002996347465863495,0.0003524373360401209,-0.003713164734532547,0.0014877784701102634,-0.0054879525140658575,-0.014790382650700717,-0.00562510675306887,0.022966925041010087,0.022419328994373343,0.024228002680372278,0.017399256432283298,0.0345000175103135,0.023931547695671608,1.0]],\"type\":\"heatmap\",\"xaxis\":\"x\",\"yaxis\":\"y\",\"hovertemplate\":\"x: %{x}<br>y: %{y}<br>color: %{z}<extra></extra>\"}],                        {\"template\":{\"data\":{\"histogram2dcontour\":[{\"type\":\"histogram2dcontour\",\"colorbar\":{\"outlinewidth\":0,\"ticks\":\"\"},\"colorscale\":[[0.0,\"#0d0887\"],[0.1111111111111111,\"#46039f\"],[0.2222222222222222,\"#7201a8\"],[0.3333333333333333,\"#9c179e\"],[0.4444444444444444,\"#bd3786\"],[0.5555555555555556,\"#d8576b\"],[0.6666666666666666,\"#ed7953\"],[0.7777777777777778,\"#fb9f3a\"],[0.8888888888888888,\"#fdca26\"],[1.0,\"#f0f921\"]]}],\"choropleth\":[{\"type\":\"choropleth\",\"colorbar\":{\"outlinewidth\":0,\"ticks\":\"\"}}],\"histogram2d\":[{\"type\":\"histogram2d\",\"colorbar\":{\"outlinewidth\":0,\"ticks\":\"\"},\"colorscale\":[[0.0,\"#0d0887\"],[0.1111111111111111,\"#46039f\"],[0.2222222222222222,\"#7201a8\"],[0.3333333333333333,\"#9c179e\"],[0.4444444444444444,\"#bd3786\"],[0.5555555555555556,\"#d8576b\"],[0.6666666666666666,\"#ed7953\"],[0.7777777777777778,\"#fb9f3a\"],[0.8888888888888888,\"#fdca26\"],[1.0,\"#f0f921\"]]}],\"heatmap\":[{\"type\":\"heatmap\",\"colorbar\":{\"outlinewidth\":0,\"ticks\":\"\"},\"colorscale\":[[0.0,\"#0d0887\"],[0.1111111111111111,\"#46039f\"],[0.2222222222222222,\"#7201a8\"],[0.3333333333333333,\"#9c179e\"],[0.4444444444444444,\"#bd3786\"],[0.5555555555555556,\"#d8576b\"],[0.6666666666666666,\"#ed7953\"],[0.7777777777777778,\"#fb9f3a\"],[0.8888888888888888,\"#fdca26\"],[1.0,\"#f0f921\"]]}],\"heatmapgl\":[{\"type\":\"heatmapgl\",\"colorbar\":{\"outlinewidth\":0,\"ticks\":\"\"},\"colorscale\":[[0.0,\"#0d0887\"],[0.1111111111111111,\"#46039f\"],[0.2222222222222222,\"#7201a8\"],[0.3333333333333333,\"#9c179e\"],[0.4444444444444444,\"#bd3786\"],[0.5555555555555556,\"#d8576b\"],[0.6666666666666666,\"#ed7953\"],[0.7777777777777778,\"#fb9f3a\"],[0.8888888888888888,\"#fdca26\"],[1.0,\"#f0f921\"]]}],\"contourcarpet\":[{\"type\":\"contourcarpet\",\"colorbar\":{\"outlinewidth\":0,\"ticks\":\"\"}}],\"contour\":[{\"type\":\"contour\",\"colorbar\":{\"outlinewidth\":0,\"ticks\":\"\"},\"colorscale\":[[0.0,\"#0d0887\"],[0.1111111111111111,\"#46039f\"],[0.2222222222222222,\"#7201a8\"],[0.3333333333333333,\"#9c179e\"],[0.4444444444444444,\"#bd3786\"],[0.5555555555555556,\"#d8576b\"],[0.6666666666666666,\"#ed7953\"],[0.7777777777777778,\"#fb9f3a\"],[0.8888888888888888,\"#fdca26\"],[1.0,\"#f0f921\"]]}],\"surface\":[{\"type\":\"surface\",\"colorbar\":{\"outlinewidth\":0,\"ticks\":\"\"},\"colorscale\":[[0.0,\"#0d0887\"],[0.1111111111111111,\"#46039f\"],[0.2222222222222222,\"#7201a8\"],[0.3333333333333333,\"#9c179e\"],[0.4444444444444444,\"#bd3786\"],[0.5555555555555556,\"#d8576b\"],[0.6666666666666666,\"#ed7953\"],[0.7777777777777778,\"#fb9f3a\"],[0.8888888888888888,\"#fdca26\"],[1.0,\"#f0f921\"]]}],\"mesh3d\":[{\"type\":\"mesh3d\",\"colorbar\":{\"outlinewidth\":0,\"ticks\":\"\"}}],\"scatter\":[{\"fillpattern\":{\"fillmode\":\"overlay\",\"size\":10,\"solidity\":0.2},\"type\":\"scatter\"}],\"parcoords\":[{\"type\":\"parcoords\",\"line\":{\"colorbar\":{\"outlinewidth\":0,\"ticks\":\"\"}}}],\"scatterpolargl\":[{\"type\":\"scatterpolargl\",\"marker\":{\"colorbar\":{\"outlinewidth\":0,\"ticks\":\"\"}}}],\"bar\":[{\"error_x\":{\"color\":\"#2a3f5f\"},\"error_y\":{\"color\":\"#2a3f5f\"},\"marker\":{\"line\":{\"color\":\"#E5ECF6\",\"width\":0.5},\"pattern\":{\"fillmode\":\"overlay\",\"size\":10,\"solidity\":0.2}},\"type\":\"bar\"}],\"scattergeo\":[{\"type\":\"scattergeo\",\"marker\":{\"colorbar\":{\"outlinewidth\":0,\"ticks\":\"\"}}}],\"scatterpolar\":[{\"type\":\"scatterpolar\",\"marker\":{\"colorbar\":{\"outlinewidth\":0,\"ticks\":\"\"}}}],\"histogram\":[{\"marker\":{\"pattern\":{\"fillmode\":\"overlay\",\"size\":10,\"solidity\":0.2}},\"type\":\"histogram\"}],\"scattergl\":[{\"type\":\"scattergl\",\"marker\":{\"colorbar\":{\"outlinewidth\":0,\"ticks\":\"\"}}}],\"scatter3d\":[{\"type\":\"scatter3d\",\"line\":{\"colorbar\":{\"outlinewidth\":0,\"ticks\":\"\"}},\"marker\":{\"colorbar\":{\"outlinewidth\":0,\"ticks\":\"\"}}}],\"scattermapbox\":[{\"type\":\"scattermapbox\",\"marker\":{\"colorbar\":{\"outlinewidth\":0,\"ticks\":\"\"}}}],\"scatterternary\":[{\"type\":\"scatterternary\",\"marker\":{\"colorbar\":{\"outlinewidth\":0,\"ticks\":\"\"}}}],\"scattercarpet\":[{\"type\":\"scattercarpet\",\"marker\":{\"colorbar\":{\"outlinewidth\":0,\"ticks\":\"\"}}}],\"carpet\":[{\"aaxis\":{\"endlinecolor\":\"#2a3f5f\",\"gridcolor\":\"white\",\"linecolor\":\"white\",\"minorgridcolor\":\"white\",\"startlinecolor\":\"#2a3f5f\"},\"baxis\":{\"endlinecolor\":\"#2a3f5f\",\"gridcolor\":\"white\",\"linecolor\":\"white\",\"minorgridcolor\":\"white\",\"startlinecolor\":\"#2a3f5f\"},\"type\":\"carpet\"}],\"table\":[{\"cells\":{\"fill\":{\"color\":\"#EBF0F8\"},\"line\":{\"color\":\"white\"}},\"header\":{\"fill\":{\"color\":\"#C8D4E3\"},\"line\":{\"color\":\"white\"}},\"type\":\"table\"}],\"barpolar\":[{\"marker\":{\"line\":{\"color\":\"#E5ECF6\",\"width\":0.5},\"pattern\":{\"fillmode\":\"overlay\",\"size\":10,\"solidity\":0.2}},\"type\":\"barpolar\"}],\"pie\":[{\"automargin\":true,\"type\":\"pie\"}]},\"layout\":{\"autotypenumbers\":\"strict\",\"colorway\":[\"#636efa\",\"#EF553B\",\"#00cc96\",\"#ab63fa\",\"#FFA15A\",\"#19d3f3\",\"#FF6692\",\"#B6E880\",\"#FF97FF\",\"#FECB52\"],\"font\":{\"color\":\"#2a3f5f\"},\"hovermode\":\"closest\",\"hoverlabel\":{\"align\":\"left\"},\"paper_bgcolor\":\"white\",\"plot_bgcolor\":\"#E5ECF6\",\"polar\":{\"bgcolor\":\"#E5ECF6\",\"angularaxis\":{\"gridcolor\":\"white\",\"linecolor\":\"white\",\"ticks\":\"\"},\"radialaxis\":{\"gridcolor\":\"white\",\"linecolor\":\"white\",\"ticks\":\"\"}},\"ternary\":{\"bgcolor\":\"#E5ECF6\",\"aaxis\":{\"gridcolor\":\"white\",\"linecolor\":\"white\",\"ticks\":\"\"},\"baxis\":{\"gridcolor\":\"white\",\"linecolor\":\"white\",\"ticks\":\"\"},\"caxis\":{\"gridcolor\":\"white\",\"linecolor\":\"white\",\"ticks\":\"\"}},\"coloraxis\":{\"colorbar\":{\"outlinewidth\":0,\"ticks\":\"\"}},\"colorscale\":{\"sequential\":[[0.0,\"#0d0887\"],[0.1111111111111111,\"#46039f\"],[0.2222222222222222,\"#7201a8\"],[0.3333333333333333,\"#9c179e\"],[0.4444444444444444,\"#bd3786\"],[0.5555555555555556,\"#d8576b\"],[0.6666666666666666,\"#ed7953\"],[0.7777777777777778,\"#fb9f3a\"],[0.8888888888888888,\"#fdca26\"],[1.0,\"#f0f921\"]],\"sequentialminus\":[[0.0,\"#0d0887\"],[0.1111111111111111,\"#46039f\"],[0.2222222222222222,\"#7201a8\"],[0.3333333333333333,\"#9c179e\"],[0.4444444444444444,\"#bd3786\"],[0.5555555555555556,\"#d8576b\"],[0.6666666666666666,\"#ed7953\"],[0.7777777777777778,\"#fb9f3a\"],[0.8888888888888888,\"#fdca26\"],[1.0,\"#f0f921\"]],\"diverging\":[[0,\"#8e0152\"],[0.1,\"#c51b7d\"],[0.2,\"#de77ae\"],[0.3,\"#f1b6da\"],[0.4,\"#fde0ef\"],[0.5,\"#f7f7f7\"],[0.6,\"#e6f5d0\"],[0.7,\"#b8e186\"],[0.8,\"#7fbc41\"],[0.9,\"#4d9221\"],[1,\"#276419\"]]},\"xaxis\":{\"gridcolor\":\"white\",\"linecolor\":\"white\",\"ticks\":\"\",\"title\":{\"standoff\":15},\"zerolinecolor\":\"white\",\"automargin\":true,\"zerolinewidth\":2},\"yaxis\":{\"gridcolor\":\"white\",\"linecolor\":\"white\",\"ticks\":\"\",\"title\":{\"standoff\":15},\"zerolinecolor\":\"white\",\"automargin\":true,\"zerolinewidth\":2},\"scene\":{\"xaxis\":{\"backgroundcolor\":\"#E5ECF6\",\"gridcolor\":\"white\",\"linecolor\":\"white\",\"showbackground\":true,\"ticks\":\"\",\"zerolinecolor\":\"white\",\"gridwidth\":2},\"yaxis\":{\"backgroundcolor\":\"#E5ECF6\",\"gridcolor\":\"white\",\"linecolor\":\"white\",\"showbackground\":true,\"ticks\":\"\",\"zerolinecolor\":\"white\",\"gridwidth\":2},\"zaxis\":{\"backgroundcolor\":\"#E5ECF6\",\"gridcolor\":\"white\",\"linecolor\":\"white\",\"showbackground\":true,\"ticks\":\"\",\"zerolinecolor\":\"white\",\"gridwidth\":2}},\"shapedefaults\":{\"line\":{\"color\":\"#2a3f5f\"}},\"annotationdefaults\":{\"arrowcolor\":\"#2a3f5f\",\"arrowhead\":0,\"arrowwidth\":1},\"geo\":{\"bgcolor\":\"white\",\"landcolor\":\"#E5ECF6\",\"subunitcolor\":\"white\",\"showland\":true,\"showlakes\":true,\"lakecolor\":\"white\"},\"title\":{\"x\":0.05},\"mapbox\":{\"style\":\"light\"}}},\"xaxis\":{\"anchor\":\"y\",\"domain\":[0.0,1.0]},\"yaxis\":{\"anchor\":\"x\",\"domain\":[0.0,1.0],\"autorange\":\"reversed\"},\"coloraxis\":{\"colorscale\":[[0.0,\"#0d0887\"],[0.1111111111111111,\"#46039f\"],[0.2222222222222222,\"#7201a8\"],[0.3333333333333333,\"#9c179e\"],[0.4444444444444444,\"#bd3786\"],[0.5555555555555556,\"#d8576b\"],[0.6666666666666666,\"#ed7953\"],[0.7777777777777778,\"#fb9f3a\"],[0.8888888888888888,\"#fdca26\"],[1.0,\"#f0f921\"]]},\"margin\":{\"t\":60},\"height\":700,\"width\":1500},                        {\"responsive\": true}                    ).then(function(){\n",
       "                            \n",
       "var gd = document.getElementById('dd8e1d75-c440-4fcf-b567-693575d6f5d9');\n",
       "var x = new MutationObserver(function (mutations, observer) {{\n",
       "        var display = window.getComputedStyle(gd).display;\n",
       "        if (!display || display === 'none') {{\n",
       "            console.log([gd, 'removed!']);\n",
       "            Plotly.purge(gd);\n",
       "            observer.disconnect();\n",
       "        }}\n",
       "}});\n",
       "\n",
       "// Listen for the removal of the full notebook cells\n",
       "var notebookContainer = gd.closest('#notebook-container');\n",
       "if (notebookContainer) {{\n",
       "    x.observe(notebookContainer, {childList: true});\n",
       "}}\n",
       "\n",
       "// Listen for the clearing of the current output cell\n",
       "var outputEl = gd.closest('.output');\n",
       "if (outputEl) {{\n",
       "    x.observe(outputEl, {childList: true});\n",
       "}}\n",
       "\n",
       "                        })                };                });            </script>        </div>"
      ]
     },
     "metadata": {},
     "output_type": "display_data"
    }
   ],
   "source": [
    "# Correlation matrix for numerical variables\n",
    "\n",
    "# Only run the .corr() function on numeric values\n",
    "\n",
    "\n",
    "# Create plot\n",
    "numerical_df = df.select_dtypes(\"number\")\n",
    "numerical_df_corr = numerical_df.corr()\n",
    "\n",
    "# Create heatmap\n",
    "heatmap = px.imshow(numerical_df_corr, text_auto = True, width = 1500, height = 700, aspect = 5)\n",
    "heatmap.show()\n"
   ]
  },
  {
   "cell_type": "markdown",
   "id": "686e9c6b-8a58-491c-86e6-751294401652",
   "metadata": {},
   "source": [
    "The Observations I made from analyzing this heat map are:\n",
    "\n",
    "1. There's seem to be a positively moderate correlation between the varibale 'Total Deaths' and 'AID Contribution'. (0.57)\n",
    "\n",
    "2. There's a slight correlation between  the variables 'Adjusted Reconstructed cost' and 'Total Deaths'. (0.28)\n",
    "\n",
    "3. There's a strong positive correlation between  the variables 'Total Damage' and 'Insured Damage'. (0.81)"
   ]
  },
  {
   "cell_type": "markdown",
   "id": "11b5e26b-112b-4825-b37d-00addbf72ff2",
   "metadata": {},
   "source": [
    "d.\tCreate a treemap using hierarchical columns you would like to explore\n",
    "    i.\tWhat do you notice about the hierarchical order? "
   ]
  },
  {
   "cell_type": "code",
   "execution_count": 130,
   "id": "63f421f2-abe5-4d7b-abc5-f7851676d99a",
   "metadata": {},
   "outputs": [
    {
     "data": {
      "text/plain": [
       "(854, 46)"
      ]
     },
     "execution_count": 130,
     "metadata": {},
     "output_type": "execute_result"
    }
   ],
   "source": [
    "# Import plotly express\n",
    "import plotly.express as px\n",
    "\n",
    "#Disaster data from the year 2005\n",
    "year_filter = df[df[\"Start Year\"] == 2005]\n",
    "year_filter.shape\n"
   ]
  },
  {
   "cell_type": "code",
   "execution_count": 131,
   "id": "a6d5e042-b718-4ef8-b544-e36e16637bab",
   "metadata": {
    "tags": []
   },
   "outputs": [
    {
     "data": {
      "text/plain": [
       "Index(['DisNo.', 'Historic', 'Classification Key', 'Disaster Group',\n",
       "       'Disaster Subgroup', 'Disaster Type', 'Disaster Subtype',\n",
       "       'External IDs', 'Event Name', 'ISO', 'Country', 'Subregion', 'Region',\n",
       "       'Location', 'Origin', 'Associated Types', 'OFDA/BHA Response', 'Appeal',\n",
       "       'Declaration', 'AID Contribution ('000 US$)', 'Magnitude',\n",
       "       'Magnitude Scale', 'Latitude', 'Longitude', 'River Basin', 'Start Year',\n",
       "       'Start Month', 'Start Day', 'End Year', 'End Month', 'End Day',\n",
       "       'Total Deaths', 'No. Injured', 'No. Affected', 'No. Homeless',\n",
       "       'Total Affected', 'Reconstruction Costs ('000 US$)',\n",
       "       'Reconstruction Costs, Adjusted ('000 US$)',\n",
       "       'Insured Damage ('000 US$)', 'Insured Damage, Adjusted ('000 US$)',\n",
       "       'Total Damage ('000 US$)', 'Total Damage, Adjusted ('000 US$)', 'CPI',\n",
       "       'Admin Units', 'Entry Date', 'Last Update'],\n",
       "      dtype='object')"
      ]
     },
     "execution_count": 131,
     "metadata": {},
     "output_type": "execute_result"
    }
   ],
   "source": [
    "year_filter.columns"
   ]
  },
  {
   "cell_type": "code",
   "execution_count": 172,
   "id": "c0487e24-17c8-42ed-bf02-f0635e05d91a",
   "metadata": {
    "tags": []
   },
   "outputs": [
    {
     "data": {
      "text/html": [
       "<div>\n",
       "<style scoped>\n",
       "    .dataframe tbody tr th:only-of-type {\n",
       "        vertical-align: middle;\n",
       "    }\n",
       "\n",
       "    .dataframe tbody tr th {\n",
       "        vertical-align: top;\n",
       "    }\n",
       "\n",
       "    .dataframe thead th {\n",
       "        text-align: right;\n",
       "    }\n",
       "</style>\n",
       "<table border=\"1\" class=\"dataframe\">\n",
       "  <thead>\n",
       "    <tr style=\"text-align: right;\">\n",
       "      <th></th>\n",
       "      <th>Start Year</th>\n",
       "      <th>Total_Deaths</th>\n",
       "    </tr>\n",
       "  </thead>\n",
       "  <tbody>\n",
       "    <tr>\n",
       "      <th>0</th>\n",
       "      <td>2000</td>\n",
       "      <td>894</td>\n",
       "    </tr>\n",
       "    <tr>\n",
       "      <th>1</th>\n",
       "      <td>2001</td>\n",
       "      <td>771</td>\n",
       "    </tr>\n",
       "    <tr>\n",
       "      <th>2</th>\n",
       "      <td>2002</td>\n",
       "      <td>865</td>\n",
       "    </tr>\n",
       "    <tr>\n",
       "      <th>3</th>\n",
       "      <td>2003</td>\n",
       "      <td>754</td>\n",
       "    </tr>\n",
       "    <tr>\n",
       "      <th>4</th>\n",
       "      <td>2004</td>\n",
       "      <td>755</td>\n",
       "    </tr>\n",
       "    <tr>\n",
       "      <th>5</th>\n",
       "      <td>2005</td>\n",
       "      <td>854</td>\n",
       "    </tr>\n",
       "    <tr>\n",
       "      <th>6</th>\n",
       "      <td>2006</td>\n",
       "      <td>760</td>\n",
       "    </tr>\n",
       "    <tr>\n",
       "      <th>7</th>\n",
       "      <td>2007</td>\n",
       "      <td>724</td>\n",
       "    </tr>\n",
       "    <tr>\n",
       "      <th>8</th>\n",
       "      <td>2008</td>\n",
       "      <td>654</td>\n",
       "    </tr>\n",
       "    <tr>\n",
       "      <th>9</th>\n",
       "      <td>2009</td>\n",
       "      <td>620</td>\n",
       "    </tr>\n",
       "  </tbody>\n",
       "</table>\n",
       "</div>"
      ],
      "text/plain": [
       "   Start Year  Total_Deaths\n",
       "0        2000           894\n",
       "1        2001           771\n",
       "2        2002           865\n",
       "3        2003           754\n",
       "4        2004           755\n",
       "5        2005           854\n",
       "6        2006           760\n",
       "7        2007           724\n",
       "8        2008           654\n",
       "9        2009           620"
      ]
     },
     "execution_count": 172,
     "metadata": {},
     "output_type": "execute_result"
    }
   ],
   "source": [
    "Deaths = df.groupby([\"Start Year\"]).agg(Total_Deaths = pd.NamedAgg(\"Total Deaths\", \"size\")).sort_values(\"Start Year\").reset_index(drop = False)\n",
    "Deaths.head(10)"
   ]
  },
  {
   "cell_type": "code",
   "execution_count": 180,
   "id": "d8390e29-f4f6-4fa7-8d2f-99569f5ad2b8",
   "metadata": {
    "tags": []
   },
   "outputs": [
    {
     "data": {
      "application/vnd.plotly.v1+json": {
       "config": {
        "plotlyServerURL": "https://plot.ly"
       },
       "data": [
        {
         "fillpattern": {
          "shape": ""
         },
         "hovertemplate": "Start Year=%{x}<br>Total_Deaths=%{y}<extra></extra>",
         "legendgroup": "",
         "line": {
          "color": "#636efa"
         },
         "marker": {
          "symbol": "circle"
         },
         "mode": "lines",
         "name": "",
         "orientation": "v",
         "showlegend": false,
         "stackgroup": "1",
         "type": "scatter",
         "x": [
          2000,
          2001,
          2002,
          2003,
          2004,
          2005,
          2006,
          2007,
          2008,
          2009,
          2010,
          2011,
          2012,
          2013,
          2014,
          2015,
          2016,
          2017,
          2018,
          2019,
          2020,
          2021,
          2022,
          2023,
          2024
         ],
         "xaxis": "x",
         "y": [
          894,
          771,
          865,
          754,
          755,
          854,
          760,
          724,
          654,
          620,
          670,
          604,
          561,
          545,
          548,
          606,
          534,
          542,
          497,
          607,
          507,
          591,
          595,
          563,
          163
         ],
         "yaxis": "y"
        }
       ],
       "layout": {
        "height": 500,
        "legend": {
         "tracegroupgap": 0
        },
        "margin": {
         "t": 60
        },
        "template": {
         "data": {
          "bar": [
           {
            "error_x": {
             "color": "#2a3f5f"
            },
            "error_y": {
             "color": "#2a3f5f"
            },
            "marker": {
             "line": {
              "color": "#E5ECF6",
              "width": 0.5
             },
             "pattern": {
              "fillmode": "overlay",
              "size": 10,
              "solidity": 0.2
             }
            },
            "type": "bar"
           }
          ],
          "barpolar": [
           {
            "marker": {
             "line": {
              "color": "#E5ECF6",
              "width": 0.5
             },
             "pattern": {
              "fillmode": "overlay",
              "size": 10,
              "solidity": 0.2
             }
            },
            "type": "barpolar"
           }
          ],
          "carpet": [
           {
            "aaxis": {
             "endlinecolor": "#2a3f5f",
             "gridcolor": "white",
             "linecolor": "white",
             "minorgridcolor": "white",
             "startlinecolor": "#2a3f5f"
            },
            "baxis": {
             "endlinecolor": "#2a3f5f",
             "gridcolor": "white",
             "linecolor": "white",
             "minorgridcolor": "white",
             "startlinecolor": "#2a3f5f"
            },
            "type": "carpet"
           }
          ],
          "choropleth": [
           {
            "colorbar": {
             "outlinewidth": 0,
             "ticks": ""
            },
            "type": "choropleth"
           }
          ],
          "contour": [
           {
            "colorbar": {
             "outlinewidth": 0,
             "ticks": ""
            },
            "colorscale": [
             [
              0,
              "#0d0887"
             ],
             [
              0.1111111111111111,
              "#46039f"
             ],
             [
              0.2222222222222222,
              "#7201a8"
             ],
             [
              0.3333333333333333,
              "#9c179e"
             ],
             [
              0.4444444444444444,
              "#bd3786"
             ],
             [
              0.5555555555555556,
              "#d8576b"
             ],
             [
              0.6666666666666666,
              "#ed7953"
             ],
             [
              0.7777777777777778,
              "#fb9f3a"
             ],
             [
              0.8888888888888888,
              "#fdca26"
             ],
             [
              1,
              "#f0f921"
             ]
            ],
            "type": "contour"
           }
          ],
          "contourcarpet": [
           {
            "colorbar": {
             "outlinewidth": 0,
             "ticks": ""
            },
            "type": "contourcarpet"
           }
          ],
          "heatmap": [
           {
            "colorbar": {
             "outlinewidth": 0,
             "ticks": ""
            },
            "colorscale": [
             [
              0,
              "#0d0887"
             ],
             [
              0.1111111111111111,
              "#46039f"
             ],
             [
              0.2222222222222222,
              "#7201a8"
             ],
             [
              0.3333333333333333,
              "#9c179e"
             ],
             [
              0.4444444444444444,
              "#bd3786"
             ],
             [
              0.5555555555555556,
              "#d8576b"
             ],
             [
              0.6666666666666666,
              "#ed7953"
             ],
             [
              0.7777777777777778,
              "#fb9f3a"
             ],
             [
              0.8888888888888888,
              "#fdca26"
             ],
             [
              1,
              "#f0f921"
             ]
            ],
            "type": "heatmap"
           }
          ],
          "heatmapgl": [
           {
            "colorbar": {
             "outlinewidth": 0,
             "ticks": ""
            },
            "colorscale": [
             [
              0,
              "#0d0887"
             ],
             [
              0.1111111111111111,
              "#46039f"
             ],
             [
              0.2222222222222222,
              "#7201a8"
             ],
             [
              0.3333333333333333,
              "#9c179e"
             ],
             [
              0.4444444444444444,
              "#bd3786"
             ],
             [
              0.5555555555555556,
              "#d8576b"
             ],
             [
              0.6666666666666666,
              "#ed7953"
             ],
             [
              0.7777777777777778,
              "#fb9f3a"
             ],
             [
              0.8888888888888888,
              "#fdca26"
             ],
             [
              1,
              "#f0f921"
             ]
            ],
            "type": "heatmapgl"
           }
          ],
          "histogram": [
           {
            "marker": {
             "pattern": {
              "fillmode": "overlay",
              "size": 10,
              "solidity": 0.2
             }
            },
            "type": "histogram"
           }
          ],
          "histogram2d": [
           {
            "colorbar": {
             "outlinewidth": 0,
             "ticks": ""
            },
            "colorscale": [
             [
              0,
              "#0d0887"
             ],
             [
              0.1111111111111111,
              "#46039f"
             ],
             [
              0.2222222222222222,
              "#7201a8"
             ],
             [
              0.3333333333333333,
              "#9c179e"
             ],
             [
              0.4444444444444444,
              "#bd3786"
             ],
             [
              0.5555555555555556,
              "#d8576b"
             ],
             [
              0.6666666666666666,
              "#ed7953"
             ],
             [
              0.7777777777777778,
              "#fb9f3a"
             ],
             [
              0.8888888888888888,
              "#fdca26"
             ],
             [
              1,
              "#f0f921"
             ]
            ],
            "type": "histogram2d"
           }
          ],
          "histogram2dcontour": [
           {
            "colorbar": {
             "outlinewidth": 0,
             "ticks": ""
            },
            "colorscale": [
             [
              0,
              "#0d0887"
             ],
             [
              0.1111111111111111,
              "#46039f"
             ],
             [
              0.2222222222222222,
              "#7201a8"
             ],
             [
              0.3333333333333333,
              "#9c179e"
             ],
             [
              0.4444444444444444,
              "#bd3786"
             ],
             [
              0.5555555555555556,
              "#d8576b"
             ],
             [
              0.6666666666666666,
              "#ed7953"
             ],
             [
              0.7777777777777778,
              "#fb9f3a"
             ],
             [
              0.8888888888888888,
              "#fdca26"
             ],
             [
              1,
              "#f0f921"
             ]
            ],
            "type": "histogram2dcontour"
           }
          ],
          "mesh3d": [
           {
            "colorbar": {
             "outlinewidth": 0,
             "ticks": ""
            },
            "type": "mesh3d"
           }
          ],
          "parcoords": [
           {
            "line": {
             "colorbar": {
              "outlinewidth": 0,
              "ticks": ""
             }
            },
            "type": "parcoords"
           }
          ],
          "pie": [
           {
            "automargin": true,
            "type": "pie"
           }
          ],
          "scatter": [
           {
            "fillpattern": {
             "fillmode": "overlay",
             "size": 10,
             "solidity": 0.2
            },
            "type": "scatter"
           }
          ],
          "scatter3d": [
           {
            "line": {
             "colorbar": {
              "outlinewidth": 0,
              "ticks": ""
             }
            },
            "marker": {
             "colorbar": {
              "outlinewidth": 0,
              "ticks": ""
             }
            },
            "type": "scatter3d"
           }
          ],
          "scattercarpet": [
           {
            "marker": {
             "colorbar": {
              "outlinewidth": 0,
              "ticks": ""
             }
            },
            "type": "scattercarpet"
           }
          ],
          "scattergeo": [
           {
            "marker": {
             "colorbar": {
              "outlinewidth": 0,
              "ticks": ""
             }
            },
            "type": "scattergeo"
           }
          ],
          "scattergl": [
           {
            "marker": {
             "colorbar": {
              "outlinewidth": 0,
              "ticks": ""
             }
            },
            "type": "scattergl"
           }
          ],
          "scattermapbox": [
           {
            "marker": {
             "colorbar": {
              "outlinewidth": 0,
              "ticks": ""
             }
            },
            "type": "scattermapbox"
           }
          ],
          "scatterpolar": [
           {
            "marker": {
             "colorbar": {
              "outlinewidth": 0,
              "ticks": ""
             }
            },
            "type": "scatterpolar"
           }
          ],
          "scatterpolargl": [
           {
            "marker": {
             "colorbar": {
              "outlinewidth": 0,
              "ticks": ""
             }
            },
            "type": "scatterpolargl"
           }
          ],
          "scatterternary": [
           {
            "marker": {
             "colorbar": {
              "outlinewidth": 0,
              "ticks": ""
             }
            },
            "type": "scatterternary"
           }
          ],
          "surface": [
           {
            "colorbar": {
             "outlinewidth": 0,
             "ticks": ""
            },
            "colorscale": [
             [
              0,
              "#0d0887"
             ],
             [
              0.1111111111111111,
              "#46039f"
             ],
             [
              0.2222222222222222,
              "#7201a8"
             ],
             [
              0.3333333333333333,
              "#9c179e"
             ],
             [
              0.4444444444444444,
              "#bd3786"
             ],
             [
              0.5555555555555556,
              "#d8576b"
             ],
             [
              0.6666666666666666,
              "#ed7953"
             ],
             [
              0.7777777777777778,
              "#fb9f3a"
             ],
             [
              0.8888888888888888,
              "#fdca26"
             ],
             [
              1,
              "#f0f921"
             ]
            ],
            "type": "surface"
           }
          ],
          "table": [
           {
            "cells": {
             "fill": {
              "color": "#EBF0F8"
             },
             "line": {
              "color": "white"
             }
            },
            "header": {
             "fill": {
              "color": "#C8D4E3"
             },
             "line": {
              "color": "white"
             }
            },
            "type": "table"
           }
          ]
         },
         "layout": {
          "annotationdefaults": {
           "arrowcolor": "#2a3f5f",
           "arrowhead": 0,
           "arrowwidth": 1
          },
          "autotypenumbers": "strict",
          "coloraxis": {
           "colorbar": {
            "outlinewidth": 0,
            "ticks": ""
           }
          },
          "colorscale": {
           "diverging": [
            [
             0,
             "#8e0152"
            ],
            [
             0.1,
             "#c51b7d"
            ],
            [
             0.2,
             "#de77ae"
            ],
            [
             0.3,
             "#f1b6da"
            ],
            [
             0.4,
             "#fde0ef"
            ],
            [
             0.5,
             "#f7f7f7"
            ],
            [
             0.6,
             "#e6f5d0"
            ],
            [
             0.7,
             "#b8e186"
            ],
            [
             0.8,
             "#7fbc41"
            ],
            [
             0.9,
             "#4d9221"
            ],
            [
             1,
             "#276419"
            ]
           ],
           "sequential": [
            [
             0,
             "#0d0887"
            ],
            [
             0.1111111111111111,
             "#46039f"
            ],
            [
             0.2222222222222222,
             "#7201a8"
            ],
            [
             0.3333333333333333,
             "#9c179e"
            ],
            [
             0.4444444444444444,
             "#bd3786"
            ],
            [
             0.5555555555555556,
             "#d8576b"
            ],
            [
             0.6666666666666666,
             "#ed7953"
            ],
            [
             0.7777777777777778,
             "#fb9f3a"
            ],
            [
             0.8888888888888888,
             "#fdca26"
            ],
            [
             1,
             "#f0f921"
            ]
           ],
           "sequentialminus": [
            [
             0,
             "#0d0887"
            ],
            [
             0.1111111111111111,
             "#46039f"
            ],
            [
             0.2222222222222222,
             "#7201a8"
            ],
            [
             0.3333333333333333,
             "#9c179e"
            ],
            [
             0.4444444444444444,
             "#bd3786"
            ],
            [
             0.5555555555555556,
             "#d8576b"
            ],
            [
             0.6666666666666666,
             "#ed7953"
            ],
            [
             0.7777777777777778,
             "#fb9f3a"
            ],
            [
             0.8888888888888888,
             "#fdca26"
            ],
            [
             1,
             "#f0f921"
            ]
           ]
          },
          "colorway": [
           "#636efa",
           "#EF553B",
           "#00cc96",
           "#ab63fa",
           "#FFA15A",
           "#19d3f3",
           "#FF6692",
           "#B6E880",
           "#FF97FF",
           "#FECB52"
          ],
          "font": {
           "color": "#2a3f5f"
          },
          "geo": {
           "bgcolor": "white",
           "lakecolor": "white",
           "landcolor": "#E5ECF6",
           "showlakes": true,
           "showland": true,
           "subunitcolor": "white"
          },
          "hoverlabel": {
           "align": "left"
          },
          "hovermode": "closest",
          "mapbox": {
           "style": "light"
          },
          "paper_bgcolor": "white",
          "plot_bgcolor": "#E5ECF6",
          "polar": {
           "angularaxis": {
            "gridcolor": "white",
            "linecolor": "white",
            "ticks": ""
           },
           "bgcolor": "#E5ECF6",
           "radialaxis": {
            "gridcolor": "white",
            "linecolor": "white",
            "ticks": ""
           }
          },
          "scene": {
           "xaxis": {
            "backgroundcolor": "#E5ECF6",
            "gridcolor": "white",
            "gridwidth": 2,
            "linecolor": "white",
            "showbackground": true,
            "ticks": "",
            "zerolinecolor": "white"
           },
           "yaxis": {
            "backgroundcolor": "#E5ECF6",
            "gridcolor": "white",
            "gridwidth": 2,
            "linecolor": "white",
            "showbackground": true,
            "ticks": "",
            "zerolinecolor": "white"
           },
           "zaxis": {
            "backgroundcolor": "#E5ECF6",
            "gridcolor": "white",
            "gridwidth": 2,
            "linecolor": "white",
            "showbackground": true,
            "ticks": "",
            "zerolinecolor": "white"
           }
          },
          "shapedefaults": {
           "line": {
            "color": "#2a3f5f"
           }
          },
          "ternary": {
           "aaxis": {
            "gridcolor": "white",
            "linecolor": "white",
            "ticks": ""
           },
           "baxis": {
            "gridcolor": "white",
            "linecolor": "white",
            "ticks": ""
           },
           "bgcolor": "#E5ECF6",
           "caxis": {
            "gridcolor": "white",
            "linecolor": "white",
            "ticks": ""
           }
          },
          "title": {
           "x": 0.05
          },
          "xaxis": {
           "automargin": true,
           "gridcolor": "white",
           "linecolor": "white",
           "ticks": "",
           "title": {
            "standoff": 15
           },
           "zerolinecolor": "white",
           "zerolinewidth": 2
          },
          "yaxis": {
           "automargin": true,
           "gridcolor": "white",
           "linecolor": "white",
           "ticks": "",
           "title": {
            "standoff": 15
           },
           "zerolinecolor": "white",
           "zerolinewidth": 2
          }
         }
        },
        "title": {
         "text": "Total Deaths Over Time using a Stacked Area Chart",
         "x": 0.5,
         "xanchor": "center",
         "y": 0.95,
         "yanchor": "top"
        },
        "width": 700,
        "xaxis": {
         "anchor": "y",
         "autorange": true,
         "domain": [
          0,
          1
         ],
         "range": [
          2000,
          2024
         ],
         "title": {
          "text": "Start Year"
         },
         "type": "linear"
        },
        "yaxis": {
         "anchor": "x",
         "autorange": true,
         "domain": [
          0,
          1
         ],
         "range": [
          0,
          941.0526315789474
         ],
         "title": {
          "text": "Total_Deaths"
         },
         "type": "linear"
        }
       }
      },
      "image/png": "[encoded data removed]",
      "text/html": [
       "<div>                            <div id=\"328ef047-4d2f-4aa6-a90b-18536c96359f\" class=\"plotly-graph-div\" style=\"height:500px; width:700px;\"></div>            <script type=\"text/javascript\">                require([\"plotly\"], function(Plotly) {                    window.PLOTLYENV=window.PLOTLYENV || {};                                    if (document.getElementById(\"328ef047-4d2f-4aa6-a90b-18536c96359f\")) {                    Plotly.newPlot(                        \"328ef047-4d2f-4aa6-a90b-18536c96359f\",                        [{\"fillpattern\":{\"shape\":\"\"},\"hovertemplate\":\"Start Year=%{x}<br>Total_Deaths=%{y}<extra></extra>\",\"legendgroup\":\"\",\"line\":{\"color\":\"#636efa\"},\"marker\":{\"symbol\":\"circle\"},\"mode\":\"lines\",\"name\":\"\",\"orientation\":\"v\",\"showlegend\":false,\"stackgroup\":\"1\",\"x\":[2000,2001,2002,2003,2004,2005,2006,2007,2008,2009,2010,2011,2012,2013,2014,2015,2016,2017,2018,2019,2020,2021,2022,2023,2024],\"xaxis\":\"x\",\"y\":[894,771,865,754,755,854,760,724,654,620,670,604,561,545,548,606,534,542,497,607,507,591,595,563,163],\"yaxis\":\"y\",\"type\":\"scatter\"}],                        {\"template\":{\"data\":{\"histogram2dcontour\":[{\"type\":\"histogram2dcontour\",\"colorbar\":{\"outlinewidth\":0,\"ticks\":\"\"},\"colorscale\":[[0.0,\"#0d0887\"],[0.1111111111111111,\"#46039f\"],[0.2222222222222222,\"#7201a8\"],[0.3333333333333333,\"#9c179e\"],[0.4444444444444444,\"#bd3786\"],[0.5555555555555556,\"#d8576b\"],[0.6666666666666666,\"#ed7953\"],[0.7777777777777778,\"#fb9f3a\"],[0.8888888888888888,\"#fdca26\"],[1.0,\"#f0f921\"]]}],\"choropleth\":[{\"type\":\"choropleth\",\"colorbar\":{\"outlinewidth\":0,\"ticks\":\"\"}}],\"histogram2d\":[{\"type\":\"histogram2d\",\"colorbar\":{\"outlinewidth\":0,\"ticks\":\"\"},\"colorscale\":[[0.0,\"#0d0887\"],[0.1111111111111111,\"#46039f\"],[0.2222222222222222,\"#7201a8\"],[0.3333333333333333,\"#9c179e\"],[0.4444444444444444,\"#bd3786\"],[0.5555555555555556,\"#d8576b\"],[0.6666666666666666,\"#ed7953\"],[0.7777777777777778,\"#fb9f3a\"],[0.8888888888888888,\"#fdca26\"],[1.0,\"#f0f921\"]]}],\"heatmap\":[{\"type\":\"heatmap\",\"colorbar\":{\"outlinewidth\":0,\"ticks\":\"\"},\"colorscale\":[[0.0,\"#0d0887\"],[0.1111111111111111,\"#46039f\"],[0.2222222222222222,\"#7201a8\"],[0.3333333333333333,\"#9c179e\"],[0.4444444444444444,\"#bd3786\"],[0.5555555555555556,\"#d8576b\"],[0.6666666666666666,\"#ed7953\"],[0.7777777777777778,\"#fb9f3a\"],[0.8888888888888888,\"#fdca26\"],[1.0,\"#f0f921\"]]}],\"heatmapgl\":[{\"type\":\"heatmapgl\",\"colorbar\":{\"outlinewidth\":0,\"ticks\":\"\"},\"colorscale\":[[0.0,\"#0d0887\"],[0.1111111111111111,\"#46039f\"],[0.2222222222222222,\"#7201a8\"],[0.3333333333333333,\"#9c179e\"],[0.4444444444444444,\"#bd3786\"],[0.5555555555555556,\"#d8576b\"],[0.6666666666666666,\"#ed7953\"],[0.7777777777777778,\"#fb9f3a\"],[0.8888888888888888,\"#fdca26\"],[1.0,\"#f0f921\"]]}],\"contourcarpet\":[{\"type\":\"contourcarpet\",\"colorbar\":{\"outlinewidth\":0,\"ticks\":\"\"}}],\"contour\":[{\"type\":\"contour\",\"colorbar\":{\"outlinewidth\":0,\"ticks\":\"\"},\"colorscale\":[[0.0,\"#0d0887\"],[0.1111111111111111,\"#46039f\"],[0.2222222222222222,\"#7201a8\"],[0.3333333333333333,\"#9c179e\"],[0.4444444444444444,\"#bd3786\"],[0.5555555555555556,\"#d8576b\"],[0.6666666666666666,\"#ed7953\"],[0.7777777777777778,\"#fb9f3a\"],[0.8888888888888888,\"#fdca26\"],[1.0,\"#f0f921\"]]}],\"surface\":[{\"type\":\"surface\",\"colorbar\":{\"outlinewidth\":0,\"ticks\":\"\"},\"colorscale\":[[0.0,\"#0d0887\"],[0.1111111111111111,\"#46039f\"],[0.2222222222222222,\"#7201a8\"],[0.3333333333333333,\"#9c179e\"],[0.4444444444444444,\"#bd3786\"],[0.5555555555555556,\"#d8576b\"],[0.6666666666666666,\"#ed7953\"],[0.7777777777777778,\"#fb9f3a\"],[0.8888888888888888,\"#fdca26\"],[1.0,\"#f0f921\"]]}],\"mesh3d\":[{\"type\":\"mesh3d\",\"colorbar\":{\"outlinewidth\":0,\"ticks\":\"\"}}],\"scatter\":[{\"fillpattern\":{\"fillmode\":\"overlay\",\"size\":10,\"solidity\":0.2},\"type\":\"scatter\"}],\"parcoords\":[{\"type\":\"parcoords\",\"line\":{\"colorbar\":{\"outlinewidth\":0,\"ticks\":\"\"}}}],\"scatterpolargl\":[{\"type\":\"scatterpolargl\",\"marker\":{\"colorbar\":{\"outlinewidth\":0,\"ticks\":\"\"}}}],\"bar\":[{\"error_x\":{\"color\":\"#2a3f5f\"},\"error_y\":{\"color\":\"#2a3f5f\"},\"marker\":{\"line\":{\"color\":\"#E5ECF6\",\"width\":0.5},\"pattern\":{\"fillmode\":\"overlay\",\"size\":10,\"solidity\":0.2}},\"type\":\"bar\"}],\"scattergeo\":[{\"type\":\"scattergeo\",\"marker\":{\"colorbar\":{\"outlinewidth\":0,\"ticks\":\"\"}}}],\"scatterpolar\":[{\"type\":\"scatterpolar\",\"marker\":{\"colorbar\":{\"outlinewidth\":0,\"ticks\":\"\"}}}],\"histogram\":[{\"marker\":{\"pattern\":{\"fillmode\":\"overlay\",\"size\":10,\"solidity\":0.2}},\"type\":\"histogram\"}],\"scattergl\":[{\"type\":\"scattergl\",\"marker\":{\"colorbar\":{\"outlinewidth\":0,\"ticks\":\"\"}}}],\"scatter3d\":[{\"type\":\"scatter3d\",\"line\":{\"colorbar\":{\"outlinewidth\":0,\"ticks\":\"\"}},\"marker\":{\"colorbar\":{\"outlinewidth\":0,\"ticks\":\"\"}}}],\"scattermapbox\":[{\"type\":\"scattermapbox\",\"marker\":{\"colorbar\":{\"outlinewidth\":0,\"ticks\":\"\"}}}],\"scatterternary\":[{\"type\":\"scatterternary\",\"marker\":{\"colorbar\":{\"outlinewidth\":0,\"ticks\":\"\"}}}],\"scattercarpet\":[{\"type\":\"scattercarpet\",\"marker\":{\"colorbar\":{\"outlinewidth\":0,\"ticks\":\"\"}}}],\"carpet\":[{\"aaxis\":{\"endlinecolor\":\"#2a3f5f\",\"gridcolor\":\"white\",\"linecolor\":\"white\",\"minorgridcolor\":\"white\",\"startlinecolor\":\"#2a3f5f\"},\"baxis\":{\"endlinecolor\":\"#2a3f5f\",\"gridcolor\":\"white\",\"linecolor\":\"white\",\"minorgridcolor\":\"white\",\"startlinecolor\":\"#2a3f5f\"},\"type\":\"carpet\"}],\"table\":[{\"cells\":{\"fill\":{\"color\":\"#EBF0F8\"},\"line\":{\"color\":\"white\"}},\"header\":{\"fill\":{\"color\":\"#C8D4E3\"},\"line\":{\"color\":\"white\"}},\"type\":\"table\"}],\"barpolar\":[{\"marker\":{\"line\":{\"color\":\"#E5ECF6\",\"width\":0.5},\"pattern\":{\"fillmode\":\"overlay\",\"size\":10,\"solidity\":0.2}},\"type\":\"barpolar\"}],\"pie\":[{\"automargin\":true,\"type\":\"pie\"}]},\"layout\":{\"autotypenumbers\":\"strict\",\"colorway\":[\"#636efa\",\"#EF553B\",\"#00cc96\",\"#ab63fa\",\"#FFA15A\",\"#19d3f3\",\"#FF6692\",\"#B6E880\",\"#FF97FF\",\"#FECB52\"],\"font\":{\"color\":\"#2a3f5f\"},\"hovermode\":\"closest\",\"hoverlabel\":{\"align\":\"left\"},\"paper_bgcolor\":\"white\",\"plot_bgcolor\":\"#E5ECF6\",\"polar\":{\"bgcolor\":\"#E5ECF6\",\"angularaxis\":{\"gridcolor\":\"white\",\"linecolor\":\"white\",\"ticks\":\"\"},\"radialaxis\":{\"gridcolor\":\"white\",\"linecolor\":\"white\",\"ticks\":\"\"}},\"ternary\":{\"bgcolor\":\"#E5ECF6\",\"aaxis\":{\"gridcolor\":\"white\",\"linecolor\":\"white\",\"ticks\":\"\"},\"baxis\":{\"gridcolor\":\"white\",\"linecolor\":\"white\",\"ticks\":\"\"},\"caxis\":{\"gridcolor\":\"white\",\"linecolor\":\"white\",\"ticks\":\"\"}},\"coloraxis\":{\"colorbar\":{\"outlinewidth\":0,\"ticks\":\"\"}},\"colorscale\":{\"sequential\":[[0.0,\"#0d0887\"],[0.1111111111111111,\"#46039f\"],[0.2222222222222222,\"#7201a8\"],[0.3333333333333333,\"#9c179e\"],[0.4444444444444444,\"#bd3786\"],[0.5555555555555556,\"#d8576b\"],[0.6666666666666666,\"#ed7953\"],[0.7777777777777778,\"#fb9f3a\"],[0.8888888888888888,\"#fdca26\"],[1.0,\"#f0f921\"]],\"sequentialminus\":[[0.0,\"#0d0887\"],[0.1111111111111111,\"#46039f\"],[0.2222222222222222,\"#7201a8\"],[0.3333333333333333,\"#9c179e\"],[0.4444444444444444,\"#bd3786\"],[0.5555555555555556,\"#d8576b\"],[0.6666666666666666,\"#ed7953\"],[0.7777777777777778,\"#fb9f3a\"],[0.8888888888888888,\"#fdca26\"],[1.0,\"#f0f921\"]],\"diverging\":[[0,\"#8e0152\"],[0.1,\"#c51b7d\"],[0.2,\"#de77ae\"],[0.3,\"#f1b6da\"],[0.4,\"#fde0ef\"],[0.5,\"#f7f7f7\"],[0.6,\"#e6f5d0\"],[0.7,\"#b8e186\"],[0.8,\"#7fbc41\"],[0.9,\"#4d9221\"],[1,\"#276419\"]]},\"xaxis\":{\"gridcolor\":\"white\",\"linecolor\":\"white\",\"ticks\":\"\",\"title\":{\"standoff\":15},\"zerolinecolor\":\"white\",\"automargin\":true,\"zerolinewidth\":2},\"yaxis\":{\"gridcolor\":\"white\",\"linecolor\":\"white\",\"ticks\":\"\",\"title\":{\"standoff\":15},\"zerolinecolor\":\"white\",\"automargin\":true,\"zerolinewidth\":2},\"scene\":{\"xaxis\":{\"backgroundcolor\":\"#E5ECF6\",\"gridcolor\":\"white\",\"linecolor\":\"white\",\"showbackground\":true,\"ticks\":\"\",\"zerolinecolor\":\"white\",\"gridwidth\":2},\"yaxis\":{\"backgroundcolor\":\"#E5ECF6\",\"gridcolor\":\"white\",\"linecolor\":\"white\",\"showbackground\":true,\"ticks\":\"\",\"zerolinecolor\":\"white\",\"gridwidth\":2},\"zaxis\":{\"backgroundcolor\":\"#E5ECF6\",\"gridcolor\":\"white\",\"linecolor\":\"white\",\"showbackground\":true,\"ticks\":\"\",\"zerolinecolor\":\"white\",\"gridwidth\":2}},\"shapedefaults\":{\"line\":{\"color\":\"#2a3f5f\"}},\"annotationdefaults\":{\"arrowcolor\":\"#2a3f5f\",\"arrowhead\":0,\"arrowwidth\":1},\"geo\":{\"bgcolor\":\"white\",\"landcolor\":\"#E5ECF6\",\"subunitcolor\":\"white\",\"showland\":true,\"showlakes\":true,\"lakecolor\":\"white\"},\"title\":{\"x\":0.05},\"mapbox\":{\"style\":\"light\"}}},\"xaxis\":{\"anchor\":\"y\",\"domain\":[0.0,1.0],\"title\":{\"text\":\"Start Year\"}},\"yaxis\":{\"anchor\":\"x\",\"domain\":[0.0,1.0],\"title\":{\"text\":\"Total_Deaths\"}},\"legend\":{\"tracegroupgap\":0},\"margin\":{\"t\":60},\"height\":500,\"width\":700,\"title\":{\"text\":\"Total Deaths Over Time using a Stacked Area Chart\",\"y\":0.95,\"x\":0.5,\"xanchor\":\"center\",\"yanchor\":\"top\"}},                        {\"responsive\": true}                    ).then(function(){\n",
       "                            \n",
       "var gd = document.getElementById('328ef047-4d2f-4aa6-a90b-18536c96359f');\n",
       "var x = new MutationObserver(function (mutations, observer) {{\n",
       "        var display = window.getComputedStyle(gd).display;\n",
       "        if (!display || display === 'none') {{\n",
       "            console.log([gd, 'removed!']);\n",
       "            Plotly.purge(gd);\n",
       "            observer.disconnect();\n",
       "        }}\n",
       "}});\n",
       "\n",
       "// Listen for the removal of the full notebook cells\n",
       "var notebookContainer = gd.closest('#notebook-container');\n",
       "if (notebookContainer) {{\n",
       "    x.observe(notebookContainer, {childList: true});\n",
       "}}\n",
       "\n",
       "// Listen for the clearing of the current output cell\n",
       "var outputEl = gd.closest('.output');\n",
       "if (outputEl) {{\n",
       "    x.observe(outputEl, {childList: true});\n",
       "}}\n",
       "\n",
       "                        })                };                });            </script>        </div>"
      ]
     },
     "metadata": {},
     "output_type": "display_data"
    }
   ],
   "source": [
    "# Create stacked area chart\n",
    "area_chart = px.area(Deaths, x = \"Start Year\", y = \"Total_Deaths\", width = 700, height = 500)\n",
    "area_chart.update_layout(title = {\"text\": \"Total Deaths Over Time using a Stacked Area Chart\", \"y\": 0.95, \"x\": 0.5, \"xanchor\": \"center\", \"yanchor\": \"top\"})\n",
    "area_chart.show()\n"
   ]
  },
  {
   "cell_type": "code",
   "execution_count": 133,
   "id": "538f6723-1105-4e8d-ba59-fe64ba057288",
   "metadata": {
    "tags": []
   },
   "outputs": [
    {
     "data": {
      "application/vnd.plotly.v1+json": {
       "config": {
        "plotlyServerURL": "https://plot.ly"
       },
       "data": [
        {
         "branchvalues": "total",
         "domain": {
          "x": [
           0,
           1
          ],
          "y": [
           0,
           1
          ]
         },
         "hovertemplate": "labels=%{label}<br>Group_Count=%{value}<br>parent=%{parent}<br>id=%{id}<extra></extra>",
         "ids": [
          "All Groups/Natural/Epidemic/Biological",
          "All Groups/Natural/Drought/Climatological",
          "All Groups/Natural/Wildfire/Climatological",
          "All Groups/Natural/Earthquake/Geophysical",
          "All Groups/Natural/Volcanic activity/Geophysical",
          "All Groups/Natural/Flood/Hydrological",
          "All Groups/Natural/Mass movement (wet)/Hydrological",
          "All Groups/Technological/Collapse (Industrial)/Industrial accident",
          "All Groups/Technological/Explosion (Industrial)/Industrial accident",
          "All Groups/Technological/Fire (Industrial)/Industrial accident",
          "All Groups/Technological/Gas leak/Industrial accident",
          "All Groups/Technological/Industrial accident (General)/Industrial accident",
          "All Groups/Technological/Radiation/Industrial accident",
          "All Groups/Natural/Extreme temperature/Meteorological",
          "All Groups/Natural/Storm/Meteorological",
          "All Groups/Technological/Collapse (Miscellaneous)/Miscellaneous accident",
          "All Groups/Technological/Explosion (Miscellaneous)/Miscellaneous accident",
          "All Groups/Technological/Fire (Miscellaneous)/Miscellaneous accident",
          "All Groups/Technological/Miscellaneous accident (General)/Miscellaneous accident",
          "All Groups/Technological/Air/Transport",
          "All Groups/Technological/Rail/Transport",
          "All Groups/Technological/Road/Transport",
          "All Groups/Technological/Water/Transport",
          "All Groups/Technological/Air",
          "All Groups/Technological/Collapse (Industrial)",
          "All Groups/Technological/Collapse (Miscellaneous)",
          "All Groups/Natural/Drought",
          "All Groups/Natural/Earthquake",
          "All Groups/Natural/Epidemic",
          "All Groups/Technological/Explosion (Industrial)",
          "All Groups/Technological/Explosion (Miscellaneous)",
          "All Groups/Natural/Extreme temperature",
          "All Groups/Technological/Fire (Industrial)",
          "All Groups/Technological/Fire (Miscellaneous)",
          "All Groups/Natural/Flood",
          "All Groups/Technological/Gas leak",
          "All Groups/Technological/Industrial accident (General)",
          "All Groups/Natural/Mass movement (wet)",
          "All Groups/Technological/Miscellaneous accident (General)",
          "All Groups/Technological/Radiation",
          "All Groups/Technological/Rail",
          "All Groups/Technological/Road",
          "All Groups/Natural/Storm",
          "All Groups/Natural/Volcanic activity",
          "All Groups/Technological/Water",
          "All Groups/Natural/Wildfire",
          "All Groups/Natural",
          "All Groups/Technological",
          "All Groups"
         ],
         "labels": [
          "Biological",
          "Climatological",
          "Climatological",
          "Geophysical",
          "Geophysical",
          "Hydrological",
          "Hydrological",
          "Industrial accident",
          "Industrial accident",
          "Industrial accident",
          "Industrial accident",
          "Industrial accident",
          "Industrial accident",
          "Meteorological",
          "Meteorological",
          "Miscellaneous accident",
          "Miscellaneous accident",
          "Miscellaneous accident",
          "Miscellaneous accident",
          "Transport",
          "Transport",
          "Transport",
          "Transport",
          "Air",
          "Collapse (Industrial)",
          "Collapse (Miscellaneous)",
          "Drought",
          "Earthquake",
          "Epidemic",
          "Explosion (Industrial)",
          "Explosion (Miscellaneous)",
          "Extreme temperature",
          "Fire (Industrial)",
          "Fire (Miscellaneous)",
          "Flood",
          "Gas leak",
          "Industrial accident (General)",
          "Mass movement (wet)",
          "Miscellaneous accident (General)",
          "Radiation",
          "Rail",
          "Road",
          "Storm",
          "Volcanic activity",
          "Water",
          "Wildfire",
          "Natural",
          "Technological",
          "All Groups"
         ],
         "name": "",
         "parents": [
          "All Groups/Natural/Epidemic",
          "All Groups/Natural/Drought",
          "All Groups/Natural/Wildfire",
          "All Groups/Natural/Earthquake",
          "All Groups/Natural/Volcanic activity",
          "All Groups/Natural/Flood",
          "All Groups/Natural/Mass movement (wet)",
          "All Groups/Technological/Collapse (Industrial)",
          "All Groups/Technological/Explosion (Industrial)",
          "All Groups/Technological/Fire (Industrial)",
          "All Groups/Technological/Gas leak",
          "All Groups/Technological/Industrial accident (General)",
          "All Groups/Technological/Radiation",
          "All Groups/Natural/Extreme temperature",
          "All Groups/Natural/Storm",
          "All Groups/Technological/Collapse (Miscellaneous)",
          "All Groups/Technological/Explosion (Miscellaneous)",
          "All Groups/Technological/Fire (Miscellaneous)",
          "All Groups/Technological/Miscellaneous accident (General)",
          "All Groups/Technological/Air",
          "All Groups/Technological/Rail",
          "All Groups/Technological/Road",
          "All Groups/Technological/Water",
          "All Groups/Technological",
          "All Groups/Technological",
          "All Groups/Technological",
          "All Groups/Natural",
          "All Groups/Natural",
          "All Groups/Natural",
          "All Groups/Technological",
          "All Groups/Technological",
          "All Groups/Natural",
          "All Groups/Technological",
          "All Groups/Technological",
          "All Groups/Natural",
          "All Groups/Technological",
          "All Groups/Technological",
          "All Groups/Natural",
          "All Groups/Technological",
          "All Groups/Technological",
          "All Groups/Technological",
          "All Groups/Technological",
          "All Groups/Natural",
          "All Groups/Natural",
          "All Groups/Technological",
          "All Groups/Natural",
          "All Groups",
          "All Groups",
          ""
         ],
         "root": {
          "color": "darkgrey"
         },
         "type": "treemap",
         "values": [
          53,
          20,
          13,
          25,
          8,
          191,
          13,
          9,
          46,
          5,
          5,
          10,
          1,
          30,
          130,
          6,
          9,
          25,
          26,
          27,
          23,
          117,
          62,
          27,
          9,
          6,
          20,
          25,
          53,
          46,
          9,
          30,
          5,
          25,
          191,
          5,
          10,
          13,
          26,
          1,
          23,
          117,
          130,
          8,
          62,
          13,
          483,
          371,
          854
         ]
        }
       ],
       "layout": {
        "autosize": true,
        "font": {
         "color": "white"
        },
        "legend": {
         "tracegroupgap": 0
        },
        "margin": {
         "b": 25,
         "l": 25,
         "r": 25,
         "t": 50
        },
        "template": {
         "data": {
          "bar": [
           {
            "error_x": {
             "color": "#2a3f5f"
            },
            "error_y": {
             "color": "#2a3f5f"
            },
            "marker": {
             "line": {
              "color": "#E5ECF6",
              "width": 0.5
             },
             "pattern": {
              "fillmode": "overlay",
              "size": 10,
              "solidity": 0.2
             }
            },
            "type": "bar"
           }
          ],
          "barpolar": [
           {
            "marker": {
             "line": {
              "color": "#E5ECF6",
              "width": 0.5
             },
             "pattern": {
              "fillmode": "overlay",
              "size": 10,
              "solidity": 0.2
             }
            },
            "type": "barpolar"
           }
          ],
          "carpet": [
           {
            "aaxis": {
             "endlinecolor": "#2a3f5f",
             "gridcolor": "white",
             "linecolor": "white",
             "minorgridcolor": "white",
             "startlinecolor": "#2a3f5f"
            },
            "baxis": {
             "endlinecolor": "#2a3f5f",
             "gridcolor": "white",
             "linecolor": "white",
             "minorgridcolor": "white",
             "startlinecolor": "#2a3f5f"
            },
            "type": "carpet"
           }
          ],
          "choropleth": [
           {
            "colorbar": {
             "outlinewidth": 0,
             "ticks": ""
            },
            "type": "choropleth"
           }
          ],
          "contour": [
           {
            "colorbar": {
             "outlinewidth": 0,
             "ticks": ""
            },
            "colorscale": [
             [
              0,
              "#0d0887"
             ],
             [
              0.1111111111111111,
              "#46039f"
             ],
             [
              0.2222222222222222,
              "#7201a8"
             ],
             [
              0.3333333333333333,
              "#9c179e"
             ],
             [
              0.4444444444444444,
              "#bd3786"
             ],
             [
              0.5555555555555556,
              "#d8576b"
             ],
             [
              0.6666666666666666,
              "#ed7953"
             ],
             [
              0.7777777777777778,
              "#fb9f3a"
             ],
             [
              0.8888888888888888,
              "#fdca26"
             ],
             [
              1,
              "#f0f921"
             ]
            ],
            "type": "contour"
           }
          ],
          "contourcarpet": [
           {
            "colorbar": {
             "outlinewidth": 0,
             "ticks": ""
            },
            "type": "contourcarpet"
           }
          ],
          "heatmap": [
           {
            "colorbar": {
             "outlinewidth": 0,
             "ticks": ""
            },
            "colorscale": [
             [
              0,
              "#0d0887"
             ],
             [
              0.1111111111111111,
              "#46039f"
             ],
             [
              0.2222222222222222,
              "#7201a8"
             ],
             [
              0.3333333333333333,
              "#9c179e"
             ],
             [
              0.4444444444444444,
              "#bd3786"
             ],
             [
              0.5555555555555556,
              "#d8576b"
             ],
             [
              0.6666666666666666,
              "#ed7953"
             ],
             [
              0.7777777777777778,
              "#fb9f3a"
             ],
             [
              0.8888888888888888,
              "#fdca26"
             ],
             [
              1,
              "#f0f921"
             ]
            ],
            "type": "heatmap"
           }
          ],
          "heatmapgl": [
           {
            "colorbar": {
             "outlinewidth": 0,
             "ticks": ""
            },
            "colorscale": [
             [
              0,
              "#0d0887"
             ],
             [
              0.1111111111111111,
              "#46039f"
             ],
             [
              0.2222222222222222,
              "#7201a8"
             ],
             [
              0.3333333333333333,
              "#9c179e"
             ],
             [
              0.4444444444444444,
              "#bd3786"
             ],
             [
              0.5555555555555556,
              "#d8576b"
             ],
             [
              0.6666666666666666,
              "#ed7953"
             ],
             [
              0.7777777777777778,
              "#fb9f3a"
             ],
             [
              0.8888888888888888,
              "#fdca26"
             ],
             [
              1,
              "#f0f921"
             ]
            ],
            "type": "heatmapgl"
           }
          ],
          "histogram": [
           {
            "marker": {
             "pattern": {
              "fillmode": "overlay",
              "size": 10,
              "solidity": 0.2
             }
            },
            "type": "histogram"
           }
          ],
          "histogram2d": [
           {
            "colorbar": {
             "outlinewidth": 0,
             "ticks": ""
            },
            "colorscale": [
             [
              0,
              "#0d0887"
             ],
             [
              0.1111111111111111,
              "#46039f"
             ],
             [
              0.2222222222222222,
              "#7201a8"
             ],
             [
              0.3333333333333333,
              "#9c179e"
             ],
             [
              0.4444444444444444,
              "#bd3786"
             ],
             [
              0.5555555555555556,
              "#d8576b"
             ],
             [
              0.6666666666666666,
              "#ed7953"
             ],
             [
              0.7777777777777778,
              "#fb9f3a"
             ],
             [
              0.8888888888888888,
              "#fdca26"
             ],
             [
              1,
              "#f0f921"
             ]
            ],
            "type": "histogram2d"
           }
          ],
          "histogram2dcontour": [
           {
            "colorbar": {
             "outlinewidth": 0,
             "ticks": ""
            },
            "colorscale": [
             [
              0,
              "#0d0887"
             ],
             [
              0.1111111111111111,
              "#46039f"
             ],
             [
              0.2222222222222222,
              "#7201a8"
             ],
             [
              0.3333333333333333,
              "#9c179e"
             ],
             [
              0.4444444444444444,
              "#bd3786"
             ],
             [
              0.5555555555555556,
              "#d8576b"
             ],
             [
              0.6666666666666666,
              "#ed7953"
             ],
             [
              0.7777777777777778,
              "#fb9f3a"
             ],
             [
              0.8888888888888888,
              "#fdca26"
             ],
             [
              1,
              "#f0f921"
             ]
            ],
            "type": "histogram2dcontour"
           }
          ],
          "mesh3d": [
           {
            "colorbar": {
             "outlinewidth": 0,
             "ticks": ""
            },
            "type": "mesh3d"
           }
          ],
          "parcoords": [
           {
            "line": {
             "colorbar": {
              "outlinewidth": 0,
              "ticks": ""
             }
            },
            "type": "parcoords"
           }
          ],
          "pie": [
           {
            "automargin": true,
            "type": "pie"
           }
          ],
          "scatter": [
           {
            "fillpattern": {
             "fillmode": "overlay",
             "size": 10,
             "solidity": 0.2
            },
            "type": "scatter"
           }
          ],
          "scatter3d": [
           {
            "line": {
             "colorbar": {
              "outlinewidth": 0,
              "ticks": ""
             }
            },
            "marker": {
             "colorbar": {
              "outlinewidth": 0,
              "ticks": ""
             }
            },
            "type": "scatter3d"
           }
          ],
          "scattercarpet": [
           {
            "marker": {
             "colorbar": {
              "outlinewidth": 0,
              "ticks": ""
             }
            },
            "type": "scattercarpet"
           }
          ],
          "scattergeo": [
           {
            "marker": {
             "colorbar": {
              "outlinewidth": 0,
              "ticks": ""
             }
            },
            "type": "scattergeo"
           }
          ],
          "scattergl": [
           {
            "marker": {
             "colorbar": {
              "outlinewidth": 0,
              "ticks": ""
             }
            },
            "type": "scattergl"
           }
          ],
          "scattermapbox": [
           {
            "marker": {
             "colorbar": {
              "outlinewidth": 0,
              "ticks": ""
             }
            },
            "type": "scattermapbox"
           }
          ],
          "scatterpolar": [
           {
            "marker": {
             "colorbar": {
              "outlinewidth": 0,
              "ticks": ""
             }
            },
            "type": "scatterpolar"
           }
          ],
          "scatterpolargl": [
           {
            "marker": {
             "colorbar": {
              "outlinewidth": 0,
              "ticks": ""
             }
            },
            "type": "scatterpolargl"
           }
          ],
          "scatterternary": [
           {
            "marker": {
             "colorbar": {
              "outlinewidth": 0,
              "ticks": ""
             }
            },
            "type": "scatterternary"
           }
          ],
          "surface": [
           {
            "colorbar": {
             "outlinewidth": 0,
             "ticks": ""
            },
            "colorscale": [
             [
              0,
              "#0d0887"
             ],
             [
              0.1111111111111111,
              "#46039f"
             ],
             [
              0.2222222222222222,
              "#7201a8"
             ],
             [
              0.3333333333333333,
              "#9c179e"
             ],
             [
              0.4444444444444444,
              "#bd3786"
             ],
             [
              0.5555555555555556,
              "#d8576b"
             ],
             [
              0.6666666666666666,
              "#ed7953"
             ],
             [
              0.7777777777777778,
              "#fb9f3a"
             ],
             [
              0.8888888888888888,
              "#fdca26"
             ],
             [
              1,
              "#f0f921"
             ]
            ],
            "type": "surface"
           }
          ],
          "table": [
           {
            "cells": {
             "fill": {
              "color": "#EBF0F8"
             },
             "line": {
              "color": "white"
             }
            },
            "header": {
             "fill": {
              "color": "#C8D4E3"
             },
             "line": {
              "color": "white"
             }
            },
            "type": "table"
           }
          ]
         },
         "layout": {
          "annotationdefaults": {
           "arrowcolor": "#2a3f5f",
           "arrowhead": 0,
           "arrowwidth": 1
          },
          "autotypenumbers": "strict",
          "coloraxis": {
           "colorbar": {
            "outlinewidth": 0,
            "ticks": ""
           }
          },
          "colorscale": {
           "diverging": [
            [
             0,
             "#8e0152"
            ],
            [
             0.1,
             "#c51b7d"
            ],
            [
             0.2,
             "#de77ae"
            ],
            [
             0.3,
             "#f1b6da"
            ],
            [
             0.4,
             "#fde0ef"
            ],
            [
             0.5,
             "#f7f7f7"
            ],
            [
             0.6,
             "#e6f5d0"
            ],
            [
             0.7,
             "#b8e186"
            ],
            [
             0.8,
             "#7fbc41"
            ],
            [
             0.9,
             "#4d9221"
            ],
            [
             1,
             "#276419"
            ]
           ],
           "sequential": [
            [
             0,
             "#0d0887"
            ],
            [
             0.1111111111111111,
             "#46039f"
            ],
            [
             0.2222222222222222,
             "#7201a8"
            ],
            [
             0.3333333333333333,
             "#9c179e"
            ],
            [
             0.4444444444444444,
             "#bd3786"
            ],
            [
             0.5555555555555556,
             "#d8576b"
            ],
            [
             0.6666666666666666,
             "#ed7953"
            ],
            [
             0.7777777777777778,
             "#fb9f3a"
            ],
            [
             0.8888888888888888,
             "#fdca26"
            ],
            [
             1,
             "#f0f921"
            ]
           ],
           "sequentialminus": [
            [
             0,
             "#0d0887"
            ],
            [
             0.1111111111111111,
             "#46039f"
            ],
            [
             0.2222222222222222,
             "#7201a8"
            ],
            [
             0.3333333333333333,
             "#9c179e"
            ],
            [
             0.4444444444444444,
             "#bd3786"
            ],
            [
             0.5555555555555556,
             "#d8576b"
            ],
            [
             0.6666666666666666,
             "#ed7953"
            ],
            [
             0.7777777777777778,
             "#fb9f3a"
            ],
            [
             0.8888888888888888,
             "#fdca26"
            ],
            [
             1,
             "#f0f921"
            ]
           ]
          },
          "colorway": [
           "#636efa",
           "#EF553B",
           "#00cc96",
           "#ab63fa",
           "#FFA15A",
           "#19d3f3",
           "#FF6692",
           "#B6E880",
           "#FF97FF",
           "#FECB52"
          ],
          "font": {
           "color": "#2a3f5f"
          },
          "geo": {
           "bgcolor": "white",
           "lakecolor": "white",
           "landcolor": "#E5ECF6",
           "showlakes": true,
           "showland": true,
           "subunitcolor": "white"
          },
          "hoverlabel": {
           "align": "left"
          },
          "hovermode": "closest",
          "mapbox": {
           "style": "light"
          },
          "paper_bgcolor": "white",
          "plot_bgcolor": "#E5ECF6",
          "polar": {
           "angularaxis": {
            "gridcolor": "white",
            "linecolor": "white",
            "ticks": ""
           },
           "bgcolor": "#E5ECF6",
           "radialaxis": {
            "gridcolor": "white",
            "linecolor": "white",
            "ticks": ""
           }
          },
          "scene": {
           "xaxis": {
            "backgroundcolor": "#E5ECF6",
            "gridcolor": "white",
            "gridwidth": 2,
            "linecolor": "white",
            "showbackground": true,
            "ticks": "",
            "zerolinecolor": "white"
           },
           "yaxis": {
            "backgroundcolor": "#E5ECF6",
            "gridcolor": "white",
            "gridwidth": 2,
            "linecolor": "white",
            "showbackground": true,
            "ticks": "",
            "zerolinecolor": "white"
           },
           "zaxis": {
            "backgroundcolor": "#E5ECF6",
            "gridcolor": "white",
            "gridwidth": 2,
            "linecolor": "white",
            "showbackground": true,
            "ticks": "",
            "zerolinecolor": "white"
           }
          },
          "shapedefaults": {
           "line": {
            "color": "#2a3f5f"
           }
          },
          "ternary": {
           "aaxis": {
            "gridcolor": "white",
            "linecolor": "white",
            "ticks": ""
           },
           "baxis": {
            "gridcolor": "white",
            "linecolor": "white",
            "ticks": ""
           },
           "bgcolor": "#E5ECF6",
           "caxis": {
            "gridcolor": "white",
            "linecolor": "white",
            "ticks": ""
           }
          },
          "title": {
           "x": 0.05
          },
          "xaxis": {
           "automargin": true,
           "gridcolor": "white",
           "linecolor": "white",
           "ticks": "",
           "title": {
            "standoff": 15
           },
           "zerolinecolor": "white",
           "zerolinewidth": 2
          },
          "yaxis": {
           "automargin": true,
           "gridcolor": "white",
           "linecolor": "white",
           "ticks": "",
           "title": {
            "standoff": 15
           },
           "zerolinecolor": "white",
           "zerolinewidth": 2
          }
         }
        },
        "treemapcolorway": [
         "lightpink",
         "lightblue"
        ]
       }
      },
      "image/png": "[encoded data removed]",
      "text/html": [
       "<div>                            <div id=\"ec99b941-5f07-4cde-9dbc-2c99092a1550\" class=\"plotly-graph-div\" style=\"height:525px; width:100%;\"></div>            <script type=\"text/javascript\">                require([\"plotly\"], function(Plotly) {                    window.PLOTLYENV=window.PLOTLYENV || {};                                    if (document.getElementById(\"ec99b941-5f07-4cde-9dbc-2c99092a1550\")) {                    Plotly.newPlot(                        \"ec99b941-5f07-4cde-9dbc-2c99092a1550\",                        [{\"branchvalues\":\"total\",\"domain\":{\"x\":[0.0,1.0],\"y\":[0.0,1.0]},\"hovertemplate\":\"labels=%{label}<br>Group_Count=%{value}<br>parent=%{parent}<br>id=%{id}<extra></extra>\",\"ids\":[\"All Groups/Natural/Epidemic/Biological\",\"All Groups/Natural/Drought/Climatological\",\"All Groups/Natural/Wildfire/Climatological\",\"All Groups/Natural/Earthquake/Geophysical\",\"All Groups/Natural/Volcanic activity/Geophysical\",\"All Groups/Natural/Flood/Hydrological\",\"All Groups/Natural/Mass movement (wet)/Hydrological\",\"All Groups/Technological/Collapse (Industrial)/Industrial accident\",\"All Groups/Technological/Explosion (Industrial)/Industrial accident\",\"All Groups/Technological/Fire (Industrial)/Industrial accident\",\"All Groups/Technological/Gas leak/Industrial accident\",\"All Groups/Technological/Industrial accident (General)/Industrial accident\",\"All Groups/Technological/Radiation/Industrial accident\",\"All Groups/Natural/Extreme temperature/Meteorological\",\"All Groups/Natural/Storm/Meteorological\",\"All Groups/Technological/Collapse (Miscellaneous)/Miscellaneous accident\",\"All Groups/Technological/Explosion (Miscellaneous)/Miscellaneous accident\",\"All Groups/Technological/Fire (Miscellaneous)/Miscellaneous accident\",\"All Groups/Technological/Miscellaneous accident (General)/Miscellaneous accident\",\"All Groups/Technological/Air/Transport\",\"All Groups/Technological/Rail/Transport\",\"All Groups/Technological/Road/Transport\",\"All Groups/Technological/Water/Transport\",\"All Groups/Technological/Air\",\"All Groups/Technological/Collapse (Industrial)\",\"All Groups/Technological/Collapse (Miscellaneous)\",\"All Groups/Natural/Drought\",\"All Groups/Natural/Earthquake\",\"All Groups/Natural/Epidemic\",\"All Groups/Technological/Explosion (Industrial)\",\"All Groups/Technological/Explosion (Miscellaneous)\",\"All Groups/Natural/Extreme temperature\",\"All Groups/Technological/Fire (Industrial)\",\"All Groups/Technological/Fire (Miscellaneous)\",\"All Groups/Natural/Flood\",\"All Groups/Technological/Gas leak\",\"All Groups/Technological/Industrial accident (General)\",\"All Groups/Natural/Mass movement (wet)\",\"All Groups/Technological/Miscellaneous accident (General)\",\"All Groups/Technological/Radiation\",\"All Groups/Technological/Rail\",\"All Groups/Technological/Road\",\"All Groups/Natural/Storm\",\"All Groups/Natural/Volcanic activity\",\"All Groups/Technological/Water\",\"All Groups/Natural/Wildfire\",\"All Groups/Natural\",\"All Groups/Technological\",\"All Groups\"],\"labels\":[\"Biological\",\"Climatological\",\"Climatological\",\"Geophysical\",\"Geophysical\",\"Hydrological\",\"Hydrological\",\"Industrial accident\",\"Industrial accident\",\"Industrial accident\",\"Industrial accident\",\"Industrial accident\",\"Industrial accident\",\"Meteorological\",\"Meteorological\",\"Miscellaneous accident\",\"Miscellaneous accident\",\"Miscellaneous accident\",\"Miscellaneous accident\",\"Transport\",\"Transport\",\"Transport\",\"Transport\",\"Air\",\"Collapse (Industrial)\",\"Collapse (Miscellaneous)\",\"Drought\",\"Earthquake\",\"Epidemic\",\"Explosion (Industrial)\",\"Explosion (Miscellaneous)\",\"Extreme temperature\",\"Fire (Industrial)\",\"Fire (Miscellaneous)\",\"Flood\",\"Gas leak\",\"Industrial accident (General)\",\"Mass movement (wet)\",\"Miscellaneous accident (General)\",\"Radiation\",\"Rail\",\"Road\",\"Storm\",\"Volcanic activity\",\"Water\",\"Wildfire\",\"Natural\",\"Technological\",\"All Groups\"],\"name\":\"\",\"parents\":[\"All Groups/Natural/Epidemic\",\"All Groups/Natural/Drought\",\"All Groups/Natural/Wildfire\",\"All Groups/Natural/Earthquake\",\"All Groups/Natural/Volcanic activity\",\"All Groups/Natural/Flood\",\"All Groups/Natural/Mass movement (wet)\",\"All Groups/Technological/Collapse (Industrial)\",\"All Groups/Technological/Explosion (Industrial)\",\"All Groups/Technological/Fire (Industrial)\",\"All Groups/Technological/Gas leak\",\"All Groups/Technological/Industrial accident (General)\",\"All Groups/Technological/Radiation\",\"All Groups/Natural/Extreme temperature\",\"All Groups/Natural/Storm\",\"All Groups/Technological/Collapse (Miscellaneous)\",\"All Groups/Technological/Explosion (Miscellaneous)\",\"All Groups/Technological/Fire (Miscellaneous)\",\"All Groups/Technological/Miscellaneous accident (General)\",\"All Groups/Technological/Air\",\"All Groups/Technological/Rail\",\"All Groups/Technological/Road\",\"All Groups/Technological/Water\",\"All Groups/Technological\",\"All Groups/Technological\",\"All Groups/Technological\",\"All Groups/Natural\",\"All Groups/Natural\",\"All Groups/Natural\",\"All Groups/Technological\",\"All Groups/Technological\",\"All Groups/Natural\",\"All Groups/Technological\",\"All Groups/Technological\",\"All Groups/Natural\",\"All Groups/Technological\",\"All Groups/Technological\",\"All Groups/Natural\",\"All Groups/Technological\",\"All Groups/Technological\",\"All Groups/Technological\",\"All Groups/Technological\",\"All Groups/Natural\",\"All Groups/Natural\",\"All Groups/Technological\",\"All Groups/Natural\",\"All Groups\",\"All Groups\",\"\"],\"values\":[53,20,13,25,8,191,13,9,46,5,5,10,1,30,130,6,9,25,26,27,23,117,62,27,9,6,20,25,53,46,9,30,5,25,191,5,10,13,26,1,23,117,130,8,62,13,483,371,854],\"type\":\"treemap\",\"root\":{\"color\":\"darkgrey\"}}],                        {\"template\":{\"data\":{\"histogram2dcontour\":[{\"type\":\"histogram2dcontour\",\"colorbar\":{\"outlinewidth\":0,\"ticks\":\"\"},\"colorscale\":[[0.0,\"#0d0887\"],[0.1111111111111111,\"#46039f\"],[0.2222222222222222,\"#7201a8\"],[0.3333333333333333,\"#9c179e\"],[0.4444444444444444,\"#bd3786\"],[0.5555555555555556,\"#d8576b\"],[0.6666666666666666,\"#ed7953\"],[0.7777777777777778,\"#fb9f3a\"],[0.8888888888888888,\"#fdca26\"],[1.0,\"#f0f921\"]]}],\"choropleth\":[{\"type\":\"choropleth\",\"colorbar\":{\"outlinewidth\":0,\"ticks\":\"\"}}],\"histogram2d\":[{\"type\":\"histogram2d\",\"colorbar\":{\"outlinewidth\":0,\"ticks\":\"\"},\"colorscale\":[[0.0,\"#0d0887\"],[0.1111111111111111,\"#46039f\"],[0.2222222222222222,\"#7201a8\"],[0.3333333333333333,\"#9c179e\"],[0.4444444444444444,\"#bd3786\"],[0.5555555555555556,\"#d8576b\"],[0.6666666666666666,\"#ed7953\"],[0.7777777777777778,\"#fb9f3a\"],[0.8888888888888888,\"#fdca26\"],[1.0,\"#f0f921\"]]}],\"heatmap\":[{\"type\":\"heatmap\",\"colorbar\":{\"outlinewidth\":0,\"ticks\":\"\"},\"colorscale\":[[0.0,\"#0d0887\"],[0.1111111111111111,\"#46039f\"],[0.2222222222222222,\"#7201a8\"],[0.3333333333333333,\"#9c179e\"],[0.4444444444444444,\"#bd3786\"],[0.5555555555555556,\"#d8576b\"],[0.6666666666666666,\"#ed7953\"],[0.7777777777777778,\"#fb9f3a\"],[0.8888888888888888,\"#fdca26\"],[1.0,\"#f0f921\"]]}],\"heatmapgl\":[{\"type\":\"heatmapgl\",\"colorbar\":{\"outlinewidth\":0,\"ticks\":\"\"},\"colorscale\":[[0.0,\"#0d0887\"],[0.1111111111111111,\"#46039f\"],[0.2222222222222222,\"#7201a8\"],[0.3333333333333333,\"#9c179e\"],[0.4444444444444444,\"#bd3786\"],[0.5555555555555556,\"#d8576b\"],[0.6666666666666666,\"#ed7953\"],[0.7777777777777778,\"#fb9f3a\"],[0.8888888888888888,\"#fdca26\"],[1.0,\"#f0f921\"]]}],\"contourcarpet\":[{\"type\":\"contourcarpet\",\"colorbar\":{\"outlinewidth\":0,\"ticks\":\"\"}}],\"contour\":[{\"type\":\"contour\",\"colorbar\":{\"outlinewidth\":0,\"ticks\":\"\"},\"colorscale\":[[0.0,\"#0d0887\"],[0.1111111111111111,\"#46039f\"],[0.2222222222222222,\"#7201a8\"],[0.3333333333333333,\"#9c179e\"],[0.4444444444444444,\"#bd3786\"],[0.5555555555555556,\"#d8576b\"],[0.6666666666666666,\"#ed7953\"],[0.7777777777777778,\"#fb9f3a\"],[0.8888888888888888,\"#fdca26\"],[1.0,\"#f0f921\"]]}],\"surface\":[{\"type\":\"surface\",\"colorbar\":{\"outlinewidth\":0,\"ticks\":\"\"},\"colorscale\":[[0.0,\"#0d0887\"],[0.1111111111111111,\"#46039f\"],[0.2222222222222222,\"#7201a8\"],[0.3333333333333333,\"#9c179e\"],[0.4444444444444444,\"#bd3786\"],[0.5555555555555556,\"#d8576b\"],[0.6666666666666666,\"#ed7953\"],[0.7777777777777778,\"#fb9f3a\"],[0.8888888888888888,\"#fdca26\"],[1.0,\"#f0f921\"]]}],\"mesh3d\":[{\"type\":\"mesh3d\",\"colorbar\":{\"outlinewidth\":0,\"ticks\":\"\"}}],\"scatter\":[{\"fillpattern\":{\"fillmode\":\"overlay\",\"size\":10,\"solidity\":0.2},\"type\":\"scatter\"}],\"parcoords\":[{\"type\":\"parcoords\",\"line\":{\"colorbar\":{\"outlinewidth\":0,\"ticks\":\"\"}}}],\"scatterpolargl\":[{\"type\":\"scatterpolargl\",\"marker\":{\"colorbar\":{\"outlinewidth\":0,\"ticks\":\"\"}}}],\"bar\":[{\"error_x\":{\"color\":\"#2a3f5f\"},\"error_y\":{\"color\":\"#2a3f5f\"},\"marker\":{\"line\":{\"color\":\"#E5ECF6\",\"width\":0.5},\"pattern\":{\"fillmode\":\"overlay\",\"size\":10,\"solidity\":0.2}},\"type\":\"bar\"}],\"scattergeo\":[{\"type\":\"scattergeo\",\"marker\":{\"colorbar\":{\"outlinewidth\":0,\"ticks\":\"\"}}}],\"scatterpolar\":[{\"type\":\"scatterpolar\",\"marker\":{\"colorbar\":{\"outlinewidth\":0,\"ticks\":\"\"}}}],\"histogram\":[{\"marker\":{\"pattern\":{\"fillmode\":\"overlay\",\"size\":10,\"solidity\":0.2}},\"type\":\"histogram\"}],\"scattergl\":[{\"type\":\"scattergl\",\"marker\":{\"colorbar\":{\"outlinewidth\":0,\"ticks\":\"\"}}}],\"scatter3d\":[{\"type\":\"scatter3d\",\"line\":{\"colorbar\":{\"outlinewidth\":0,\"ticks\":\"\"}},\"marker\":{\"colorbar\":{\"outlinewidth\":0,\"ticks\":\"\"}}}],\"scattermapbox\":[{\"type\":\"scattermapbox\",\"marker\":{\"colorbar\":{\"outlinewidth\":0,\"ticks\":\"\"}}}],\"scatterternary\":[{\"type\":\"scatterternary\",\"marker\":{\"colorbar\":{\"outlinewidth\":0,\"ticks\":\"\"}}}],\"scattercarpet\":[{\"type\":\"scattercarpet\",\"marker\":{\"colorbar\":{\"outlinewidth\":0,\"ticks\":\"\"}}}],\"carpet\":[{\"aaxis\":{\"endlinecolor\":\"#2a3f5f\",\"gridcolor\":\"white\",\"linecolor\":\"white\",\"minorgridcolor\":\"white\",\"startlinecolor\":\"#2a3f5f\"},\"baxis\":{\"endlinecolor\":\"#2a3f5f\",\"gridcolor\":\"white\",\"linecolor\":\"white\",\"minorgridcolor\":\"white\",\"startlinecolor\":\"#2a3f5f\"},\"type\":\"carpet\"}],\"table\":[{\"cells\":{\"fill\":{\"color\":\"#EBF0F8\"},\"line\":{\"color\":\"white\"}},\"header\":{\"fill\":{\"color\":\"#C8D4E3\"},\"line\":{\"color\":\"white\"}},\"type\":\"table\"}],\"barpolar\":[{\"marker\":{\"line\":{\"color\":\"#E5ECF6\",\"width\":0.5},\"pattern\":{\"fillmode\":\"overlay\",\"size\":10,\"solidity\":0.2}},\"type\":\"barpolar\"}],\"pie\":[{\"automargin\":true,\"type\":\"pie\"}]},\"layout\":{\"autotypenumbers\":\"strict\",\"colorway\":[\"#636efa\",\"#EF553B\",\"#00cc96\",\"#ab63fa\",\"#FFA15A\",\"#19d3f3\",\"#FF6692\",\"#B6E880\",\"#FF97FF\",\"#FECB52\"],\"font\":{\"color\":\"#2a3f5f\"},\"hovermode\":\"closest\",\"hoverlabel\":{\"align\":\"left\"},\"paper_bgcolor\":\"white\",\"plot_bgcolor\":\"#E5ECF6\",\"polar\":{\"bgcolor\":\"#E5ECF6\",\"angularaxis\":{\"gridcolor\":\"white\",\"linecolor\":\"white\",\"ticks\":\"\"},\"radialaxis\":{\"gridcolor\":\"white\",\"linecolor\":\"white\",\"ticks\":\"\"}},\"ternary\":{\"bgcolor\":\"#E5ECF6\",\"aaxis\":{\"gridcolor\":\"white\",\"linecolor\":\"white\",\"ticks\":\"\"},\"baxis\":{\"gridcolor\":\"white\",\"linecolor\":\"white\",\"ticks\":\"\"},\"caxis\":{\"gridcolor\":\"white\",\"linecolor\":\"white\",\"ticks\":\"\"}},\"coloraxis\":{\"colorbar\":{\"outlinewidth\":0,\"ticks\":\"\"}},\"colorscale\":{\"sequential\":[[0.0,\"#0d0887\"],[0.1111111111111111,\"#46039f\"],[0.2222222222222222,\"#7201a8\"],[0.3333333333333333,\"#9c179e\"],[0.4444444444444444,\"#bd3786\"],[0.5555555555555556,\"#d8576b\"],[0.6666666666666666,\"#ed7953\"],[0.7777777777777778,\"#fb9f3a\"],[0.8888888888888888,\"#fdca26\"],[1.0,\"#f0f921\"]],\"sequentialminus\":[[0.0,\"#0d0887\"],[0.1111111111111111,\"#46039f\"],[0.2222222222222222,\"#7201a8\"],[0.3333333333333333,\"#9c179e\"],[0.4444444444444444,\"#bd3786\"],[0.5555555555555556,\"#d8576b\"],[0.6666666666666666,\"#ed7953\"],[0.7777777777777778,\"#fb9f3a\"],[0.8888888888888888,\"#fdca26\"],[1.0,\"#f0f921\"]],\"diverging\":[[0,\"#8e0152\"],[0.1,\"#c51b7d\"],[0.2,\"#de77ae\"],[0.3,\"#f1b6da\"],[0.4,\"#fde0ef\"],[0.5,\"#f7f7f7\"],[0.6,\"#e6f5d0\"],[0.7,\"#b8e186\"],[0.8,\"#7fbc41\"],[0.9,\"#4d9221\"],[1,\"#276419\"]]},\"xaxis\":{\"gridcolor\":\"white\",\"linecolor\":\"white\",\"ticks\":\"\",\"title\":{\"standoff\":15},\"zerolinecolor\":\"white\",\"automargin\":true,\"zerolinewidth\":2},\"yaxis\":{\"gridcolor\":\"white\",\"linecolor\":\"white\",\"ticks\":\"\",\"title\":{\"standoff\":15},\"zerolinecolor\":\"white\",\"automargin\":true,\"zerolinewidth\":2},\"scene\":{\"xaxis\":{\"backgroundcolor\":\"#E5ECF6\",\"gridcolor\":\"white\",\"linecolor\":\"white\",\"showbackground\":true,\"ticks\":\"\",\"zerolinecolor\":\"white\",\"gridwidth\":2},\"yaxis\":{\"backgroundcolor\":\"#E5ECF6\",\"gridcolor\":\"white\",\"linecolor\":\"white\",\"showbackground\":true,\"ticks\":\"\",\"zerolinecolor\":\"white\",\"gridwidth\":2},\"zaxis\":{\"backgroundcolor\":\"#E5ECF6\",\"gridcolor\":\"white\",\"linecolor\":\"white\",\"showbackground\":true,\"ticks\":\"\",\"zerolinecolor\":\"white\",\"gridwidth\":2}},\"shapedefaults\":{\"line\":{\"color\":\"#2a3f5f\"}},\"annotationdefaults\":{\"arrowcolor\":\"#2a3f5f\",\"arrowhead\":0,\"arrowwidth\":1},\"geo\":{\"bgcolor\":\"white\",\"landcolor\":\"#E5ECF6\",\"subunitcolor\":\"white\",\"showland\":true,\"showlakes\":true,\"lakecolor\":\"white\"},\"title\":{\"x\":0.05},\"mapbox\":{\"style\":\"light\"}}},\"legend\":{\"tracegroupgap\":0},\"margin\":{\"t\":50,\"l\":25,\"r\":25,\"b\":25},\"font\":{\"color\":\"white\"},\"treemapcolorway\":[\"lightpink\",\"lightblue\"]},                        {\"responsive\": true}                    ).then(function(){\n",
       "                            \n",
       "var gd = document.getElementById('ec99b941-5f07-4cde-9dbc-2c99092a1550');\n",
       "var x = new MutationObserver(function (mutations, observer) {{\n",
       "        var display = window.getComputedStyle(gd).display;\n",
       "        if (!display || display === 'none') {{\n",
       "            console.log([gd, 'removed!']);\n",
       "            Plotly.purge(gd);\n",
       "            observer.disconnect();\n",
       "        }}\n",
       "}});\n",
       "\n",
       "// Listen for the removal of the full notebook cells\n",
       "var notebookContainer = gd.closest('#notebook-container');\n",
       "if (notebookContainer) {{\n",
       "    x.observe(notebookContainer, {childList: true});\n",
       "}}\n",
       "\n",
       "// Listen for the clearing of the current output cell\n",
       "var outputEl = gd.closest('.output');\n",
       "if (outputEl) {{\n",
       "    x.observe(outputEl, {childList: true});\n",
       "}}\n",
       "\n",
       "                        })                };                });            </script>        </div>"
      ]
     },
     "metadata": {},
     "output_type": "display_data"
    }
   ],
   "source": [
    "treemap = px.treemap(year_filter_grouped, \n",
    "                     path = [px.Constant(\"All Groups\"), \"Disaster Group\", \"Disaster Type\", \"Disaster Subgroup\"],\n",
    "                     values = \"Group_Count\")\n",
    "\n",
    "treemap.update_traces(root_color = \"darkgrey\")\n",
    "treemap.update_layout(\n",
    "    treemapcolorway = [\"lightpink\", \"lightblue\"],\n",
    "    margin = dict(t = 50, l = 25, r = 25, b = 25),\n",
    "    font_color = \"white\")\n",
    "treemap.show()\n"
   ]
  },
  {
   "cell_type": "markdown",
   "id": "71e1bda1-5726-4d3f-94d6-fa78cd9eac01",
   "metadata": {},
   "source": [
    "From the Tree Map above I notice that the size of the natural disaster is greater in size than the Technological. Also it goes from high level to low level and simultaneously goes from left to right in descending order. Floods are resposible for the most disasters in the year 2005 followed by Storms. It could be deduced that the two could be related given that storms typically produce floodings."
   ]
  },
  {
   "cell_type": "markdown",
   "id": "c8453188-7579-4b6e-b142-18917dc24625",
   "metadata": {},
   "source": [
    "e.\tCreate a stacked area chart of columns of your choosing\n",
    "    i.\tWhat do you notice? "
   ]
  },
  {
   "cell_type": "code",
   "execution_count": 134,
   "id": "1297ba40-f4a3-4ded-bb8b-8a117f3b5df7",
   "metadata": {
    "tags": []
   },
   "outputs": [
    {
     "data": {
      "text/plain": [
       "Index(['DisNo.', 'Historic', 'Classification Key', 'Disaster Group',\n",
       "       'Disaster Subgroup', 'Disaster Type', 'Disaster Subtype',\n",
       "       'External IDs', 'Event Name', 'ISO', 'Country', 'Subregion', 'Region',\n",
       "       'Location', 'Origin', 'Associated Types', 'OFDA/BHA Response', 'Appeal',\n",
       "       'Declaration', 'AID Contribution ('000 US$)', 'Magnitude',\n",
       "       'Magnitude Scale', 'Latitude', 'Longitude', 'River Basin', 'Start Year',\n",
       "       'Start Month', 'Start Day', 'End Year', 'End Month', 'End Day',\n",
       "       'Total Deaths', 'No. Injured', 'No. Affected', 'No. Homeless',\n",
       "       'Total Affected', 'Reconstruction Costs ('000 US$)',\n",
       "       'Reconstruction Costs, Adjusted ('000 US$)',\n",
       "       'Insured Damage ('000 US$)', 'Insured Damage, Adjusted ('000 US$)',\n",
       "       'Total Damage ('000 US$)', 'Total Damage, Adjusted ('000 US$)', 'CPI',\n",
       "       'Admin Units', 'Entry Date', 'Last Update'],\n",
       "      dtype='object')"
      ]
     },
     "execution_count": 134,
     "metadata": {},
     "output_type": "execute_result"
    }
   ],
   "source": [
    "df.columns"
   ]
  },
  {
   "cell_type": "code",
   "execution_count": 135,
   "id": "70761027-f67a-4c7c-a06e-928bf6d939d9",
   "metadata": {},
   "outputs": [
    {
     "data": {
      "text/html": [
       "<div>\n",
       "<style scoped>\n",
       "    .dataframe tbody tr th:only-of-type {\n",
       "        vertical-align: middle;\n",
       "    }\n",
       "\n",
       "    .dataframe tbody tr th {\n",
       "        vertical-align: top;\n",
       "    }\n",
       "\n",
       "    .dataframe thead th {\n",
       "        text-align: right;\n",
       "    }\n",
       "</style>\n",
       "<table border=\"1\" class=\"dataframe\">\n",
       "  <thead>\n",
       "    <tr style=\"text-align: right;\">\n",
       "      <th></th>\n",
       "      <th>Total Deaths</th>\n",
       "      <th>Start Year</th>\n",
       "      <th>Count_Disaster</th>\n",
       "    </tr>\n",
       "  </thead>\n",
       "  <tbody>\n",
       "    <tr>\n",
       "      <th>0</th>\n",
       "      <td>34.0</td>\n",
       "      <td>2000</td>\n",
       "      <td>6</td>\n",
       "    </tr>\n",
       "    <tr>\n",
       "      <th>1</th>\n",
       "      <td>24.0</td>\n",
       "      <td>2000</td>\n",
       "      <td>10</td>\n",
       "    </tr>\n",
       "    <tr>\n",
       "      <th>2</th>\n",
       "      <td>88.0</td>\n",
       "      <td>2000</td>\n",
       "      <td>1</td>\n",
       "    </tr>\n",
       "    <tr>\n",
       "      <th>3</th>\n",
       "      <td>130.0</td>\n",
       "      <td>2000</td>\n",
       "      <td>2</td>\n",
       "    </tr>\n",
       "    <tr>\n",
       "      <th>4</th>\n",
       "      <td>86.0</td>\n",
       "      <td>2000</td>\n",
       "      <td>1</td>\n",
       "    </tr>\n",
       "    <tr>\n",
       "      <th>...</th>\n",
       "      <td>...</td>\n",
       "      <td>...</td>\n",
       "      <td>...</td>\n",
       "    </tr>\n",
       "    <tr>\n",
       "      <th>2700</th>\n",
       "      <td>330.0</td>\n",
       "      <td>2024</td>\n",
       "      <td>1</td>\n",
       "    </tr>\n",
       "    <tr>\n",
       "      <th>2701</th>\n",
       "      <td>58.0</td>\n",
       "      <td>2024</td>\n",
       "      <td>1</td>\n",
       "    </tr>\n",
       "    <tr>\n",
       "      <th>2702</th>\n",
       "      <td>155.0</td>\n",
       "      <td>2024</td>\n",
       "      <td>1</td>\n",
       "    </tr>\n",
       "    <tr>\n",
       "      <th>2703</th>\n",
       "      <td>19.0</td>\n",
       "      <td>2024</td>\n",
       "      <td>2</td>\n",
       "    </tr>\n",
       "    <tr>\n",
       "      <th>2704</th>\n",
       "      <td>10.0</td>\n",
       "      <td>2024</td>\n",
       "      <td>7</td>\n",
       "    </tr>\n",
       "  </tbody>\n",
       "</table>\n",
       "<p>2705 rows × 3 columns</p>\n",
       "</div>"
      ],
      "text/plain": [
       "      Total Deaths  Start Year  Count_Disaster\n",
       "0             34.0        2000               6\n",
       "1             24.0        2000              10\n",
       "2             88.0        2000               1\n",
       "3            130.0        2000               2\n",
       "4             86.0        2000               1\n",
       "...            ...         ...             ...\n",
       "2700         330.0        2024               1\n",
       "2701          58.0        2024               1\n",
       "2702         155.0        2024               1\n",
       "2703          19.0        2024               2\n",
       "2704          10.0        2024               7\n",
       "\n",
       "[2705 rows x 3 columns]"
      ]
     },
     "execution_count": 135,
     "metadata": {},
     "output_type": "execute_result"
    }
   ],
   "source": [
    "# Let's view how many disasters have a hit a region over time\n",
    "country_grouped = df.groupby([\"Total Deaths\", \"Start Year\"]).agg(Count_Disaster = pd.NamedAgg(\"Country\", \"size\")).sort_values(\"Start Year\").reset_index(drop = False)\n",
    "country_grouped"
   ]
  },
  {
   "cell_type": "markdown",
   "id": "eb8c5e70-e2fd-4008-b41a-4830f56c015b",
   "metadata": {
    "tags": []
   },
   "source": [
    "# 3)\tVisualizations using PLOTLY library – WEATHER DATASET \n",
    "\n"
   ]
  },
  {
   "cell_type": "markdown",
   "id": "38d09b96-9a3c-44ef-a505-c623e04a5f0c",
   "metadata": {
    "tags": []
   },
   "source": [
    "## a.\tCreate a histogram to show the distribution of temperatures\n",
    "\n",
    "i.\tHow is the data distributed?\n",
    "\n",
    "ii.\tWhat are the majority of temperatures shown? "
   ]
  },
  {
   "cell_type": "code",
   "execution_count": 136,
   "id": "e78cb5a4-a1cb-4d2e-a121-74defc99b4cb",
   "metadata": {
    "tags": []
   },
   "outputs": [
    {
     "data": {
      "image/png": "[encoded data removed]",
      "text/plain": [
       "<Figure size 1500x1200 with 1 Axes>"
      ]
     },
     "metadata": {},
     "output_type": "display_data"
    }
   ],
   "source": [
    "import statistics as stat\n",
    "# Make the seasons column a category \n",
    "df_1[\"Season\"] = df_1[\"Season\"].astype(\"category\")\n",
    "\n",
    "# Begin creation of histogram\n",
    "plt.figure(figsize = (15, 12))\n",
    "sns.histplot(df_1, x = \"Temp\")\n",
    "plt.title(\"Histogram of Temperatures\")\n",
    "plt.show()"
   ]
  },
  {
   "cell_type": "markdown",
   "id": "80eee44d-63df-4716-a5f4-7388fd9bc280",
   "metadata": {},
   "source": [
    "The data is skewed to the the left since the median is greater than the mean."
   ]
  },
  {
   "cell_type": "code",
   "execution_count": 138,
   "id": "50da6c84-4ab5-4c93-b3de-c13f6c9655aa",
   "metadata": {
    "tags": []
   },
   "outputs": [
    {
     "name": "stdout",
     "output_type": "stream",
     "text": [
      "The mean is : 54.93 and the meadian is : 56.0\n"
     ]
    }
   ],
   "source": [
    " mean = stat.mean(df_1.Temp)\n",
    " \n",
    " meadian = stat.median(df_1.Temp)\n",
    "\n",
    "print(f'The mean is : {mean:.2f} and the meadian is : {meadian}')\n"
   ]
  },
  {
   "cell_type": "code",
   "execution_count": 139,
   "id": "889d8b6d-88a1-4ca9-b11b-603f962154f9",
   "metadata": {
    "tags": []
   },
   "outputs": [
    {
     "data": {
      "text/plain": [
       "57.0"
      ]
     },
     "execution_count": 139,
     "metadata": {},
     "output_type": "execute_result"
    }
   ],
   "source": [
    "stat.mode(df_1.Temp)"
   ]
  },
  {
   "cell_type": "markdown",
   "id": "8988331f-2c5e-4d09-9530-194a3926f582",
   "metadata": {},
   "source": [
    " The majority of the temperatures shown is 57 degrees based on the mode of the category Temperature."
   ]
  },
  {
   "cell_type": "markdown",
   "id": "aff4a80b-82e5-4d66-bf36-f8378ae3242c",
   "metadata": {},
   "source": [
    "## b.\tCreate a boxplot of the data and identify the following values\n",
    "\n",
    "i.\tMax value\n",
    "\n",
    "ii.\tMin value\n",
    "\n",
    "iii.\tQ1, Q3, and the IQR \n",
    "\n",
    "iv.\tMedian \n",
    "\n"
   ]
  },
  {
   "cell_type": "code",
   "execution_count": 140,
   "id": "a9c2724f-7791-4450-8ecd-63648cbdcb96",
   "metadata": {
    "tags": []
   },
   "outputs": [
    {
     "data": {
      "application/vnd.plotly.v1+json": {
       "config": {
        "plotlyServerURL": "https://plot.ly"
       },
       "data": [
        {
         "alignmentgroup": "True",
         "hovertemplate": "Location=City A<br>Season=%{x}<br>Temp=%{y}<extra></extra>",
         "legendgroup": "City A",
         "marker": {
          "color": "#313131"
         },
         "name": "City A",
         "notched": false,
         "offsetgroup": "City A",
         "orientation": "v",
         "showlegend": true,
         "type": "box",
         "x": [
          "Spring",
          "Summer",
          "Fall",
          "Winter",
          "Spring",
          "Summer",
          "Fall",
          "Winter",
          "Spring",
          "Summer",
          "Fall",
          "Winter",
          "Spring",
          "Summer",
          "Fall",
          "Winter",
          "Spring",
          "Summer",
          "Fall",
          "Winter",
          "Spring",
          "Summer",
          "Fall",
          "Winter",
          "Spring",
          "Summer",
          "Fall",
          "Winter",
          "Spring",
          "Summer",
          "Fall",
          "Winter",
          "Spring",
          "Summer",
          "Fall",
          "Winter",
          "Spring",
          "Summer",
          "Fall",
          "Winter",
          "Spring",
          "Summer",
          "Fall",
          "Winter",
          "Spring",
          "Summer",
          "Fall",
          "Winter",
          "Spring",
          "Summer",
          "Fall",
          "Winter",
          "Spring",
          "Summer",
          "Fall",
          "Winter",
          "Spring",
          "Summer",
          "Fall",
          "Winter",
          "Spring",
          "Summer",
          "Fall",
          "Winter",
          "Spring",
          "Summer",
          "Fall",
          "Winter",
          "Spring",
          "Summer",
          "Fall",
          "Winter",
          "Spring",
          "Summer",
          "Fall",
          "Winter",
          "Spring",
          "Summer",
          "Fall",
          "Winter",
          "Spring",
          "Summer",
          "Fall",
          "Winter",
          "Spring",
          "Summer",
          "Fall",
          "Winter",
          "Spring",
          "Summer",
          "Fall",
          "Winter",
          "Spring",
          "Summer",
          "Fall",
          "Winter",
          "Spring",
          "Summer",
          "Fall",
          "Winter",
          "Spring",
          "Summer",
          "Fall",
          "Winter",
          "Spring",
          "Summer",
          "Fall",
          "Winter",
          "Spring",
          "Summer",
          "Fall",
          "Winter",
          "Spring",
          "Summer",
          "Fall",
          "Winter",
          "Spring",
          "Summer",
          "Fall",
          "Winter",
          "Spring",
          "Summer",
          "Fall",
          "Winter",
          "Spring",
          "Summer",
          "Fall",
          "Winter",
          "Spring",
          "Summer",
          "Fall",
          "Winter",
          "Spring",
          "Summer",
          "Fall",
          "Winter",
          "Spring",
          "Summer",
          "Fall",
          "Winter",
          "Spring",
          "Summer",
          "Fall",
          "Winter",
          "Spring",
          "Summer",
          "Fall",
          "Winter",
          "Spring",
          "Summer",
          "Fall",
          "Winter",
          "Spring",
          "Summer",
          "Fall",
          "Winter",
          "Spring",
          "Summer",
          "Fall",
          "Winter",
          "Spring",
          "Summer",
          "Fall",
          "Winter",
          "Spring",
          "Summer",
          "Fall",
          "Winter",
          "Spring",
          "Summer",
          "Fall",
          "Winter",
          "Spring",
          "Summer",
          "Fall",
          "Winter",
          "Spring",
          "Summer",
          "Fall",
          "Winter",
          "Spring",
          "Summer",
          "Fall",
          "Winter",
          "Spring",
          "Summer",
          "Fall",
          "Winter",
          "Spring",
          "Summer",
          "Fall",
          "Winter",
          "Spring",
          "Summer",
          "Fall",
          "Winter",
          "Spring",
          "Summer",
          "Fall",
          "Winter",
          "Spring",
          "Summer",
          "Fall",
          "Winter",
          "Spring",
          "Summer",
          "Fall",
          "Winter",
          "Spring",
          "Summer",
          "Fall",
          "Winter",
          "Spring",
          "Summer",
          "Fall",
          "Winter",
          "Spring",
          "Summer",
          "Fall",
          "Winter",
          "Spring",
          "Summer",
          "Fall",
          "Winter",
          "Spring",
          "Summer",
          "Fall",
          "Winter",
          "Spring",
          "Summer",
          "Fall",
          "Winter",
          "Spring",
          "Summer",
          "Fall",
          "Winter",
          "Spring",
          "Summer",
          "Fall",
          "Winter",
          "Spring",
          "Summer",
          "Fall",
          "Winter",
          "Spring",
          "Summer",
          "Fall",
          "Winter",
          "Spring",
          "Summer",
          "Fall",
          "Winter",
          "Spring",
          "Summer",
          "Fall",
          "Winter",
          "Spring",
          "Summer",
          "Fall",
          "Winter",
          "Spring",
          "Summer",
          "Fall",
          "Winter",
          "Spring",
          "Summer",
          "Fall",
          "Winter",
          "Spring",
          "Summer",
          "Fall",
          "Winter",
          "Spring",
          "Summer",
          "Fall",
          "Winter",
          "Spring",
          "Summer",
          "Fall",
          "Winter",
          "Spring",
          "Summer",
          "Fall",
          "Winter",
          "Spring",
          "Summer",
          "Fall",
          "Winter",
          "Spring",
          "Summer",
          "Fall",
          "Winter",
          "Spring",
          "Summer",
          "Fall",
          "Winter",
          "Spring",
          "Summer",
          "Fall",
          "Winter",
          "Spring",
          "Summer",
          "Fall",
          "Winter",
          "Spring",
          "Summer",
          "Fall",
          "Winter",
          "Spring",
          "Summer",
          "Fall",
          "Winter",
          "Spring",
          "Summer",
          "Fall",
          "Winter",
          "Spring",
          "Summer",
          "Fall",
          "Winter",
          "Spring",
          "Summer",
          "Fall",
          "Winter",
          "Spring",
          "Summer",
          "Fall",
          "Winter",
          "Spring",
          "Summer",
          "Fall",
          "Winter",
          "Spring",
          "Summer",
          "Fall",
          "Winter",
          "Spring",
          "Summer",
          "Fall",
          "Winter",
          "Spring",
          "Summer",
          "Fall",
          "Winter",
          "Spring",
          "Summer",
          "Fall",
          "Winter",
          "Spring",
          "Summer",
          "Fall",
          "Winter",
          "Spring",
          "Summer",
          "Fall",
          "Winter",
          "Spring",
          "Summer",
          "Fall",
          "Winter",
          "Spring",
          "Summer",
          "Fall",
          "Winter",
          "Spring",
          "Summer",
          "Fall",
          "Winter",
          "Spring",
          "Summer",
          "Fall",
          "Winter",
          "Spring",
          "Summer",
          "Fall",
          "Winter",
          "Spring",
          "Summer",
          "Fall",
          "Winter",
          "Spring",
          "Summer",
          "Fall",
          "Winter",
          "Spring",
          "Summer",
          "Fall",
          "Winter",
          "Spring",
          "Summer",
          "Fall",
          "Winter",
          "Spring",
          "Summer",
          "Fall",
          "Winter",
          "Spring",
          "Summer",
          "Fall",
          "Winter"
         ],
         "x0": " ",
         "xaxis": "x",
         "y": [
          35,
          78,
          46,
          16,
          25,
          75,
          50,
          29,
          63,
          76,
          46,
          13,
          42,
          74,
          53,
          -3,
          59,
          81,
          0,
          1,
          44,
          87,
          0,
          24,
          38,
          72,
          47,
          22,
          21,
          81,
          44,
          9,
          43,
          80,
          62,
          26,
          65,
          77,
          46,
          23,
          48,
          85,
          44,
          -1,
          27,
          87,
          36,
          7,
          55,
          80,
          42,
          30,
          46,
          78,
          56,
          16,
          29,
          77,
          23,
          28,
          50,
          82,
          55,
          12,
          44,
          89,
          48,
          0,
          53,
          84,
          48,
          10,
          29,
          63,
          20,
          20,
          53,
          95,
          13,
          30,
          34,
          81,
          23,
          16,
          65,
          82,
          74,
          24,
          19,
          89,
          36,
          33,
          45,
          95,
          60,
          21,
          29,
          96,
          30,
          16,
          47,
          90,
          61,
          28,
          38,
          75,
          30,
          28,
          35,
          83,
          29,
          7,
          30,
          89,
          21,
          16,
          46,
          82,
          67,
          7,
          51,
          91,
          51,
          5,
          38,
          84,
          35,
          10,
          29,
          82,
          27,
          20,
          52,
          89,
          29,
          0,
          35,
          88,
          31,
          34,
          45,
          80,
          41,
          -15,
          32,
          71,
          25,
          7,
          51,
          88,
          35,
          9,
          34,
          82,
          16,
          14,
          64,
          67,
          44,
          5,
          56,
          82,
          44,
          36,
          53,
          71,
          58,
          15,
          18,
          99,
          52,
          6,
          50,
          78,
          45,
          18,
          38,
          91,
          25,
          11,
          38,
          80,
          64,
          3,
          48,
          87,
          40,
          40,
          48,
          77,
          52,
          6,
          39,
          80,
          43,
          -6,
          44,
          78,
          55,
          14,
          29,
          77,
          36,
          6,
          46,
          88,
          38,
          21,
          12,
          83,
          25,
          8,
          50,
          84,
          23,
          18,
          24,
          99,
          42,
          19,
          31,
          80,
          66,
          1,
          11,
          73,
          61,
          0,
          41,
          87,
          54,
          -2,
          61,
          75,
          31,
          27,
          46,
          85,
          46,
          5,
          46,
          91,
          41,
          20,
          31,
          66,
          34,
          23,
          26,
          89,
          65,
          0,
          26,
          76,
          56,
          18,
          25,
          83,
          48,
          13,
          29,
          69,
          53,
          15,
          39,
          78,
          35,
          39,
          22,
          89,
          52,
          7,
          53,
          90,
          28,
          20,
          45,
          99,
          23,
          21,
          34,
          73,
          47,
          31,
          39,
          65,
          25,
          5,
          26,
          76,
          35,
          34,
          28,
          79,
          36,
          24,
          65,
          82,
          32,
          21,
          40,
          83,
          27,
          5,
          47,
          88,
          37,
          19,
          40,
          90,
          48,
          29,
          23,
          87,
          61,
          15,
          37,
          86,
          25,
          25,
          53,
          78,
          46,
          7,
          40,
          90,
          55,
          9,
          22,
          86,
          44,
          -3,
          30,
          68,
          58,
          14,
          35,
          77,
          27,
          -15,
          33,
          86,
          42,
          7,
          35,
          96,
          46,
          2,
          41,
          74,
          28,
          11,
          38,
          86,
          25,
          27,
          40,
          85,
          30,
          9,
          15,
          71,
          47,
          14,
          59,
          86,
          26,
          7,
          22,
          84,
          19,
          15,
          49,
          76,
          30,
          23,
          34,
          91,
          23,
          30,
          30,
          80,
          36,
          27,
          62,
          85,
          35,
          11,
          34,
          83,
          32,
          7,
          34,
          85,
          49,
          0,
          26,
          89,
          42,
          23
         ],
         "y0": " ",
         "yaxis": "y"
        },
        {
         "alignmentgroup": "True",
         "hovertemplate": "Location=City B<br>Season=%{x}<br>Temp=%{y}<extra></extra>",
         "legendgroup": "City B",
         "marker": {
          "color": "#3d019d"
         },
         "name": "City B",
         "notched": false,
         "offsetgroup": "City B",
         "orientation": "v",
         "showlegend": true,
         "type": "box",
         "x": [
          "Spring",
          "Summer",
          "Fall",
          "Winter",
          "Spring",
          "Summer",
          "Fall",
          "Winter",
          "Spring",
          "Summer",
          "Fall",
          "Winter",
          "Spring",
          "Summer",
          "Fall",
          "Winter",
          "Spring",
          "Summer",
          "Fall",
          "Winter",
          "Spring",
          "Summer",
          "Fall",
          "Winter",
          "Spring",
          "Summer",
          "Fall",
          "Winter",
          "Spring",
          "Summer",
          "Fall",
          "Winter",
          "Spring",
          "Summer",
          "Fall",
          "Winter",
          "Spring",
          "Summer",
          "Fall",
          "Winter",
          "Spring",
          "Summer",
          "Fall",
          "Winter",
          "Spring",
          "Summer",
          "Fall",
          "Winter",
          "Spring",
          "Summer",
          "Fall",
          "Winter",
          "Spring",
          "Summer",
          "Fall",
          "Winter",
          "Spring",
          "Summer",
          "Fall",
          "Winter",
          "Spring",
          "Summer",
          "Fall",
          "Winter",
          "Spring",
          "Summer",
          "Fall",
          "Winter",
          "Spring",
          "Summer",
          "Fall",
          "Winter",
          "Spring",
          "Summer",
          "Fall",
          "Winter",
          "Spring",
          "Summer",
          "Fall",
          "Winter",
          "Spring",
          "Summer",
          "Fall",
          "Winter",
          "Spring",
          "Summer",
          "Fall",
          "Winter",
          "Spring",
          "Summer",
          "Fall",
          "Winter",
          "Spring",
          "Summer",
          "Fall",
          "Winter",
          "Spring",
          "Summer",
          "Fall",
          "Winter",
          "Spring",
          "Summer",
          "Fall",
          "Winter",
          "Spring",
          "Summer",
          "Fall",
          "Winter",
          "Spring",
          "Summer",
          "Fall",
          "Winter",
          "Spring",
          "Summer",
          "Fall",
          "Winter",
          "Spring",
          "Summer",
          "Fall",
          "Winter",
          "Spring",
          "Summer",
          "Fall",
          "Winter",
          "Spring",
          "Summer",
          "Fall",
          "Winter",
          "Spring",
          "Summer",
          "Fall",
          "Winter",
          "Spring",
          "Summer",
          "Fall",
          "Winter",
          "Spring",
          "Summer",
          "Fall",
          "Winter",
          "Spring",
          "Summer",
          "Fall",
          "Winter",
          "Spring",
          "Summer",
          "Fall",
          "Winter",
          "Spring",
          "Summer",
          "Fall",
          "Winter",
          "Spring",
          "Summer",
          "Fall",
          "Winter",
          "Spring",
          "Summer",
          "Fall",
          "Winter",
          "Spring",
          "Summer",
          "Fall",
          "Winter",
          "Spring",
          "Summer",
          "Fall",
          "Winter",
          "Spring",
          "Summer",
          "Fall",
          "Winter",
          "Spring",
          "Summer",
          "Fall",
          "Winter",
          "Spring",
          "Summer",
          "Fall",
          "Winter",
          "Spring",
          "Summer",
          "Fall",
          "Winter",
          "Spring",
          "Summer",
          "Fall",
          "Winter",
          "Spring",
          "Summer",
          "Fall",
          "Winter",
          "Spring",
          "Summer",
          "Fall",
          "Winter",
          "Spring",
          "Summer",
          "Fall",
          "Winter",
          "Spring",
          "Summer",
          "Fall",
          "Winter",
          "Spring",
          "Summer",
          "Fall",
          "Winter",
          "Spring",
          "Summer",
          "Fall",
          "Winter",
          "Spring",
          "Summer",
          "Fall",
          "Winter",
          "Spring",
          "Summer",
          "Fall",
          "Winter",
          "Spring",
          "Summer",
          "Fall",
          "Winter",
          "Spring",
          "Summer",
          "Fall",
          "Winter",
          "Spring",
          "Summer",
          "Fall",
          "Winter",
          "Spring",
          "Summer",
          "Fall",
          "Winter",
          "Spring",
          "Summer",
          "Fall",
          "Winter",
          "Spring",
          "Summer",
          "Fall",
          "Winter",
          "Spring",
          "Summer",
          "Fall",
          "Winter",
          "Spring",
          "Summer",
          "Fall",
          "Winter",
          "Spring",
          "Summer",
          "Fall",
          "Winter",
          "Spring",
          "Summer",
          "Fall",
          "Winter",
          "Spring",
          "Summer",
          "Fall",
          "Winter",
          "Spring",
          "Summer",
          "Fall",
          "Winter",
          "Spring",
          "Summer",
          "Fall",
          "Winter",
          "Spring",
          "Summer",
          "Fall",
          "Winter",
          "Spring",
          "Summer",
          "Fall",
          "Winter",
          "Spring",
          "Summer",
          "Fall",
          "Winter",
          "Spring",
          "Summer",
          "Fall",
          "Winter",
          "Spring",
          "Summer",
          "Fall",
          "Winter",
          "Spring",
          "Summer",
          "Fall",
          "Winter",
          "Spring",
          "Summer",
          "Fall",
          "Winter",
          "Spring",
          "Summer",
          "Fall",
          "Winter",
          "Spring",
          "Summer",
          "Fall",
          "Winter",
          "Spring",
          "Summer",
          "Fall",
          "Winter",
          "Spring",
          "Summer",
          "Fall",
          "Winter",
          "Spring",
          "Summer",
          "Fall",
          "Winter",
          "Spring",
          "Summer",
          "Fall",
          "Winter",
          "Spring",
          "Summer",
          "Fall",
          "Winter",
          "Spring",
          "Summer",
          "Fall",
          "Winter",
          "Spring",
          "Summer",
          "Fall",
          "Winter",
          "Spring",
          "Summer",
          "Fall",
          "Winter",
          "Spring",
          "Summer",
          "Fall",
          "Winter",
          "Spring",
          "Summer",
          "Fall",
          "Winter",
          "Spring",
          "Summer",
          "Fall",
          "Winter",
          "Spring",
          "Summer",
          "Fall",
          "Winter",
          "Spring",
          "Summer",
          "Fall",
          "Winter",
          "Spring",
          "Summer",
          "Fall",
          "Winter",
          "Spring",
          "Summer",
          "Fall",
          "Winter",
          "Spring",
          "Summer",
          "Fall",
          "Winter",
          "Spring",
          "Summer",
          "Fall",
          "Winter",
          "Spring",
          "Summer",
          "Fall",
          "Winter",
          "Spring",
          "Summer",
          "Fall",
          "Winter",
          "Spring",
          "Summer",
          "Fall",
          "Winter",
          "Spring",
          "Summer",
          "Fall",
          "Winter",
          "Spring",
          "Summer",
          "Fall",
          "Winter",
          "Spring",
          "Summer",
          "Fall",
          "Winter"
         ],
         "x0": " ",
         "xaxis": "x",
         "y": [
          35,
          74,
          66,
          45,
          48,
          75,
          59,
          36,
          39,
          89,
          49,
          30,
          54,
          71,
          54,
          24,
          66,
          61,
          67,
          38,
          47,
          77,
          54,
          31,
          56,
          68,
          59,
          45,
          56,
          72,
          48,
          33,
          46,
          68,
          50,
          26,
          65,
          78,
          55,
          33,
          27,
          67,
          57,
          27,
          47,
          73,
          45,
          18,
          27,
          81,
          70,
          34,
          69,
          65,
          54,
          39,
          37,
          81,
          51,
          45,
          52,
          62,
          63,
          34,
          47,
          65,
          67,
          29,
          57,
          57,
          60,
          30,
          50,
          71,
          47,
          34,
          39,
          69,
          62,
          34,
          50,
          62,
          45,
          42,
          35,
          80,
          53,
          23,
          50,
          53,
          63,
          25,
          52,
          64,
          52,
          26,
          44,
          59,
          55,
          29,
          21,
          79,
          50,
          30,
          51,
          73,
          58,
          36,
          61,
          75,
          58,
          31,
          44,
          72,
          51,
          24,
          33,
          80,
          52,
          16,
          39,
          66,
          42,
          26,
          69,
          58,
          52,
          24,
          48,
          90,
          51,
          31,
          57,
          69,
          52,
          37,
          56,
          71,
          57,
          15,
          55,
          73,
          56,
          31,
          43,
          68,
          57,
          26,
          29,
          70,
          49,
          17,
          46,
          63,
          61,
          24,
          53,
          70,
          58,
          27,
          46,
          72,
          43,
          35,
          55,
          67,
          50,
          25,
          34,
          62,
          57,
          14,
          42,
          74,
          52,
          20,
          42,
          57,
          62,
          25,
          57,
          68,
          51,
          42,
          28,
          67,
          57,
          36,
          63,
          71,
          51,
          29,
          69,
          55,
          41,
          36,
          52,
          67,
          65,
          24,
          56,
          71,
          61,
          28,
          54,
          53,
          50,
          38,
          51,
          67,
          43,
          45,
          59,
          83,
          41,
          44,
          42,
          67,
          58,
          32,
          66,
          59,
          53,
          45,
          53,
          66,
          46,
          32,
          47,
          71,
          61,
          30,
          54,
          69,
          42,
          37,
          38,
          71,
          40,
          25,
          40,
          61,
          46,
          39,
          47,
          77,
          48,
          25,
          42,
          79,
          53,
          38,
          43,
          59,
          51,
          37,
          28,
          60,
          56,
          27,
          45,
          71,
          45,
          30,
          60,
          63,
          64,
          24,
          40,
          68,
          49,
          21,
          41,
          85,
          55,
          42,
          43,
          78,
          60,
          34,
          43,
          58,
          54,
          23,
          46,
          70,
          45,
          45,
          30,
          67,
          46,
          28,
          64,
          63,
          52,
          44,
          45,
          74,
          55,
          30,
          55,
          64,
          59,
          45,
          50,
          64,
          34,
          23,
          54,
          68,
          48,
          36,
          46,
          71,
          50,
          16,
          43,
          71,
          65,
          28,
          38,
          73,
          54,
          22,
          43,
          64,
          51,
          40,
          46,
          68,
          34,
          34,
          56,
          76,
          50,
          33,
          51,
          70,
          45,
          45,
          57,
          58,
          47,
          24,
          59,
          70,
          68,
          26,
          62,
          79,
          39,
          45,
          46,
          68,
          49,
          30,
          59,
          69,
          57,
          45,
          48,
          71,
          55,
          28,
          57,
          64,
          46,
          17,
          43,
          79,
          58,
          29,
          48,
          75,
          45,
          25,
          34,
          57,
          52,
          21,
          55,
          65,
          62,
          33,
          47,
          71,
          54,
          23,
          37,
          57,
          43,
          39,
          60,
          76,
          51,
          45,
          42,
          60,
          55,
          45
         ],
         "y0": " ",
         "yaxis": "y"
        },
        {
         "alignmentgroup": "True",
         "hovertemplate": "Location=City C<br>Season=%{x}<br>Temp=%{y}<extra></extra>",
         "legendgroup": "City C",
         "marker": {
          "color": "#3810dc"
         },
         "name": "City C",
         "notched": false,
         "offsetgroup": "City C",
         "orientation": "v",
         "showlegend": true,
         "type": "box",
         "x": [
          "Spring",
          "Summer",
          "Fall",
          "Winter",
          "Spring",
          "Summer",
          "Fall",
          "Winter",
          "Spring",
          "Summer",
          "Fall",
          "Winter",
          "Spring",
          "Summer",
          "Fall",
          "Winter",
          "Spring",
          "Summer",
          "Fall",
          "Winter",
          "Spring",
          "Summer",
          "Fall",
          "Winter",
          "Spring",
          "Summer",
          "Fall",
          "Winter",
          "Spring",
          "Summer",
          "Fall",
          "Winter",
          "Spring",
          "Summer",
          "Fall",
          "Winter",
          "Spring",
          "Summer",
          "Fall",
          "Winter",
          "Spring",
          "Summer",
          "Fall",
          "Winter",
          "Spring",
          "Summer",
          "Fall",
          "Winter",
          "Spring",
          "Summer",
          "Fall",
          "Winter",
          "Spring",
          "Summer",
          "Fall",
          "Winter",
          "Spring",
          "Summer",
          "Fall",
          "Winter",
          "Spring",
          "Summer",
          "Fall",
          "Winter",
          "Spring",
          "Summer",
          "Fall",
          "Winter",
          "Spring",
          "Summer",
          "Fall",
          "Winter",
          "Spring",
          "Summer",
          "Fall",
          "Winter",
          "Spring",
          "Summer",
          "Fall",
          "Winter",
          "Spring",
          "Summer",
          "Fall",
          "Winter",
          "Spring",
          "Summer",
          "Fall",
          "Winter",
          "Spring",
          "Summer",
          "Fall",
          "Winter",
          "Spring",
          "Summer",
          "Fall",
          "Winter",
          "Spring",
          "Summer",
          "Fall",
          "Winter",
          "Spring",
          "Summer",
          "Fall",
          "Winter",
          "Spring",
          "Summer",
          "Fall",
          "Winter",
          "Spring",
          "Summer",
          "Fall",
          "Winter",
          "Spring",
          "Summer",
          "Fall",
          "Winter",
          "Spring",
          "Summer",
          "Fall",
          "Winter",
          "Spring",
          "Summer",
          "Fall",
          "Winter",
          "Spring",
          "Summer",
          "Fall",
          "Winter",
          "Spring",
          "Summer",
          "Fall",
          "Winter",
          "Spring",
          "Summer",
          "Fall",
          "Winter",
          "Spring",
          "Summer",
          "Fall",
          "Winter",
          "Spring",
          "Summer",
          "Fall",
          "Winter",
          "Spring",
          "Summer",
          "Fall",
          "Winter",
          "Spring",
          "Summer",
          "Fall",
          "Winter",
          "Spring",
          "Summer",
          "Fall",
          "Winter",
          "Spring",
          "Summer",
          "Fall",
          "Winter",
          "Spring",
          "Summer",
          "Fall",
          "Winter",
          "Spring",
          "Summer",
          "Fall",
          "Winter",
          "Spring",
          "Summer",
          "Fall",
          "Winter",
          "Spring",
          "Summer",
          "Fall",
          "Winter",
          "Spring",
          "Summer",
          "Fall",
          "Winter",
          "Spring",
          "Summer",
          "Fall",
          "Winter",
          "Spring",
          "Summer",
          "Fall",
          "Winter",
          "Spring",
          "Summer",
          "Fall",
          "Winter",
          "Spring",
          "Summer",
          "Fall",
          "Winter",
          "Spring",
          "Summer",
          "Fall",
          "Winter",
          "Spring",
          "Summer",
          "Fall",
          "Winter",
          "Spring",
          "Summer",
          "Fall",
          "Winter",
          "Spring",
          "Summer",
          "Fall",
          "Winter",
          "Spring",
          "Summer",
          "Fall",
          "Winter",
          "Spring",
          "Summer",
          "Fall",
          "Winter",
          "Spring",
          "Summer",
          "Fall",
          "Winter",
          "Spring",
          "Summer",
          "Fall",
          "Winter",
          "Spring",
          "Summer",
          "Fall",
          "Winter",
          "Spring",
          "Summer",
          "Fall",
          "Winter",
          "Spring",
          "Summer",
          "Fall",
          "Winter",
          "Spring",
          "Summer",
          "Fall",
          "Winter",
          "Spring",
          "Summer",
          "Fall",
          "Winter",
          "Spring",
          "Summer",
          "Fall",
          "Winter",
          "Spring",
          "Summer",
          "Fall",
          "Winter",
          "Spring",
          "Summer",
          "Fall",
          "Winter",
          "Spring",
          "Summer",
          "Fall",
          "Winter",
          "Spring",
          "Summer",
          "Fall",
          "Winter",
          "Spring",
          "Summer",
          "Fall",
          "Winter",
          "Spring",
          "Summer",
          "Fall",
          "Winter",
          "Spring",
          "Summer",
          "Fall",
          "Winter",
          "Spring",
          "Summer",
          "Fall",
          "Winter",
          "Spring",
          "Summer",
          "Fall",
          "Winter",
          "Spring",
          "Summer",
          "Fall",
          "Winter",
          "Spring",
          "Summer",
          "Fall",
          "Winter",
          "Spring",
          "Summer",
          "Fall",
          "Winter",
          "Spring",
          "Summer",
          "Fall",
          "Winter",
          "Spring",
          "Summer",
          "Fall",
          "Winter",
          "Spring",
          "Summer",
          "Fall",
          "Winter",
          "Spring",
          "Summer",
          "Fall",
          "Winter",
          "Spring",
          "Summer",
          "Fall",
          "Winter",
          "Spring",
          "Summer",
          "Fall",
          "Winter",
          "Spring",
          "Summer",
          "Fall",
          "Winter",
          "Spring",
          "Summer",
          "Fall",
          "Winter",
          "Spring",
          "Summer",
          "Fall",
          "Winter",
          "Spring",
          "Summer",
          "Fall",
          "Winter",
          "Spring",
          "Summer",
          "Fall",
          "Winter",
          "Spring",
          "Summer",
          "Fall",
          "Winter",
          "Spring",
          "Summer",
          "Fall",
          "Winter",
          "Spring",
          "Summer",
          "Fall",
          "Winter",
          "Spring",
          "Summer",
          "Fall",
          "Winter",
          "Spring",
          "Summer",
          "Fall",
          "Winter",
          "Spring",
          "Summer",
          "Fall",
          "Winter",
          "Spring",
          "Summer",
          "Fall",
          "Winter",
          "Spring",
          "Summer",
          "Fall",
          "Winter",
          "Spring",
          "Summer",
          "Fall",
          "Winter",
          "Spring",
          "Summer",
          "Fall",
          "Winter",
          "Spring",
          "Summer",
          "Fall",
          "Winter",
          "Spring",
          "Summer",
          "Fall",
          "Winter",
          "Spring",
          "Summer",
          "Fall",
          "Winter",
          "Spring",
          "Summer",
          "Fall",
          "Winter"
         ],
         "x0": " ",
         "xaxis": "x",
         "y": [
          69,
          72,
          63,
          54,
          68,
          93,
          67,
          46,
          73,
          94,
          61,
          54,
          88,
          91,
          72,
          48,
          68,
          102,
          79,
          54,
          74,
          94,
          60,
          65,
          61,
          96,
          71,
          62,
          78,
          88,
          65,
          50,
          87,
          90,
          50,
          57,
          74,
          94,
          70,
          49,
          71,
          82,
          64,
          63,
          74,
          98,
          56,
          54,
          84,
          84,
          71,
          55,
          62,
          83,
          58,
          55,
          77,
          100,
          62,
          56,
          75,
          79,
          64,
          59,
          69,
          82,
          52,
          57,
          63,
          85,
          65,
          60,
          53,
          88,
          71,
          58,
          62,
          91,
          57,
          48,
          79,
          99,
          62,
          65,
          67,
          89,
          68,
          50,
          88,
          97,
          59,
          53,
          73,
          100,
          65,
          49,
          80,
          93,
          76,
          53,
          74,
          82,
          69,
          62,
          75,
          96,
          53,
          61,
          68,
          84,
          66,
          58,
          60,
          87,
          63,
          51,
          85,
          93,
          58,
          62,
          73,
          88,
          69,
          47,
          58,
          100,
          81,
          52,
          63,
          82,
          60,
          58,
          74,
          96,
          62,
          56,
          71,
          82,
          69,
          57,
          75,
          89,
          50,
          50,
          72,
          82,
          63,
          59,
          78,
          86,
          50,
          61,
          86,
          100,
          81,
          51,
          66,
          86,
          66,
          57,
          70,
          90,
          74,
          41,
          66,
          93,
          81,
          54,
          88,
          100,
          68,
          57,
          67,
          91,
          63,
          58,
          80,
          97,
          60,
          47,
          67,
          91,
          53,
          53,
          65,
          91,
          71,
          47,
          81,
          95,
          71,
          53,
          81,
          90,
          60,
          54,
          66,
          86,
          61,
          40,
          77,
          97,
          50,
          55,
          70,
          95,
          71,
          53,
          60,
          84,
          57,
          49,
          69,
          96,
          59,
          44,
          84,
          76,
          56,
          49,
          81,
          93,
          57,
          57,
          80,
          97,
          57,
          47,
          71,
          86,
          69,
          56,
          63,
          91,
          66,
          55,
          66,
          88,
          70,
          59,
          76,
          88,
          69,
          46,
          65,
          83,
          51,
          54,
          77,
          92,
          76,
          46,
          53,
          93,
          66,
          51,
          86,
          94,
          73,
          43,
          61,
          76,
          78,
          56,
          67,
          95,
          67,
          54,
          71,
          98,
          50,
          48,
          65,
          92,
          68,
          45,
          60,
          88,
          64,
          63,
          70,
          85,
          50,
          53,
          80,
          93,
          75,
          58,
          71,
          86,
          74,
          40,
          83,
          94,
          66,
          58,
          64,
          98,
          61,
          56,
          70,
          103,
          63,
          56,
          81,
          89,
          67,
          57,
          83,
          88,
          78,
          59,
          59,
          84,
          65,
          43,
          65,
          99,
          77,
          54,
          70,
          99,
          65,
          59,
          61,
          92,
          62,
          62,
          76,
          97,
          65,
          53,
          70,
          93,
          59,
          52,
          85,
          85,
          66,
          57,
          80,
          94,
          68,
          53,
          77,
          100,
          70,
          57,
          74,
          88,
          57,
          56,
          80,
          96,
          69,
          49,
          66,
          98,
          68,
          65,
          64,
          88,
          70,
          55,
          76,
          99,
          59,
          61,
          68,
          102,
          57,
          59,
          55,
          89,
          57,
          61,
          83,
          103,
          57,
          58,
          69,
          94,
          59,
          58,
          66,
          95,
          59,
          64,
          73,
          89,
          69,
          49,
          68,
          100,
          81,
          50,
          74,
          87,
          68,
          52
         ],
         "y0": " ",
         "yaxis": "y"
        }
       ],
       "layout": {
        "autosize": true,
        "boxmode": "group",
        "legend": {
         "title": {
          "text": "Location"
         },
         "tracegroupgap": 0
        },
        "margin": {
         "t": 60
        },
        "template": {
         "data": {
          "bar": [
           {
            "error_x": {
             "color": "#2a3f5f"
            },
            "error_y": {
             "color": "#2a3f5f"
            },
            "marker": {
             "line": {
              "color": "#E5ECF6",
              "width": 0.5
             },
             "pattern": {
              "fillmode": "overlay",
              "size": 10,
              "solidity": 0.2
             }
            },
            "type": "bar"
           }
          ],
          "barpolar": [
           {
            "marker": {
             "line": {
              "color": "#E5ECF6",
              "width": 0.5
             },
             "pattern": {
              "fillmode": "overlay",
              "size": 10,
              "solidity": 0.2
             }
            },
            "type": "barpolar"
           }
          ],
          "carpet": [
           {
            "aaxis": {
             "endlinecolor": "#2a3f5f",
             "gridcolor": "white",
             "linecolor": "white",
             "minorgridcolor": "white",
             "startlinecolor": "#2a3f5f"
            },
            "baxis": {
             "endlinecolor": "#2a3f5f",
             "gridcolor": "white",
             "linecolor": "white",
             "minorgridcolor": "white",
             "startlinecolor": "#2a3f5f"
            },
            "type": "carpet"
           }
          ],
          "choropleth": [
           {
            "colorbar": {
             "outlinewidth": 0,
             "ticks": ""
            },
            "type": "choropleth"
           }
          ],
          "contour": [
           {
            "colorbar": {
             "outlinewidth": 0,
             "ticks": ""
            },
            "colorscale": [
             [
              0,
              "#0d0887"
             ],
             [
              0.1111111111111111,
              "#46039f"
             ],
             [
              0.2222222222222222,
              "#7201a8"
             ],
             [
              0.3333333333333333,
              "#9c179e"
             ],
             [
              0.4444444444444444,
              "#bd3786"
             ],
             [
              0.5555555555555556,
              "#d8576b"
             ],
             [
              0.6666666666666666,
              "#ed7953"
             ],
             [
              0.7777777777777778,
              "#fb9f3a"
             ],
             [
              0.8888888888888888,
              "#fdca26"
             ],
             [
              1,
              "#f0f921"
             ]
            ],
            "type": "contour"
           }
          ],
          "contourcarpet": [
           {
            "colorbar": {
             "outlinewidth": 0,
             "ticks": ""
            },
            "type": "contourcarpet"
           }
          ],
          "heatmap": [
           {
            "colorbar": {
             "outlinewidth": 0,
             "ticks": ""
            },
            "colorscale": [
             [
              0,
              "#0d0887"
             ],
             [
              0.1111111111111111,
              "#46039f"
             ],
             [
              0.2222222222222222,
              "#7201a8"
             ],
             [
              0.3333333333333333,
              "#9c179e"
             ],
             [
              0.4444444444444444,
              "#bd3786"
             ],
             [
              0.5555555555555556,
              "#d8576b"
             ],
             [
              0.6666666666666666,
              "#ed7953"
             ],
             [
              0.7777777777777778,
              "#fb9f3a"
             ],
             [
              0.8888888888888888,
              "#fdca26"
             ],
             [
              1,
              "#f0f921"
             ]
            ],
            "type": "heatmap"
           }
          ],
          "heatmapgl": [
           {
            "colorbar": {
             "outlinewidth": 0,
             "ticks": ""
            },
            "colorscale": [
             [
              0,
              "#0d0887"
             ],
             [
              0.1111111111111111,
              "#46039f"
             ],
             [
              0.2222222222222222,
              "#7201a8"
             ],
             [
              0.3333333333333333,
              "#9c179e"
             ],
             [
              0.4444444444444444,
              "#bd3786"
             ],
             [
              0.5555555555555556,
              "#d8576b"
             ],
             [
              0.6666666666666666,
              "#ed7953"
             ],
             [
              0.7777777777777778,
              "#fb9f3a"
             ],
             [
              0.8888888888888888,
              "#fdca26"
             ],
             [
              1,
              "#f0f921"
             ]
            ],
            "type": "heatmapgl"
           }
          ],
          "histogram": [
           {
            "marker": {
             "pattern": {
              "fillmode": "overlay",
              "size": 10,
              "solidity": 0.2
             }
            },
            "type": "histogram"
           }
          ],
          "histogram2d": [
           {
            "colorbar": {
             "outlinewidth": 0,
             "ticks": ""
            },
            "colorscale": [
             [
              0,
              "#0d0887"
             ],
             [
              0.1111111111111111,
              "#46039f"
             ],
             [
              0.2222222222222222,
              "#7201a8"
             ],
             [
              0.3333333333333333,
              "#9c179e"
             ],
             [
              0.4444444444444444,
              "#bd3786"
             ],
             [
              0.5555555555555556,
              "#d8576b"
             ],
             [
              0.6666666666666666,
              "#ed7953"
             ],
             [
              0.7777777777777778,
              "#fb9f3a"
             ],
             [
              0.8888888888888888,
              "#fdca26"
             ],
             [
              1,
              "#f0f921"
             ]
            ],
            "type": "histogram2d"
           }
          ],
          "histogram2dcontour": [
           {
            "colorbar": {
             "outlinewidth": 0,
             "ticks": ""
            },
            "colorscale": [
             [
              0,
              "#0d0887"
             ],
             [
              0.1111111111111111,
              "#46039f"
             ],
             [
              0.2222222222222222,
              "#7201a8"
             ],
             [
              0.3333333333333333,
              "#9c179e"
             ],
             [
              0.4444444444444444,
              "#bd3786"
             ],
             [
              0.5555555555555556,
              "#d8576b"
             ],
             [
              0.6666666666666666,
              "#ed7953"
             ],
             [
              0.7777777777777778,
              "#fb9f3a"
             ],
             [
              0.8888888888888888,
              "#fdca26"
             ],
             [
              1,
              "#f0f921"
             ]
            ],
            "type": "histogram2dcontour"
           }
          ],
          "mesh3d": [
           {
            "colorbar": {
             "outlinewidth": 0,
             "ticks": ""
            },
            "type": "mesh3d"
           }
          ],
          "parcoords": [
           {
            "line": {
             "colorbar": {
              "outlinewidth": 0,
              "ticks": ""
             }
            },
            "type": "parcoords"
           }
          ],
          "pie": [
           {
            "automargin": true,
            "type": "pie"
           }
          ],
          "scatter": [
           {
            "fillpattern": {
             "fillmode": "overlay",
             "size": 10,
             "solidity": 0.2
            },
            "type": "scatter"
           }
          ],
          "scatter3d": [
           {
            "line": {
             "colorbar": {
              "outlinewidth": 0,
              "ticks": ""
             }
            },
            "marker": {
             "colorbar": {
              "outlinewidth": 0,
              "ticks": ""
             }
            },
            "type": "scatter3d"
           }
          ],
          "scattercarpet": [
           {
            "marker": {
             "colorbar": {
              "outlinewidth": 0,
              "ticks": ""
             }
            },
            "type": "scattercarpet"
           }
          ],
          "scattergeo": [
           {
            "marker": {
             "colorbar": {
              "outlinewidth": 0,
              "ticks": ""
             }
            },
            "type": "scattergeo"
           }
          ],
          "scattergl": [
           {
            "marker": {
             "colorbar": {
              "outlinewidth": 0,
              "ticks": ""
             }
            },
            "type": "scattergl"
           }
          ],
          "scattermapbox": [
           {
            "marker": {
             "colorbar": {
              "outlinewidth": 0,
              "ticks": ""
             }
            },
            "type": "scattermapbox"
           }
          ],
          "scatterpolar": [
           {
            "marker": {
             "colorbar": {
              "outlinewidth": 0,
              "ticks": ""
             }
            },
            "type": "scatterpolar"
           }
          ],
          "scatterpolargl": [
           {
            "marker": {
             "colorbar": {
              "outlinewidth": 0,
              "ticks": ""
             }
            },
            "type": "scatterpolargl"
           }
          ],
          "scatterternary": [
           {
            "marker": {
             "colorbar": {
              "outlinewidth": 0,
              "ticks": ""
             }
            },
            "type": "scatterternary"
           }
          ],
          "surface": [
           {
            "colorbar": {
             "outlinewidth": 0,
             "ticks": ""
            },
            "colorscale": [
             [
              0,
              "#0d0887"
             ],
             [
              0.1111111111111111,
              "#46039f"
             ],
             [
              0.2222222222222222,
              "#7201a8"
             ],
             [
              0.3333333333333333,
              "#9c179e"
             ],
             [
              0.4444444444444444,
              "#bd3786"
             ],
             [
              0.5555555555555556,
              "#d8576b"
             ],
             [
              0.6666666666666666,
              "#ed7953"
             ],
             [
              0.7777777777777778,
              "#fb9f3a"
             ],
             [
              0.8888888888888888,
              "#fdca26"
             ],
             [
              1,
              "#f0f921"
             ]
            ],
            "type": "surface"
           }
          ],
          "table": [
           {
            "cells": {
             "fill": {
              "color": "#EBF0F8"
             },
             "line": {
              "color": "white"
             }
            },
            "header": {
             "fill": {
              "color": "#C8D4E3"
             },
             "line": {
              "color": "white"
             }
            },
            "type": "table"
           }
          ]
         },
         "layout": {
          "annotationdefaults": {
           "arrowcolor": "#2a3f5f",
           "arrowhead": 0,
           "arrowwidth": 1
          },
          "autotypenumbers": "strict",
          "coloraxis": {
           "colorbar": {
            "outlinewidth": 0,
            "ticks": ""
           }
          },
          "colorscale": {
           "diverging": [
            [
             0,
             "#8e0152"
            ],
            [
             0.1,
             "#c51b7d"
            ],
            [
             0.2,
             "#de77ae"
            ],
            [
             0.3,
             "#f1b6da"
            ],
            [
             0.4,
             "#fde0ef"
            ],
            [
             0.5,
             "#f7f7f7"
            ],
            [
             0.6,
             "#e6f5d0"
            ],
            [
             0.7,
             "#b8e186"
            ],
            [
             0.8,
             "#7fbc41"
            ],
            [
             0.9,
             "#4d9221"
            ],
            [
             1,
             "#276419"
            ]
           ],
           "sequential": [
            [
             0,
             "#0d0887"
            ],
            [
             0.1111111111111111,
             "#46039f"
            ],
            [
             0.2222222222222222,
             "#7201a8"
            ],
            [
             0.3333333333333333,
             "#9c179e"
            ],
            [
             0.4444444444444444,
             "#bd3786"
            ],
            [
             0.5555555555555556,
             "#d8576b"
            ],
            [
             0.6666666666666666,
             "#ed7953"
            ],
            [
             0.7777777777777778,
             "#fb9f3a"
            ],
            [
             0.8888888888888888,
             "#fdca26"
            ],
            [
             1,
             "#f0f921"
            ]
           ],
           "sequentialminus": [
            [
             0,
             "#0d0887"
            ],
            [
             0.1111111111111111,
             "#46039f"
            ],
            [
             0.2222222222222222,
             "#7201a8"
            ],
            [
             0.3333333333333333,
             "#9c179e"
            ],
            [
             0.4444444444444444,
             "#bd3786"
            ],
            [
             0.5555555555555556,
             "#d8576b"
            ],
            [
             0.6666666666666666,
             "#ed7953"
            ],
            [
             0.7777777777777778,
             "#fb9f3a"
            ],
            [
             0.8888888888888888,
             "#fdca26"
            ],
            [
             1,
             "#f0f921"
            ]
           ]
          },
          "colorway": [
           "#636efa",
           "#EF553B",
           "#00cc96",
           "#ab63fa",
           "#FFA15A",
           "#19d3f3",
           "#FF6692",
           "#B6E880",
           "#FF97FF",
           "#FECB52"
          ],
          "font": {
           "color": "#2a3f5f"
          },
          "geo": {
           "bgcolor": "white",
           "lakecolor": "white",
           "landcolor": "#E5ECF6",
           "showlakes": true,
           "showland": true,
           "subunitcolor": "white"
          },
          "hoverlabel": {
           "align": "left"
          },
          "hovermode": "closest",
          "mapbox": {
           "style": "light"
          },
          "paper_bgcolor": "white",
          "plot_bgcolor": "#E5ECF6",
          "polar": {
           "angularaxis": {
            "gridcolor": "white",
            "linecolor": "white",
            "ticks": ""
           },
           "bgcolor": "#E5ECF6",
           "radialaxis": {
            "gridcolor": "white",
            "linecolor": "white",
            "ticks": ""
           }
          },
          "scene": {
           "xaxis": {
            "backgroundcolor": "#E5ECF6",
            "gridcolor": "white",
            "gridwidth": 2,
            "linecolor": "white",
            "showbackground": true,
            "ticks": "",
            "zerolinecolor": "white"
           },
           "yaxis": {
            "backgroundcolor": "#E5ECF6",
            "gridcolor": "white",
            "gridwidth": 2,
            "linecolor": "white",
            "showbackground": true,
            "ticks": "",
            "zerolinecolor": "white"
           },
           "zaxis": {
            "backgroundcolor": "#E5ECF6",
            "gridcolor": "white",
            "gridwidth": 2,
            "linecolor": "white",
            "showbackground": true,
            "ticks": "",
            "zerolinecolor": "white"
           }
          },
          "shapedefaults": {
           "line": {
            "color": "#2a3f5f"
           }
          },
          "ternary": {
           "aaxis": {
            "gridcolor": "white",
            "linecolor": "white",
            "ticks": ""
           },
           "baxis": {
            "gridcolor": "white",
            "linecolor": "white",
            "ticks": ""
           },
           "bgcolor": "#E5ECF6",
           "caxis": {
            "gridcolor": "white",
            "linecolor": "white",
            "ticks": ""
           }
          },
          "title": {
           "x": 0.05
          },
          "xaxis": {
           "automargin": true,
           "gridcolor": "white",
           "linecolor": "white",
           "ticks": "",
           "title": {
            "standoff": 15
           },
           "zerolinecolor": "white",
           "zerolinewidth": 2
          },
          "yaxis": {
           "automargin": true,
           "gridcolor": "white",
           "linecolor": "white",
           "ticks": "",
           "title": {
            "standoff": 15
           },
           "zerolinecolor": "white",
           "zerolinewidth": 2
          }
         }
        },
        "title": {
         "text": "Seaonsal Temperature Distribution",
         "x": 0.1,
         "xanchor": "left",
         "yanchor": "top"
        },
        "xaxis": {
         "anchor": "y",
         "autorange": true,
         "domain": [
          0,
          1
         ],
         "range": [
          -0.509273570324575,
          3.509273570324575
         ],
         "title": {
          "text": "Season"
         },
         "type": "category"
        },
        "yaxis": {
         "anchor": "x",
         "autorange": true,
         "domain": [
          0,
          1
         ],
         "range": [
          -21.555555555555557,
          109.55555555555556
         ],
         "title": {
          "text": "Temperature (F)"
         },
         "type": "linear"
        }
       }
      },
      "image/png": "[encoded data removed]",
      "text/html": [
       "<div>                            <div id=\"23a9caae-febd-476f-a604-ed902094b0cd\" class=\"plotly-graph-div\" style=\"height:525px; width:100%;\"></div>            <script type=\"text/javascript\">                require([\"plotly\"], function(Plotly) {                    window.PLOTLYENV=window.PLOTLYENV || {};                                    if (document.getElementById(\"23a9caae-febd-476f-a604-ed902094b0cd\")) {                    Plotly.newPlot(                        \"23a9caae-febd-476f-a604-ed902094b0cd\",                        [{\"alignmentgroup\":\"True\",\"hovertemplate\":\"Location=City A<br>Season=%{x}<br>Temp=%{y}<extra></extra>\",\"legendgroup\":\"City A\",\"marker\":{\"color\":\"#313131\"},\"name\":\"City A\",\"notched\":false,\"offsetgroup\":\"City A\",\"orientation\":\"v\",\"showlegend\":true,\"x\":[\"Spring\",\"Summer\",\"Fall\",\"Winter\",\"Spring\",\"Summer\",\"Fall\",\"Winter\",\"Spring\",\"Summer\",\"Fall\",\"Winter\",\"Spring\",\"Summer\",\"Fall\",\"Winter\",\"Spring\",\"Summer\",\"Fall\",\"Winter\",\"Spring\",\"Summer\",\"Fall\",\"Winter\",\"Spring\",\"Summer\",\"Fall\",\"Winter\",\"Spring\",\"Summer\",\"Fall\",\"Winter\",\"Spring\",\"Summer\",\"Fall\",\"Winter\",\"Spring\",\"Summer\",\"Fall\",\"Winter\",\"Spring\",\"Summer\",\"Fall\",\"Winter\",\"Spring\",\"Summer\",\"Fall\",\"Winter\",\"Spring\",\"Summer\",\"Fall\",\"Winter\",\"Spring\",\"Summer\",\"Fall\",\"Winter\",\"Spring\",\"Summer\",\"Fall\",\"Winter\",\"Spring\",\"Summer\",\"Fall\",\"Winter\",\"Spring\",\"Summer\",\"Fall\",\"Winter\",\"Spring\",\"Summer\",\"Fall\",\"Winter\",\"Spring\",\"Summer\",\"Fall\",\"Winter\",\"Spring\",\"Summer\",\"Fall\",\"Winter\",\"Spring\",\"Summer\",\"Fall\",\"Winter\",\"Spring\",\"Summer\",\"Fall\",\"Winter\",\"Spring\",\"Summer\",\"Fall\",\"Winter\",\"Spring\",\"Summer\",\"Fall\",\"Winter\",\"Spring\",\"Summer\",\"Fall\",\"Winter\",\"Spring\",\"Summer\",\"Fall\",\"Winter\",\"Spring\",\"Summer\",\"Fall\",\"Winter\",\"Spring\",\"Summer\",\"Fall\",\"Winter\",\"Spring\",\"Summer\",\"Fall\",\"Winter\",\"Spring\",\"Summer\",\"Fall\",\"Winter\",\"Spring\",\"Summer\",\"Fall\",\"Winter\",\"Spring\",\"Summer\",\"Fall\",\"Winter\",\"Spring\",\"Summer\",\"Fall\",\"Winter\",\"Spring\",\"Summer\",\"Fall\",\"Winter\",\"Spring\",\"Summer\",\"Fall\",\"Winter\",\"Spring\",\"Summer\",\"Fall\",\"Winter\",\"Spring\",\"Summer\",\"Fall\",\"Winter\",\"Spring\",\"Summer\",\"Fall\",\"Winter\",\"Spring\",\"Summer\",\"Fall\",\"Winter\",\"Spring\",\"Summer\",\"Fall\",\"Winter\",\"Spring\",\"Summer\",\"Fall\",\"Winter\",\"Spring\",\"Summer\",\"Fall\",\"Winter\",\"Spring\",\"Summer\",\"Fall\",\"Winter\",\"Spring\",\"Summer\",\"Fall\",\"Winter\",\"Spring\",\"Summer\",\"Fall\",\"Winter\",\"Spring\",\"Summer\",\"Fall\",\"Winter\",\"Spring\",\"Summer\",\"Fall\",\"Winter\",\"Spring\",\"Summer\",\"Fall\",\"Winter\",\"Spring\",\"Summer\",\"Fall\",\"Winter\",\"Spring\",\"Summer\",\"Fall\",\"Winter\",\"Spring\",\"Summer\",\"Fall\",\"Winter\",\"Spring\",\"Summer\",\"Fall\",\"Winter\",\"Spring\",\"Summer\",\"Fall\",\"Winter\",\"Spring\",\"Summer\",\"Fall\",\"Winter\",\"Spring\",\"Summer\",\"Fall\",\"Winter\",\"Spring\",\"Summer\",\"Fall\",\"Winter\",\"Spring\",\"Summer\",\"Fall\",\"Winter\",\"Spring\",\"Summer\",\"Fall\",\"Winter\",\"Spring\",\"Summer\",\"Fall\",\"Winter\",\"Spring\",\"Summer\",\"Fall\",\"Winter\",\"Spring\",\"Summer\",\"Fall\",\"Winter\",\"Spring\",\"Summer\",\"Fall\",\"Winter\",\"Spring\",\"Summer\",\"Fall\",\"Winter\",\"Spring\",\"Summer\",\"Fall\",\"Winter\",\"Spring\",\"Summer\",\"Fall\",\"Winter\",\"Spring\",\"Summer\",\"Fall\",\"Winter\",\"Spring\",\"Summer\",\"Fall\",\"Winter\",\"Spring\",\"Summer\",\"Fall\",\"Winter\",\"Spring\",\"Summer\",\"Fall\",\"Winter\",\"Spring\",\"Summer\",\"Fall\",\"Winter\",\"Spring\",\"Summer\",\"Fall\",\"Winter\",\"Spring\",\"Summer\",\"Fall\",\"Winter\",\"Spring\",\"Summer\",\"Fall\",\"Winter\",\"Spring\",\"Summer\",\"Fall\",\"Winter\",\"Spring\",\"Summer\",\"Fall\",\"Winter\",\"Spring\",\"Summer\",\"Fall\",\"Winter\",\"Spring\",\"Summer\",\"Fall\",\"Winter\",\"Spring\",\"Summer\",\"Fall\",\"Winter\",\"Spring\",\"Summer\",\"Fall\",\"Winter\",\"Spring\",\"Summer\",\"Fall\",\"Winter\",\"Spring\",\"Summer\",\"Fall\",\"Winter\",\"Spring\",\"Summer\",\"Fall\",\"Winter\",\"Spring\",\"Summer\",\"Fall\",\"Winter\",\"Spring\",\"Summer\",\"Fall\",\"Winter\",\"Spring\",\"Summer\",\"Fall\",\"Winter\",\"Spring\",\"Summer\",\"Fall\",\"Winter\",\"Spring\",\"Summer\",\"Fall\",\"Winter\",\"Spring\",\"Summer\",\"Fall\",\"Winter\",\"Spring\",\"Summer\",\"Fall\",\"Winter\",\"Spring\",\"Summer\",\"Fall\",\"Winter\",\"Spring\",\"Summer\",\"Fall\",\"Winter\",\"Spring\",\"Summer\",\"Fall\",\"Winter\",\"Spring\",\"Summer\",\"Fall\",\"Winter\",\"Spring\",\"Summer\",\"Fall\",\"Winter\",\"Spring\",\"Summer\",\"Fall\",\"Winter\",\"Spring\",\"Summer\",\"Fall\",\"Winter\",\"Spring\",\"Summer\",\"Fall\",\"Winter\",\"Spring\",\"Summer\",\"Fall\",\"Winter\",\"Spring\",\"Summer\",\"Fall\",\"Winter\",\"Spring\",\"Summer\",\"Fall\",\"Winter\"],\"x0\":\" \",\"xaxis\":\"x\",\"y\":[35.0,78.0,46.0,16.0,25.0,75.0,50.0,29.0,63.0,76.0,46.0,13.0,42.0,74.0,53.0,-3.0,59.0,81.0,0.0,1.0,44.0,87.0,0.0,24.0,38.0,72.0,47.0,22.0,21.0,81.0,44.0,9.0,43.0,80.0,62.0,26.0,65.0,77.0,46.0,23.0,48.0,85.0,44.0,-1.0,27.0,87.0,36.0,7.0,55.0,80.0,42.0,30.0,46.0,78.0,56.0,16.0,29.0,77.0,23.0,28.0,50.0,82.0,55.0,12.0,44.0,89.0,48.0,0.0,53.0,84.0,48.0,10.0,29.0,63.0,20.0,20.0,53.0,95.0,13.0,30.0,34.0,81.0,23.0,16.0,65.0,82.0,74.0,24.0,19.0,89.0,36.0,33.0,45.0,95.0,60.0,21.0,29.0,96.0,30.0,16.0,47.0,90.0,61.0,28.0,38.0,75.0,30.0,28.0,35.0,83.0,29.0,7.0,30.0,89.0,21.0,16.0,46.0,82.0,67.0,7.0,51.0,91.0,51.0,5.0,38.0,84.0,35.0,10.0,29.0,82.0,27.0,20.0,52.0,89.0,29.0,0.0,35.0,88.0,31.0,34.0,45.0,80.0,41.0,-15.0,32.0,71.0,25.0,7.0,51.0,88.0,35.0,9.0,34.0,82.0,16.0,14.0,64.0,67.0,44.0,5.0,56.0,82.0,44.0,36.0,53.0,71.0,58.0,15.0,18.0,99.0,52.0,6.0,50.0,78.0,45.0,18.0,38.0,91.0,25.0,11.0,38.0,80.0,64.0,3.0,48.0,87.0,40.0,40.0,48.0,77.0,52.0,6.0,39.0,80.0,43.0,-6.0,44.0,78.0,55.0,14.0,29.0,77.0,36.0,6.0,46.0,88.0,38.0,21.0,12.0,83.0,25.0,8.0,50.0,84.0,23.0,18.0,24.0,99.0,42.0,19.0,31.0,80.0,66.0,1.0,11.0,73.0,61.0,0.0,41.0,87.0,54.0,-2.0,61.0,75.0,31.0,27.0,46.0,85.0,46.0,5.0,46.0,91.0,41.0,20.0,31.0,66.0,34.0,23.0,26.0,89.0,65.0,0.0,26.0,76.0,56.0,18.0,25.0,83.0,48.0,13.0,29.0,69.0,53.0,15.0,39.0,78.0,35.0,39.0,22.0,89.0,52.0,7.0,53.0,90.0,28.0,20.0,45.0,99.0,23.0,21.0,34.0,73.0,47.0,31.0,39.0,65.0,25.0,5.0,26.0,76.0,35.0,34.0,28.0,79.0,36.0,24.0,65.0,82.0,32.0,21.0,40.0,83.0,27.0,5.0,47.0,88.0,37.0,19.0,40.0,90.0,48.0,29.0,23.0,87.0,61.0,15.0,37.0,86.0,25.0,25.0,53.0,78.0,46.0,7.0,40.0,90.0,55.0,9.0,22.0,86.0,44.0,-3.0,30.0,68.0,58.0,14.0,35.0,77.0,27.0,-15.0,33.0,86.0,42.0,7.0,35.0,96.0,46.0,2.0,41.0,74.0,28.0,11.0,38.0,86.0,25.0,27.0,40.0,85.0,30.0,9.0,15.0,71.0,47.0,14.0,59.0,86.0,26.0,7.0,22.0,84.0,19.0,15.0,49.0,76.0,30.0,23.0,34.0,91.0,23.0,30.0,30.0,80.0,36.0,27.0,62.0,85.0,35.0,11.0,34.0,83.0,32.0,7.0,34.0,85.0,49.0,0.0,26.0,89.0,42.0,23.0],\"y0\":\" \",\"yaxis\":\"y\",\"type\":\"box\"},{\"alignmentgroup\":\"True\",\"hovertemplate\":\"Location=City B<br>Season=%{x}<br>Temp=%{y}<extra></extra>\",\"legendgroup\":\"City B\",\"marker\":{\"color\":\"#3d019d\"},\"name\":\"City B\",\"notched\":false,\"offsetgroup\":\"City B\",\"orientation\":\"v\",\"showlegend\":true,\"x\":[\"Spring\",\"Summer\",\"Fall\",\"Winter\",\"Spring\",\"Summer\",\"Fall\",\"Winter\",\"Spring\",\"Summer\",\"Fall\",\"Winter\",\"Spring\",\"Summer\",\"Fall\",\"Winter\",\"Spring\",\"Summer\",\"Fall\",\"Winter\",\"Spring\",\"Summer\",\"Fall\",\"Winter\",\"Spring\",\"Summer\",\"Fall\",\"Winter\",\"Spring\",\"Summer\",\"Fall\",\"Winter\",\"Spring\",\"Summer\",\"Fall\",\"Winter\",\"Spring\",\"Summer\",\"Fall\",\"Winter\",\"Spring\",\"Summer\",\"Fall\",\"Winter\",\"Spring\",\"Summer\",\"Fall\",\"Winter\",\"Spring\",\"Summer\",\"Fall\",\"Winter\",\"Spring\",\"Summer\",\"Fall\",\"Winter\",\"Spring\",\"Summer\",\"Fall\",\"Winter\",\"Spring\",\"Summer\",\"Fall\",\"Winter\",\"Spring\",\"Summer\",\"Fall\",\"Winter\",\"Spring\",\"Summer\",\"Fall\",\"Winter\",\"Spring\",\"Summer\",\"Fall\",\"Winter\",\"Spring\",\"Summer\",\"Fall\",\"Winter\",\"Spring\",\"Summer\",\"Fall\",\"Winter\",\"Spring\",\"Summer\",\"Fall\",\"Winter\",\"Spring\",\"Summer\",\"Fall\",\"Winter\",\"Spring\",\"Summer\",\"Fall\",\"Winter\",\"Spring\",\"Summer\",\"Fall\",\"Winter\",\"Spring\",\"Summer\",\"Fall\",\"Winter\",\"Spring\",\"Summer\",\"Fall\",\"Winter\",\"Spring\",\"Summer\",\"Fall\",\"Winter\",\"Spring\",\"Summer\",\"Fall\",\"Winter\",\"Spring\",\"Summer\",\"Fall\",\"Winter\",\"Spring\",\"Summer\",\"Fall\",\"Winter\",\"Spring\",\"Summer\",\"Fall\",\"Winter\",\"Spring\",\"Summer\",\"Fall\",\"Winter\",\"Spring\",\"Summer\",\"Fall\",\"Winter\",\"Spring\",\"Summer\",\"Fall\",\"Winter\",\"Spring\",\"Summer\",\"Fall\",\"Winter\",\"Spring\",\"Summer\",\"Fall\",\"Winter\",\"Spring\",\"Summer\",\"Fall\",\"Winter\",\"Spring\",\"Summer\",\"Fall\",\"Winter\",\"Spring\",\"Summer\",\"Fall\",\"Winter\",\"Spring\",\"Summer\",\"Fall\",\"Winter\",\"Spring\",\"Summer\",\"Fall\",\"Winter\",\"Spring\",\"Summer\",\"Fall\",\"Winter\",\"Spring\",\"Summer\",\"Fall\",\"Winter\",\"Spring\",\"Summer\",\"Fall\",\"Winter\",\"Spring\",\"Summer\",\"Fall\",\"Winter\",\"Spring\",\"Summer\",\"Fall\",\"Winter\",\"Spring\",\"Summer\",\"Fall\",\"Winter\",\"Spring\",\"Summer\",\"Fall\",\"Winter\",\"Spring\",\"Summer\",\"Fall\",\"Winter\",\"Spring\",\"Summer\",\"Fall\",\"Winter\",\"Spring\",\"Summer\",\"Fall\",\"Winter\",\"Spring\",\"Summer\",\"Fall\",\"Winter\",\"Spring\",\"Summer\",\"Fall\",\"Winter\",\"Spring\",\"Summer\",\"Fall\",\"Winter\",\"Spring\",\"Summer\",\"Fall\",\"Winter\",\"Spring\",\"Summer\",\"Fall\",\"Winter\",\"Spring\",\"Summer\",\"Fall\",\"Winter\",\"Spring\",\"Summer\",\"Fall\",\"Winter\",\"Spring\",\"Summer\",\"Fall\",\"Winter\",\"Spring\",\"Summer\",\"Fall\",\"Winter\",\"Spring\",\"Summer\",\"Fall\",\"Winter\",\"Spring\",\"Summer\",\"Fall\",\"Winter\",\"Spring\",\"Summer\",\"Fall\",\"Winter\",\"Spring\",\"Summer\",\"Fall\",\"Winter\",\"Spring\",\"Summer\",\"Fall\",\"Winter\",\"Spring\",\"Summer\",\"Fall\",\"Winter\",\"Spring\",\"Summer\",\"Fall\",\"Winter\",\"Spring\",\"Summer\",\"Fall\",\"Winter\",\"Spring\",\"Summer\",\"Fall\",\"Winter\",\"Spring\",\"Summer\",\"Fall\",\"Winter\",\"Spring\",\"Summer\",\"Fall\",\"Winter\",\"Spring\",\"Summer\",\"Fall\",\"Winter\",\"Spring\",\"Summer\",\"Fall\",\"Winter\",\"Spring\",\"Summer\",\"Fall\",\"Winter\",\"Spring\",\"Summer\",\"Fall\",\"Winter\",\"Spring\",\"Summer\",\"Fall\",\"Winter\",\"Spring\",\"Summer\",\"Fall\",\"Winter\",\"Spring\",\"Summer\",\"Fall\",\"Winter\",\"Spring\",\"Summer\",\"Fall\",\"Winter\",\"Spring\",\"Summer\",\"Fall\",\"Winter\",\"Spring\",\"Summer\",\"Fall\",\"Winter\",\"Spring\",\"Summer\",\"Fall\",\"Winter\",\"Spring\",\"Summer\",\"Fall\",\"Winter\",\"Spring\",\"Summer\",\"Fall\",\"Winter\",\"Spring\",\"Summer\",\"Fall\",\"Winter\",\"Spring\",\"Summer\",\"Fall\",\"Winter\",\"Spring\",\"Summer\",\"Fall\",\"Winter\",\"Spring\",\"Summer\",\"Fall\",\"Winter\",\"Spring\",\"Summer\",\"Fall\",\"Winter\",\"Spring\",\"Summer\",\"Fall\",\"Winter\",\"Spring\",\"Summer\",\"Fall\",\"Winter\",\"Spring\",\"Summer\",\"Fall\",\"Winter\",\"Spring\",\"Summer\",\"Fall\",\"Winter\",\"Spring\",\"Summer\",\"Fall\",\"Winter\",\"Spring\",\"Summer\",\"Fall\",\"Winter\",\"Spring\",\"Summer\",\"Fall\",\"Winter\",\"Spring\",\"Summer\",\"Fall\",\"Winter\",\"Spring\",\"Summer\",\"Fall\",\"Winter\",\"Spring\",\"Summer\",\"Fall\",\"Winter\"],\"x0\":\" \",\"xaxis\":\"x\",\"y\":[35.0,74.0,66.0,45.0,48.0,75.0,59.0,36.0,39.0,89.0,49.0,30.0,54.0,71.0,54.0,24.0,66.0,61.0,67.0,38.0,47.0,77.0,54.0,31.0,56.0,68.0,59.0,45.0,56.0,72.0,48.0,33.0,46.0,68.0,50.0,26.0,65.0,78.0,55.0,33.0,27.0,67.0,57.0,27.0,47.0,73.0,45.0,18.0,27.0,81.0,70.0,34.0,69.0,65.0,54.0,39.0,37.0,81.0,51.0,45.0,52.0,62.0,63.0,34.0,47.0,65.0,67.0,29.0,57.0,57.0,60.0,30.0,50.0,71.0,47.0,34.0,39.0,69.0,62.0,34.0,50.0,62.0,45.0,42.0,35.0,80.0,53.0,23.0,50.0,53.0,63.0,25.0,52.0,64.0,52.0,26.0,44.0,59.0,55.0,29.0,21.0,79.0,50.0,30.0,51.0,73.0,58.0,36.0,61.0,75.0,58.0,31.0,44.0,72.0,51.0,24.0,33.0,80.0,52.0,16.0,39.0,66.0,42.0,26.0,69.0,58.0,52.0,24.0,48.0,90.0,51.0,31.0,57.0,69.0,52.0,37.0,56.0,71.0,57.0,15.0,55.0,73.0,56.0,31.0,43.0,68.0,57.0,26.0,29.0,70.0,49.0,17.0,46.0,63.0,61.0,24.0,53.0,70.0,58.0,27.0,46.0,72.0,43.0,35.0,55.0,67.0,50.0,25.0,34.0,62.0,57.0,14.0,42.0,74.0,52.0,20.0,42.0,57.0,62.0,25.0,57.0,68.0,51.0,42.0,28.0,67.0,57.0,36.0,63.0,71.0,51.0,29.0,69.0,55.0,41.0,36.0,52.0,67.0,65.0,24.0,56.0,71.0,61.0,28.0,54.0,53.0,50.0,38.0,51.0,67.0,43.0,45.0,59.0,83.0,41.0,44.0,42.0,67.0,58.0,32.0,66.0,59.0,53.0,45.0,53.0,66.0,46.0,32.0,47.0,71.0,61.0,30.0,54.0,69.0,42.0,37.0,38.0,71.0,40.0,25.0,40.0,61.0,46.0,39.0,47.0,77.0,48.0,25.0,42.0,79.0,53.0,38.0,43.0,59.0,51.0,37.0,28.0,60.0,56.0,27.0,45.0,71.0,45.0,30.0,60.0,63.0,64.0,24.0,40.0,68.0,49.0,21.0,41.0,85.0,55.0,42.0,43.0,78.0,60.0,34.0,43.0,58.0,54.0,23.0,46.0,70.0,45.0,45.0,30.0,67.0,46.0,28.0,64.0,63.0,52.0,44.0,45.0,74.0,55.0,30.0,55.0,64.0,59.0,45.0,50.0,64.0,34.0,23.0,54.0,68.0,48.0,36.0,46.0,71.0,50.0,16.0,43.0,71.0,65.0,28.0,38.0,73.0,54.0,22.0,43.0,64.0,51.0,40.0,46.0,68.0,34.0,34.0,56.0,76.0,50.0,33.0,51.0,70.0,45.0,45.0,57.0,58.0,47.0,24.0,59.0,70.0,68.0,26.0,62.0,79.0,39.0,45.0,46.0,68.0,49.0,30.0,59.0,69.0,57.0,45.0,48.0,71.0,55.0,28.0,57.0,64.0,46.0,17.0,43.0,79.0,58.0,29.0,48.0,75.0,45.0,25.0,34.0,57.0,52.0,21.0,55.0,65.0,62.0,33.0,47.0,71.0,54.0,23.0,37.0,57.0,43.0,39.0,60.0,76.0,51.0,45.0,42.0,60.0,55.0,45.0],\"y0\":\" \",\"yaxis\":\"y\",\"type\":\"box\"},{\"alignmentgroup\":\"True\",\"hovertemplate\":\"Location=City C<br>Season=%{x}<br>Temp=%{y}<extra></extra>\",\"legendgroup\":\"City C\",\"marker\":{\"color\":\"#3810dc\"},\"name\":\"City C\",\"notched\":false,\"offsetgroup\":\"City C\",\"orientation\":\"v\",\"showlegend\":true,\"x\":[\"Spring\",\"Summer\",\"Fall\",\"Winter\",\"Spring\",\"Summer\",\"Fall\",\"Winter\",\"Spring\",\"Summer\",\"Fall\",\"Winter\",\"Spring\",\"Summer\",\"Fall\",\"Winter\",\"Spring\",\"Summer\",\"Fall\",\"Winter\",\"Spring\",\"Summer\",\"Fall\",\"Winter\",\"Spring\",\"Summer\",\"Fall\",\"Winter\",\"Spring\",\"Summer\",\"Fall\",\"Winter\",\"Spring\",\"Summer\",\"Fall\",\"Winter\",\"Spring\",\"Summer\",\"Fall\",\"Winter\",\"Spring\",\"Summer\",\"Fall\",\"Winter\",\"Spring\",\"Summer\",\"Fall\",\"Winter\",\"Spring\",\"Summer\",\"Fall\",\"Winter\",\"Spring\",\"Summer\",\"Fall\",\"Winter\",\"Spring\",\"Summer\",\"Fall\",\"Winter\",\"Spring\",\"Summer\",\"Fall\",\"Winter\",\"Spring\",\"Summer\",\"Fall\",\"Winter\",\"Spring\",\"Summer\",\"Fall\",\"Winter\",\"Spring\",\"Summer\",\"Fall\",\"Winter\",\"Spring\",\"Summer\",\"Fall\",\"Winter\",\"Spring\",\"Summer\",\"Fall\",\"Winter\",\"Spring\",\"Summer\",\"Fall\",\"Winter\",\"Spring\",\"Summer\",\"Fall\",\"Winter\",\"Spring\",\"Summer\",\"Fall\",\"Winter\",\"Spring\",\"Summer\",\"Fall\",\"Winter\",\"Spring\",\"Summer\",\"Fall\",\"Winter\",\"Spring\",\"Summer\",\"Fall\",\"Winter\",\"Spring\",\"Summer\",\"Fall\",\"Winter\",\"Spring\",\"Summer\",\"Fall\",\"Winter\",\"Spring\",\"Summer\",\"Fall\",\"Winter\",\"Spring\",\"Summer\",\"Fall\",\"Winter\",\"Spring\",\"Summer\",\"Fall\",\"Winter\",\"Spring\",\"Summer\",\"Fall\",\"Winter\",\"Spring\",\"Summer\",\"Fall\",\"Winter\",\"Spring\",\"Summer\",\"Fall\",\"Winter\",\"Spring\",\"Summer\",\"Fall\",\"Winter\",\"Spring\",\"Summer\",\"Fall\",\"Winter\",\"Spring\",\"Summer\",\"Fall\",\"Winter\",\"Spring\",\"Summer\",\"Fall\",\"Winter\",\"Spring\",\"Summer\",\"Fall\",\"Winter\",\"Spring\",\"Summer\",\"Fall\",\"Winter\",\"Spring\",\"Summer\",\"Fall\",\"Winter\",\"Spring\",\"Summer\",\"Fall\",\"Winter\",\"Spring\",\"Summer\",\"Fall\",\"Winter\",\"Spring\",\"Summer\",\"Fall\",\"Winter\",\"Spring\",\"Summer\",\"Fall\",\"Winter\",\"Spring\",\"Summer\",\"Fall\",\"Winter\",\"Spring\",\"Summer\",\"Fall\",\"Winter\",\"Spring\",\"Summer\",\"Fall\",\"Winter\",\"Spring\",\"Summer\",\"Fall\",\"Winter\",\"Spring\",\"Summer\",\"Fall\",\"Winter\",\"Spring\",\"Summer\",\"Fall\",\"Winter\",\"Spring\",\"Summer\",\"Fall\",\"Winter\",\"Spring\",\"Summer\",\"Fall\",\"Winter\",\"Spring\",\"Summer\",\"Fall\",\"Winter\",\"Spring\",\"Summer\",\"Fall\",\"Winter\",\"Spring\",\"Summer\",\"Fall\",\"Winter\",\"Spring\",\"Summer\",\"Fall\",\"Winter\",\"Spring\",\"Summer\",\"Fall\",\"Winter\",\"Spring\",\"Summer\",\"Fall\",\"Winter\",\"Spring\",\"Summer\",\"Fall\",\"Winter\",\"Spring\",\"Summer\",\"Fall\",\"Winter\",\"Spring\",\"Summer\",\"Fall\",\"Winter\",\"Spring\",\"Summer\",\"Fall\",\"Winter\",\"Spring\",\"Summer\",\"Fall\",\"Winter\",\"Spring\",\"Summer\",\"Fall\",\"Winter\",\"Spring\",\"Summer\",\"Fall\",\"Winter\",\"Spring\",\"Summer\",\"Fall\",\"Winter\",\"Spring\",\"Summer\",\"Fall\",\"Winter\",\"Spring\",\"Summer\",\"Fall\",\"Winter\",\"Spring\",\"Summer\",\"Fall\",\"Winter\",\"Spring\",\"Summer\",\"Fall\",\"Winter\",\"Spring\",\"Summer\",\"Fall\",\"Winter\",\"Spring\",\"Summer\",\"Fall\",\"Winter\",\"Spring\",\"Summer\",\"Fall\",\"Winter\",\"Spring\",\"Summer\",\"Fall\",\"Winter\",\"Spring\",\"Summer\",\"Fall\",\"Winter\",\"Spring\",\"Summer\",\"Fall\",\"Winter\",\"Spring\",\"Summer\",\"Fall\",\"Winter\",\"Spring\",\"Summer\",\"Fall\",\"Winter\",\"Spring\",\"Summer\",\"Fall\",\"Winter\",\"Spring\",\"Summer\",\"Fall\",\"Winter\",\"Spring\",\"Summer\",\"Fall\",\"Winter\",\"Spring\",\"Summer\",\"Fall\",\"Winter\",\"Spring\",\"Summer\",\"Fall\",\"Winter\",\"Spring\",\"Summer\",\"Fall\",\"Winter\",\"Spring\",\"Summer\",\"Fall\",\"Winter\",\"Spring\",\"Summer\",\"Fall\",\"Winter\",\"Spring\",\"Summer\",\"Fall\",\"Winter\",\"Spring\",\"Summer\",\"Fall\",\"Winter\",\"Spring\",\"Summer\",\"Fall\",\"Winter\",\"Spring\",\"Summer\",\"Fall\",\"Winter\",\"Spring\",\"Summer\",\"Fall\",\"Winter\",\"Spring\",\"Summer\",\"Fall\",\"Winter\",\"Spring\",\"Summer\",\"Fall\",\"Winter\",\"Spring\",\"Summer\",\"Fall\",\"Winter\",\"Spring\",\"Summer\",\"Fall\",\"Winter\",\"Spring\",\"Summer\",\"Fall\",\"Winter\",\"Spring\",\"Summer\",\"Fall\",\"Winter\",\"Spring\",\"Summer\",\"Fall\",\"Winter\"],\"x0\":\" \",\"xaxis\":\"x\",\"y\":[69.0,72.0,63.0,54.0,68.0,93.0,67.0,46.0,73.0,94.0,61.0,54.0,88.0,91.0,72.0,48.0,68.0,102.0,79.0,54.0,74.0,94.0,60.0,65.0,61.0,96.0,71.0,62.0,78.0,88.0,65.0,50.0,87.0,90.0,50.0,57.0,74.0,94.0,70.0,49.0,71.0,82.0,64.0,63.0,74.0,98.0,56.0,54.0,84.0,84.0,71.0,55.0,62.0,83.0,58.0,55.0,77.0,100.0,62.0,56.0,75.0,79.0,64.0,59.0,69.0,82.0,52.0,57.0,63.0,85.0,65.0,60.0,53.0,88.0,71.0,58.0,62.0,91.0,57.0,48.0,79.0,99.0,62.0,65.0,67.0,89.0,68.0,50.0,88.0,97.0,59.0,53.0,73.0,100.0,65.0,49.0,80.0,93.0,76.0,53.0,74.0,82.0,69.0,62.0,75.0,96.0,53.0,61.0,68.0,84.0,66.0,58.0,60.0,87.0,63.0,51.0,85.0,93.0,58.0,62.0,73.0,88.0,69.0,47.0,58.0,100.0,81.0,52.0,63.0,82.0,60.0,58.0,74.0,96.0,62.0,56.0,71.0,82.0,69.0,57.0,75.0,89.0,50.0,50.0,72.0,82.0,63.0,59.0,78.0,86.0,50.0,61.0,86.0,100.0,81.0,51.0,66.0,86.0,66.0,57.0,70.0,90.0,74.0,41.0,66.0,93.0,81.0,54.0,88.0,100.0,68.0,57.0,67.0,91.0,63.0,58.0,80.0,97.0,60.0,47.0,67.0,91.0,53.0,53.0,65.0,91.0,71.0,47.0,81.0,95.0,71.0,53.0,81.0,90.0,60.0,54.0,66.0,86.0,61.0,40.0,77.0,97.0,50.0,55.0,70.0,95.0,71.0,53.0,60.0,84.0,57.0,49.0,69.0,96.0,59.0,44.0,84.0,76.0,56.0,49.0,81.0,93.0,57.0,57.0,80.0,97.0,57.0,47.0,71.0,86.0,69.0,56.0,63.0,91.0,66.0,55.0,66.0,88.0,70.0,59.0,76.0,88.0,69.0,46.0,65.0,83.0,51.0,54.0,77.0,92.0,76.0,46.0,53.0,93.0,66.0,51.0,86.0,94.0,73.0,43.0,61.0,76.0,78.0,56.0,67.0,95.0,67.0,54.0,71.0,98.0,50.0,48.0,65.0,92.0,68.0,45.0,60.0,88.0,64.0,63.0,70.0,85.0,50.0,53.0,80.0,93.0,75.0,58.0,71.0,86.0,74.0,40.0,83.0,94.0,66.0,58.0,64.0,98.0,61.0,56.0,70.0,103.0,63.0,56.0,81.0,89.0,67.0,57.0,83.0,88.0,78.0,59.0,59.0,84.0,65.0,43.0,65.0,99.0,77.0,54.0,70.0,99.0,65.0,59.0,61.0,92.0,62.0,62.0,76.0,97.0,65.0,53.0,70.0,93.0,59.0,52.0,85.0,85.0,66.0,57.0,80.0,94.0,68.0,53.0,77.0,100.0,70.0,57.0,74.0,88.0,57.0,56.0,80.0,96.0,69.0,49.0,66.0,98.0,68.0,65.0,64.0,88.0,70.0,55.0,76.0,99.0,59.0,61.0,68.0,102.0,57.0,59.0,55.0,89.0,57.0,61.0,83.0,103.0,57.0,58.0,69.0,94.0,59.0,58.0,66.0,95.0,59.0,64.0,73.0,89.0,69.0,49.0,68.0,100.0,81.0,50.0,74.0,87.0,68.0,52.0],\"y0\":\" \",\"yaxis\":\"y\",\"type\":\"box\"}],                        {\"template\":{\"data\":{\"histogram2dcontour\":[{\"type\":\"histogram2dcontour\",\"colorbar\":{\"outlinewidth\":0,\"ticks\":\"\"},\"colorscale\":[[0.0,\"#0d0887\"],[0.1111111111111111,\"#46039f\"],[0.2222222222222222,\"#7201a8\"],[0.3333333333333333,\"#9c179e\"],[0.4444444444444444,\"#bd3786\"],[0.5555555555555556,\"#d8576b\"],[0.6666666666666666,\"#ed7953\"],[0.7777777777777778,\"#fb9f3a\"],[0.8888888888888888,\"#fdca26\"],[1.0,\"#f0f921\"]]}],\"choropleth\":[{\"type\":\"choropleth\",\"colorbar\":{\"outlinewidth\":0,\"ticks\":\"\"}}],\"histogram2d\":[{\"type\":\"histogram2d\",\"colorbar\":{\"outlinewidth\":0,\"ticks\":\"\"},\"colorscale\":[[0.0,\"#0d0887\"],[0.1111111111111111,\"#46039f\"],[0.2222222222222222,\"#7201a8\"],[0.3333333333333333,\"#9c179e\"],[0.4444444444444444,\"#bd3786\"],[0.5555555555555556,\"#d8576b\"],[0.6666666666666666,\"#ed7953\"],[0.7777777777777778,\"#fb9f3a\"],[0.8888888888888888,\"#fdca26\"],[1.0,\"#f0f921\"]]}],\"heatmap\":[{\"type\":\"heatmap\",\"colorbar\":{\"outlinewidth\":0,\"ticks\":\"\"},\"colorscale\":[[0.0,\"#0d0887\"],[0.1111111111111111,\"#46039f\"],[0.2222222222222222,\"#7201a8\"],[0.3333333333333333,\"#9c179e\"],[0.4444444444444444,\"#bd3786\"],[0.5555555555555556,\"#d8576b\"],[0.6666666666666666,\"#ed7953\"],[0.7777777777777778,\"#fb9f3a\"],[0.8888888888888888,\"#fdca26\"],[1.0,\"#f0f921\"]]}],\"heatmapgl\":[{\"type\":\"heatmapgl\",\"colorbar\":{\"outlinewidth\":0,\"ticks\":\"\"},\"colorscale\":[[0.0,\"#0d0887\"],[0.1111111111111111,\"#46039f\"],[0.2222222222222222,\"#7201a8\"],[0.3333333333333333,\"#9c179e\"],[0.4444444444444444,\"#bd3786\"],[0.5555555555555556,\"#d8576b\"],[0.6666666666666666,\"#ed7953\"],[0.7777777777777778,\"#fb9f3a\"],[0.8888888888888888,\"#fdca26\"],[1.0,\"#f0f921\"]]}],\"contourcarpet\":[{\"type\":\"contourcarpet\",\"colorbar\":{\"outlinewidth\":0,\"ticks\":\"\"}}],\"contour\":[{\"type\":\"contour\",\"colorbar\":{\"outlinewidth\":0,\"ticks\":\"\"},\"colorscale\":[[0.0,\"#0d0887\"],[0.1111111111111111,\"#46039f\"],[0.2222222222222222,\"#7201a8\"],[0.3333333333333333,\"#9c179e\"],[0.4444444444444444,\"#bd3786\"],[0.5555555555555556,\"#d8576b\"],[0.6666666666666666,\"#ed7953\"],[0.7777777777777778,\"#fb9f3a\"],[0.8888888888888888,\"#fdca26\"],[1.0,\"#f0f921\"]]}],\"surface\":[{\"type\":\"surface\",\"colorbar\":{\"outlinewidth\":0,\"ticks\":\"\"},\"colorscale\":[[0.0,\"#0d0887\"],[0.1111111111111111,\"#46039f\"],[0.2222222222222222,\"#7201a8\"],[0.3333333333333333,\"#9c179e\"],[0.4444444444444444,\"#bd3786\"],[0.5555555555555556,\"#d8576b\"],[0.6666666666666666,\"#ed7953\"],[0.7777777777777778,\"#fb9f3a\"],[0.8888888888888888,\"#fdca26\"],[1.0,\"#f0f921\"]]}],\"mesh3d\":[{\"type\":\"mesh3d\",\"colorbar\":{\"outlinewidth\":0,\"ticks\":\"\"}}],\"scatter\":[{\"fillpattern\":{\"fillmode\":\"overlay\",\"size\":10,\"solidity\":0.2},\"type\":\"scatter\"}],\"parcoords\":[{\"type\":\"parcoords\",\"line\":{\"colorbar\":{\"outlinewidth\":0,\"ticks\":\"\"}}}],\"scatterpolargl\":[{\"type\":\"scatterpolargl\",\"marker\":{\"colorbar\":{\"outlinewidth\":0,\"ticks\":\"\"}}}],\"bar\":[{\"error_x\":{\"color\":\"#2a3f5f\"},\"error_y\":{\"color\":\"#2a3f5f\"},\"marker\":{\"line\":{\"color\":\"#E5ECF6\",\"width\":0.5},\"pattern\":{\"fillmode\":\"overlay\",\"size\":10,\"solidity\":0.2}},\"type\":\"bar\"}],\"scattergeo\":[{\"type\":\"scattergeo\",\"marker\":{\"colorbar\":{\"outlinewidth\":0,\"ticks\":\"\"}}}],\"scatterpolar\":[{\"type\":\"scatterpolar\",\"marker\":{\"colorbar\":{\"outlinewidth\":0,\"ticks\":\"\"}}}],\"histogram\":[{\"marker\":{\"pattern\":{\"fillmode\":\"overlay\",\"size\":10,\"solidity\":0.2}},\"type\":\"histogram\"}],\"scattergl\":[{\"type\":\"scattergl\",\"marker\":{\"colorbar\":{\"outlinewidth\":0,\"ticks\":\"\"}}}],\"scatter3d\":[{\"type\":\"scatter3d\",\"line\":{\"colorbar\":{\"outlinewidth\":0,\"ticks\":\"\"}},\"marker\":{\"colorbar\":{\"outlinewidth\":0,\"ticks\":\"\"}}}],\"scattermapbox\":[{\"type\":\"scattermapbox\",\"marker\":{\"colorbar\":{\"outlinewidth\":0,\"ticks\":\"\"}}}],\"scatterternary\":[{\"type\":\"scatterternary\",\"marker\":{\"colorbar\":{\"outlinewidth\":0,\"ticks\":\"\"}}}],\"scattercarpet\":[{\"type\":\"scattercarpet\",\"marker\":{\"colorbar\":{\"outlinewidth\":0,\"ticks\":\"\"}}}],\"carpet\":[{\"aaxis\":{\"endlinecolor\":\"#2a3f5f\",\"gridcolor\":\"white\",\"linecolor\":\"white\",\"minorgridcolor\":\"white\",\"startlinecolor\":\"#2a3f5f\"},\"baxis\":{\"endlinecolor\":\"#2a3f5f\",\"gridcolor\":\"white\",\"linecolor\":\"white\",\"minorgridcolor\":\"white\",\"startlinecolor\":\"#2a3f5f\"},\"type\":\"carpet\"}],\"table\":[{\"cells\":{\"fill\":{\"color\":\"#EBF0F8\"},\"line\":{\"color\":\"white\"}},\"header\":{\"fill\":{\"color\":\"#C8D4E3\"},\"line\":{\"color\":\"white\"}},\"type\":\"table\"}],\"barpolar\":[{\"marker\":{\"line\":{\"color\":\"#E5ECF6\",\"width\":0.5},\"pattern\":{\"fillmode\":\"overlay\",\"size\":10,\"solidity\":0.2}},\"type\":\"barpolar\"}],\"pie\":[{\"automargin\":true,\"type\":\"pie\"}]},\"layout\":{\"autotypenumbers\":\"strict\",\"colorway\":[\"#636efa\",\"#EF553B\",\"#00cc96\",\"#ab63fa\",\"#FFA15A\",\"#19d3f3\",\"#FF6692\",\"#B6E880\",\"#FF97FF\",\"#FECB52\"],\"font\":{\"color\":\"#2a3f5f\"},\"hovermode\":\"closest\",\"hoverlabel\":{\"align\":\"left\"},\"paper_bgcolor\":\"white\",\"plot_bgcolor\":\"#E5ECF6\",\"polar\":{\"bgcolor\":\"#E5ECF6\",\"angularaxis\":{\"gridcolor\":\"white\",\"linecolor\":\"white\",\"ticks\":\"\"},\"radialaxis\":{\"gridcolor\":\"white\",\"linecolor\":\"white\",\"ticks\":\"\"}},\"ternary\":{\"bgcolor\":\"#E5ECF6\",\"aaxis\":{\"gridcolor\":\"white\",\"linecolor\":\"white\",\"ticks\":\"\"},\"baxis\":{\"gridcolor\":\"white\",\"linecolor\":\"white\",\"ticks\":\"\"},\"caxis\":{\"gridcolor\":\"white\",\"linecolor\":\"white\",\"ticks\":\"\"}},\"coloraxis\":{\"colorbar\":{\"outlinewidth\":0,\"ticks\":\"\"}},\"colorscale\":{\"sequential\":[[0.0,\"#0d0887\"],[0.1111111111111111,\"#46039f\"],[0.2222222222222222,\"#7201a8\"],[0.3333333333333333,\"#9c179e\"],[0.4444444444444444,\"#bd3786\"],[0.5555555555555556,\"#d8576b\"],[0.6666666666666666,\"#ed7953\"],[0.7777777777777778,\"#fb9f3a\"],[0.8888888888888888,\"#fdca26\"],[1.0,\"#f0f921\"]],\"sequentialminus\":[[0.0,\"#0d0887\"],[0.1111111111111111,\"#46039f\"],[0.2222222222222222,\"#7201a8\"],[0.3333333333333333,\"#9c179e\"],[0.4444444444444444,\"#bd3786\"],[0.5555555555555556,\"#d8576b\"],[0.6666666666666666,\"#ed7953\"],[0.7777777777777778,\"#fb9f3a\"],[0.8888888888888888,\"#fdca26\"],[1.0,\"#f0f921\"]],\"diverging\":[[0,\"#8e0152\"],[0.1,\"#c51b7d\"],[0.2,\"#de77ae\"],[0.3,\"#f1b6da\"],[0.4,\"#fde0ef\"],[0.5,\"#f7f7f7\"],[0.6,\"#e6f5d0\"],[0.7,\"#b8e186\"],[0.8,\"#7fbc41\"],[0.9,\"#4d9221\"],[1,\"#276419\"]]},\"xaxis\":{\"gridcolor\":\"white\",\"linecolor\":\"white\",\"ticks\":\"\",\"title\":{\"standoff\":15},\"zerolinecolor\":\"white\",\"automargin\":true,\"zerolinewidth\":2},\"yaxis\":{\"gridcolor\":\"white\",\"linecolor\":\"white\",\"ticks\":\"\",\"title\":{\"standoff\":15},\"zerolinecolor\":\"white\",\"automargin\":true,\"zerolinewidth\":2},\"scene\":{\"xaxis\":{\"backgroundcolor\":\"#E5ECF6\",\"gridcolor\":\"white\",\"linecolor\":\"white\",\"showbackground\":true,\"ticks\":\"\",\"zerolinecolor\":\"white\",\"gridwidth\":2},\"yaxis\":{\"backgroundcolor\":\"#E5ECF6\",\"gridcolor\":\"white\",\"linecolor\":\"white\",\"showbackground\":true,\"ticks\":\"\",\"zerolinecolor\":\"white\",\"gridwidth\":2},\"zaxis\":{\"backgroundcolor\":\"#E5ECF6\",\"gridcolor\":\"white\",\"linecolor\":\"white\",\"showbackground\":true,\"ticks\":\"\",\"zerolinecolor\":\"white\",\"gridwidth\":2}},\"shapedefaults\":{\"line\":{\"color\":\"#2a3f5f\"}},\"annotationdefaults\":{\"arrowcolor\":\"#2a3f5f\",\"arrowhead\":0,\"arrowwidth\":1},\"geo\":{\"bgcolor\":\"white\",\"landcolor\":\"#E5ECF6\",\"subunitcolor\":\"white\",\"showland\":true,\"showlakes\":true,\"lakecolor\":\"white\"},\"title\":{\"x\":0.05},\"mapbox\":{\"style\":\"light\"}}},\"xaxis\":{\"anchor\":\"y\",\"domain\":[0.0,1.0],\"title\":{\"text\":\"Season\"}},\"yaxis\":{\"anchor\":\"x\",\"domain\":[0.0,1.0],\"title\":{\"text\":\"Temperature (F)\"}},\"legend\":{\"title\":{\"text\":\"Location\"},\"tracegroupgap\":0},\"margin\":{\"t\":60},\"boxmode\":\"group\",\"title\":{\"text\":\"Seaonsal Temperature Distribution\",\"xanchor\":\"left\",\"yanchor\":\"top\",\"x\":0.1}},                        {\"responsive\": true}                    ).then(function(){\n",
       "                            \n",
       "var gd = document.getElementById('23a9caae-febd-476f-a604-ed902094b0cd');\n",
       "var x = new MutationObserver(function (mutations, observer) {{\n",
       "        var display = window.getComputedStyle(gd).display;\n",
       "        if (!display || display === 'none') {{\n",
       "            console.log([gd, 'removed!']);\n",
       "            Plotly.purge(gd);\n",
       "            observer.disconnect();\n",
       "        }}\n",
       "}});\n",
       "\n",
       "// Listen for the removal of the full notebook cells\n",
       "var notebookContainer = gd.closest('#notebook-container');\n",
       "if (notebookContainer) {{\n",
       "    x.observe(notebookContainer, {childList: true});\n",
       "}}\n",
       "\n",
       "// Listen for the clearing of the current output cell\n",
       "var outputEl = gd.closest('.output');\n",
       "if (outputEl) {{\n",
       "    x.observe(outputEl, {childList: true});\n",
       "}}\n",
       "\n",
       "                        })                };                });            </script>        </div>"
      ]
     },
     "metadata": {},
     "output_type": "display_data"
    }
   ],
   "source": [
    "# Create figure and set color theme\n",
    "boxplot = px.box(df_1, x = \"Season\", color = \"Location\", y = \"Temp\",\n",
    "                 color_discrete_sequence = px.colors.cyclical.Edge)\n",
    "\n",
    "# Update titles (main and axes) and format\n",
    "boxplot.update_layout(title = {\"text\": \"Seaonsal Temperature Distribution\",\n",
    "                               \"xanchor\": \"left\", \"yanchor\": \"top\", \"x\": 0.1}, \n",
    "                               legend_title_text = \"Location\", xaxis_title = \"Season\", yaxis_title = \"Temperature (F)\")\n",
    "\n",
    "# Show plot\n",
    "boxplot.show()"
   ]
  },
  {
   "cell_type": "markdown",
   "id": "77224114-318f-40c3-9baf-04b213489c11",
   "metadata": {},
   "source": [
    "Overall  the maximum temperature recorded was in the summer in for City C"
   ]
  },
  {
   "cell_type": "code",
   "execution_count": 141,
   "id": "6838020b-9a4c-4b16-89d1-a7091fd33acb",
   "metadata": {
    "tags": []
   },
   "outputs": [
    {
     "data": {
      "text/plain": [
       "103.0"
      ]
     },
     "execution_count": 141,
     "metadata": {},
     "output_type": "execute_result"
    }
   ],
   "source": [
    "max(df_1.Temp)"
   ]
  },
  {
   "cell_type": "markdown",
   "id": "b26266d8-2a54-4c70-9188-4a3993caeaeb",
   "metadata": {},
   "source": [
    "Overall  the minimum temperature recorded was in the winter for City A"
   ]
  },
  {
   "cell_type": "code",
   "execution_count": 142,
   "id": "43a4e24e-1882-46d6-9c52-2f0c490be1b6",
   "metadata": {
    "tags": []
   },
   "outputs": [
    {
     "data": {
      "text/plain": [
       "-15.0"
      ]
     },
     "execution_count": 142,
     "metadata": {},
     "output_type": "execute_result"
    }
   ],
   "source": [
    "min(df_1.Temp)"
   ]
  },
  {
   "cell_type": "markdown",
   "id": "deb09806-5abd-45fa-891e-bda9bc23545f",
   "metadata": {},
   "source": [
    "\n",
    "## 4)\tData encoding – DISASTERS DATASET \n",
    "\n",
    "a.\tEncode 3 different categorical columns in this dataset using scikit-learn techniques, OneHotEncoding and OrdinalEncoding \n",
    "\n",
    "b.\tTwo different data frames should be created because of each technique \n"
   ]
  },
  {
   "cell_type": "code",
   "execution_count": 143,
   "id": "67d7409d-4157-4810-9632-9814c3d2f91c",
   "metadata": {
    "tags": []
   },
   "outputs": [],
   "source": [
    "# Scikit-learn Techniques\n",
    "\n",
    "# Import packages\n",
    "from sklearn.preprocessing import OrdinalEncoder, OneHotEncoder"
   ]
  },
  {
   "cell_type": "code",
   "execution_count": 147,
   "id": "a5f19549-c30e-41b0-9abd-e83adf881373",
   "metadata": {
    "tags": []
   },
   "outputs": [
    {
     "data": {
      "text/html": [
       "<div>\n",
       "<style scoped>\n",
       "    .dataframe tbody tr th:only-of-type {\n",
       "        vertical-align: middle;\n",
       "    }\n",
       "\n",
       "    .dataframe tbody tr th {\n",
       "        vertical-align: top;\n",
       "    }\n",
       "\n",
       "    .dataframe thead th {\n",
       "        text-align: right;\n",
       "    }\n",
       "</style>\n",
       "<table border=\"1\" class=\"dataframe\">\n",
       "  <thead>\n",
       "    <tr style=\"text-align: right;\">\n",
       "      <th></th>\n",
       "      <th>Region</th>\n",
       "      <th>Region Type Code</th>\n",
       "    </tr>\n",
       "  </thead>\n",
       "  <tbody>\n",
       "    <tr>\n",
       "      <th>0</th>\n",
       "      <td>Africa</td>\n",
       "      <td>0.0</td>\n",
       "    </tr>\n",
       "    <tr>\n",
       "      <th>1</th>\n",
       "      <td>Africa</td>\n",
       "      <td>0.0</td>\n",
       "    </tr>\n",
       "    <tr>\n",
       "      <th>2</th>\n",
       "      <td>Africa</td>\n",
       "      <td>0.0</td>\n",
       "    </tr>\n",
       "    <tr>\n",
       "      <th>3</th>\n",
       "      <td>Africa</td>\n",
       "      <td>0.0</td>\n",
       "    </tr>\n",
       "    <tr>\n",
       "      <th>4</th>\n",
       "      <td>Africa</td>\n",
       "      <td>0.0</td>\n",
       "    </tr>\n",
       "    <tr>\n",
       "      <th>5</th>\n",
       "      <td>Asia</td>\n",
       "      <td>2.0</td>\n",
       "    </tr>\n",
       "    <tr>\n",
       "      <th>6</th>\n",
       "      <td>Americas</td>\n",
       "      <td>1.0</td>\n",
       "    </tr>\n",
       "    <tr>\n",
       "      <th>7</th>\n",
       "      <td>Asia</td>\n",
       "      <td>2.0</td>\n",
       "    </tr>\n",
       "    <tr>\n",
       "      <th>8</th>\n",
       "      <td>Asia</td>\n",
       "      <td>2.0</td>\n",
       "    </tr>\n",
       "    <tr>\n",
       "      <th>9</th>\n",
       "      <td>Africa</td>\n",
       "      <td>0.0</td>\n",
       "    </tr>\n",
       "    <tr>\n",
       "      <th>10</th>\n",
       "      <td>Americas</td>\n",
       "      <td>1.0</td>\n",
       "    </tr>\n",
       "    <tr>\n",
       "      <th>11</th>\n",
       "      <td>Asia</td>\n",
       "      <td>2.0</td>\n",
       "    </tr>\n",
       "    <tr>\n",
       "      <th>12</th>\n",
       "      <td>Asia</td>\n",
       "      <td>2.0</td>\n",
       "    </tr>\n",
       "    <tr>\n",
       "      <th>13</th>\n",
       "      <td>Asia</td>\n",
       "      <td>2.0</td>\n",
       "    </tr>\n",
       "    <tr>\n",
       "      <th>14</th>\n",
       "      <td>Africa</td>\n",
       "      <td>0.0</td>\n",
       "    </tr>\n",
       "  </tbody>\n",
       "</table>\n",
       "</div>"
      ],
      "text/plain": [
       "      Region  Region Type Code\n",
       "0     Africa               0.0\n",
       "1     Africa               0.0\n",
       "2     Africa               0.0\n",
       "3     Africa               0.0\n",
       "4     Africa               0.0\n",
       "5       Asia               2.0\n",
       "6   Americas               1.0\n",
       "7       Asia               2.0\n",
       "8       Asia               2.0\n",
       "9     Africa               0.0\n",
       "10  Americas               1.0\n",
       "11      Asia               2.0\n",
       "12      Asia               2.0\n",
       "13      Asia               2.0\n",
       "14    Africa               0.0"
      ]
     },
     "execution_count": 147,
     "metadata": {},
     "output_type": "execute_result"
    }
   ],
   "source": [
    "# The equivalent of label encoding in scikit-learn is OrdinalEncoder \n",
    "# Create an instance of the OrdinalEncoder\n",
    "# Create a new column, 'Regeion Type Code' by using the fit_transform() function to create numerical values for each Region\n",
    "# View the original 'Region Type' and 'Region Type Code' to see the new encoded values\n",
    "ord_encoder = OrdinalEncoder()\n",
    "df[\"Region Type Code\"] = ord_encoder.fit_transform(df[[\"Region\"]])\n",
    "df[[\"Region\", \"Region Type Code\"]].head(15)\n"
   ]
  },
  {
   "cell_type": "code",
   "execution_count": 145,
   "id": "eaa18d6c-6c2e-456f-87a0-f06bcd6fd7b6",
   "metadata": {
    "tags": []
   },
   "outputs": [],
   "source": [
    "# This next example uses OneHotEncoder to encode values\n",
    "# Create an instance of OneHotEncoder()\n",
    "# Use fit_transform() to transform categorical values to numerical\n",
    "onehot_encode_copy = df.copy()\n",
    "onehot_encoder = OneHotEncoder()\n",
    "onehot_results = onehot_encoder.fit_transform(onehot_encode_copy[[\"Subregion\"]])\n",
    "\n",
    "# Put the results into a dataframe for viewing \n",
    "onehot_df = pd.DataFrame(onehot_results.toarray(), columns = onehot_encode_copy[\"Subregion\"].unique())\n"
   ]
  },
  {
   "cell_type": "code",
   "execution_count": 146,
   "id": "181d542c-b501-455d-919a-038909989636",
   "metadata": {
    "tags": []
   },
   "outputs": [
    {
     "data": {
      "text/html": [
       "<div>\n",
       "<style scoped>\n",
       "    .dataframe tbody tr th:only-of-type {\n",
       "        vertical-align: middle;\n",
       "    }\n",
       "\n",
       "    .dataframe tbody tr th {\n",
       "        vertical-align: top;\n",
       "    }\n",
       "\n",
       "    .dataframe thead th {\n",
       "        text-align: right;\n",
       "    }\n",
       "</style>\n",
       "<table border=\"1\" class=\"dataframe\">\n",
       "  <thead>\n",
       "    <tr style=\"text-align: right;\">\n",
       "      <th></th>\n",
       "      <th>DisNo.</th>\n",
       "      <th>Historic</th>\n",
       "      <th>Classification Key</th>\n",
       "      <th>Disaster Group</th>\n",
       "      <th>Disaster Subgroup</th>\n",
       "      <th>Disaster Type</th>\n",
       "      <th>Disaster Subtype</th>\n",
       "      <th>External IDs</th>\n",
       "      <th>Event Name</th>\n",
       "      <th>ISO</th>\n",
       "      <th>...</th>\n",
       "      <th>Reconstruction Costs, Adjusted ('000 US$)</th>\n",
       "      <th>Insured Damage ('000 US$)</th>\n",
       "      <th>Insured Damage, Adjusted ('000 US$)</th>\n",
       "      <th>Total Damage ('000 US$)</th>\n",
       "      <th>Total Damage, Adjusted ('000 US$)</th>\n",
       "      <th>CPI</th>\n",
       "      <th>Admin Units</th>\n",
       "      <th>Entry Date</th>\n",
       "      <th>Last Update</th>\n",
       "      <th>Region Type Code</th>\n",
       "    </tr>\n",
       "  </thead>\n",
       "  <tbody>\n",
       "    <tr>\n",
       "      <th>0</th>\n",
       "      <td>1999-9388-DJI</td>\n",
       "      <td>No</td>\n",
       "      <td>nat-cli-dro-dro</td>\n",
       "      <td>Natural</td>\n",
       "      <td>Climatological</td>\n",
       "      <td>Drought</td>\n",
       "      <td>Drought</td>\n",
       "      <td>NaN</td>\n",
       "      <td>NaN</td>\n",
       "      <td>DJI</td>\n",
       "      <td>...</td>\n",
       "      <td>702336.0</td>\n",
       "      <td>250000.0</td>\n",
       "      <td>349124.5</td>\n",
       "      <td>100000.0</td>\n",
       "      <td>140878.0</td>\n",
       "      <td>58.111474</td>\n",
       "      <td>[{\"adm1_code\":1093,\"adm1_name\":\"Ali Sabieh\"},{...</td>\n",
       "      <td>2006-03-01</td>\n",
       "      <td>2023-09-25</td>\n",
       "      <td>0.0</td>\n",
       "    </tr>\n",
       "    <tr>\n",
       "      <th>1</th>\n",
       "      <td>1999-9388-SDN</td>\n",
       "      <td>No</td>\n",
       "      <td>nat-cli-dro-dro</td>\n",
       "      <td>Natural</td>\n",
       "      <td>Climatological</td>\n",
       "      <td>Drought</td>\n",
       "      <td>Drought</td>\n",
       "      <td>NaN</td>\n",
       "      <td>NaN</td>\n",
       "      <td>SDN</td>\n",
       "      <td>...</td>\n",
       "      <td>702336.0</td>\n",
       "      <td>250000.0</td>\n",
       "      <td>349124.5</td>\n",
       "      <td>100000.0</td>\n",
       "      <td>140878.0</td>\n",
       "      <td>56.514291</td>\n",
       "      <td>[{\"adm1_code\":2757,\"adm1_name\":\"Northern Darfu...</td>\n",
       "      <td>2006-03-08</td>\n",
       "      <td>2023-09-25</td>\n",
       "      <td>0.0</td>\n",
       "    </tr>\n",
       "    <tr>\n",
       "      <th>2</th>\n",
       "      <td>1999-9388-SOM</td>\n",
       "      <td>No</td>\n",
       "      <td>nat-cli-dro-dro</td>\n",
       "      <td>Natural</td>\n",
       "      <td>Climatological</td>\n",
       "      <td>Drought</td>\n",
       "      <td>Drought</td>\n",
       "      <td>NaN</td>\n",
       "      <td>NaN</td>\n",
       "      <td>SOM</td>\n",
       "      <td>...</td>\n",
       "      <td>702336.0</td>\n",
       "      <td>250000.0</td>\n",
       "      <td>349124.5</td>\n",
       "      <td>100000.0</td>\n",
       "      <td>140878.0</td>\n",
       "      <td>56.514291</td>\n",
       "      <td>[{\"adm1_code\":2691,\"adm1_name\":\"Bay\"},{\"adm1_c...</td>\n",
       "      <td>2006-03-08</td>\n",
       "      <td>2023-09-25</td>\n",
       "      <td>0.0</td>\n",
       "    </tr>\n",
       "    <tr>\n",
       "      <th>3</th>\n",
       "      <td>2000-0001-AGO</td>\n",
       "      <td>No</td>\n",
       "      <td>tec-tra-roa-roa</td>\n",
       "      <td>Technological</td>\n",
       "      <td>Transport</td>\n",
       "      <td>Road</td>\n",
       "      <td>Road</td>\n",
       "      <td>NaN</td>\n",
       "      <td>NaN</td>\n",
       "      <td>AGO</td>\n",
       "      <td>...</td>\n",
       "      <td>702336.0</td>\n",
       "      <td>250000.0</td>\n",
       "      <td>349124.5</td>\n",
       "      <td>100000.0</td>\n",
       "      <td>140878.0</td>\n",
       "      <td>56.514291</td>\n",
       "      <td>NaN</td>\n",
       "      <td>2004-10-27</td>\n",
       "      <td>2023-09-25</td>\n",
       "      <td>0.0</td>\n",
       "    </tr>\n",
       "    <tr>\n",
       "      <th>4</th>\n",
       "      <td>2000-0002-AGO</td>\n",
       "      <td>No</td>\n",
       "      <td>nat-hyd-flo-riv</td>\n",
       "      <td>Natural</td>\n",
       "      <td>Hydrological</td>\n",
       "      <td>Flood</td>\n",
       "      <td>Riverine flood</td>\n",
       "      <td>NaN</td>\n",
       "      <td>NaN</td>\n",
       "      <td>AGO</td>\n",
       "      <td>...</td>\n",
       "      <td>702336.0</td>\n",
       "      <td>250000.0</td>\n",
       "      <td>349124.5</td>\n",
       "      <td>10000.0</td>\n",
       "      <td>17695.0</td>\n",
       "      <td>56.514291</td>\n",
       "      <td>[{\"adm2_code\":4214,\"adm2_name\":\"Baia Farta\"},{...</td>\n",
       "      <td>2005-02-03</td>\n",
       "      <td>2023-09-25</td>\n",
       "      <td>0.0</td>\n",
       "    </tr>\n",
       "    <tr>\n",
       "      <th>5</th>\n",
       "      <td>2000-0003-BGD</td>\n",
       "      <td>No</td>\n",
       "      <td>nat-met-ext-col</td>\n",
       "      <td>Natural</td>\n",
       "      <td>Meteorological</td>\n",
       "      <td>Extreme temperature</td>\n",
       "      <td>Cold wave</td>\n",
       "      <td>NaN</td>\n",
       "      <td>NaN</td>\n",
       "      <td>BGD</td>\n",
       "      <td>...</td>\n",
       "      <td>702336.0</td>\n",
       "      <td>250000.0</td>\n",
       "      <td>349124.5</td>\n",
       "      <td>100000.0</td>\n",
       "      <td>140878.0</td>\n",
       "      <td>56.514291</td>\n",
       "      <td>[{\"adm1_code\":575,\"adm1_name\":\"Barisal\"},{\"adm...</td>\n",
       "      <td>2003-07-01</td>\n",
       "      <td>2023-09-25</td>\n",
       "      <td>2.0</td>\n",
       "    </tr>\n",
       "    <tr>\n",
       "      <th>6</th>\n",
       "      <td>2000-0004-BRA</td>\n",
       "      <td>No</td>\n",
       "      <td>tec-tra-roa-roa</td>\n",
       "      <td>Technological</td>\n",
       "      <td>Transport</td>\n",
       "      <td>Road</td>\n",
       "      <td>Road</td>\n",
       "      <td>NaN</td>\n",
       "      <td>NaN</td>\n",
       "      <td>BRA</td>\n",
       "      <td>...</td>\n",
       "      <td>702336.0</td>\n",
       "      <td>250000.0</td>\n",
       "      <td>349124.5</td>\n",
       "      <td>100000.0</td>\n",
       "      <td>140878.0</td>\n",
       "      <td>56.514291</td>\n",
       "      <td>NaN</td>\n",
       "      <td>2003-07-01</td>\n",
       "      <td>2023-09-25</td>\n",
       "      <td>1.0</td>\n",
       "    </tr>\n",
       "    <tr>\n",
       "      <th>7</th>\n",
       "      <td>2000-0005-CHN</td>\n",
       "      <td>No</td>\n",
       "      <td>tec-tra-roa-roa</td>\n",
       "      <td>Technological</td>\n",
       "      <td>Transport</td>\n",
       "      <td>Road</td>\n",
       "      <td>Road</td>\n",
       "      <td>NaN</td>\n",
       "      <td>NaN</td>\n",
       "      <td>CHN</td>\n",
       "      <td>...</td>\n",
       "      <td>702336.0</td>\n",
       "      <td>250000.0</td>\n",
       "      <td>349124.5</td>\n",
       "      <td>100000.0</td>\n",
       "      <td>140878.0</td>\n",
       "      <td>56.514291</td>\n",
       "      <td>NaN</td>\n",
       "      <td>2005-02-09</td>\n",
       "      <td>2023-09-25</td>\n",
       "      <td>2.0</td>\n",
       "    </tr>\n",
       "    <tr>\n",
       "      <th>8</th>\n",
       "      <td>2000-0006-CHN</td>\n",
       "      <td>No</td>\n",
       "      <td>tec-mis-fir-fir</td>\n",
       "      <td>Technological</td>\n",
       "      <td>Miscellaneous accident</td>\n",
       "      <td>Fire (Miscellaneous)</td>\n",
       "      <td>Fire (Miscellaneous)</td>\n",
       "      <td>NaN</td>\n",
       "      <td>Hotel</td>\n",
       "      <td>CHN</td>\n",
       "      <td>...</td>\n",
       "      <td>702336.0</td>\n",
       "      <td>250000.0</td>\n",
       "      <td>349124.5</td>\n",
       "      <td>100000.0</td>\n",
       "      <td>140878.0</td>\n",
       "      <td>56.514291</td>\n",
       "      <td>NaN</td>\n",
       "      <td>2003-07-01</td>\n",
       "      <td>2023-09-25</td>\n",
       "      <td>2.0</td>\n",
       "    </tr>\n",
       "    <tr>\n",
       "      <th>9</th>\n",
       "      <td>2000-0007-EGY</td>\n",
       "      <td>No</td>\n",
       "      <td>tec-tra-roa-roa</td>\n",
       "      <td>Technological</td>\n",
       "      <td>Transport</td>\n",
       "      <td>Road</td>\n",
       "      <td>Road</td>\n",
       "      <td>NaN</td>\n",
       "      <td>NaN</td>\n",
       "      <td>EGY</td>\n",
       "      <td>...</td>\n",
       "      <td>702336.0</td>\n",
       "      <td>250000.0</td>\n",
       "      <td>349124.5</td>\n",
       "      <td>100000.0</td>\n",
       "      <td>140878.0</td>\n",
       "      <td>56.514291</td>\n",
       "      <td>NaN</td>\n",
       "      <td>2003-07-01</td>\n",
       "      <td>2023-09-25</td>\n",
       "      <td>0.0</td>\n",
       "    </tr>\n",
       "  </tbody>\n",
       "</table>\n",
       "<p>10 rows × 47 columns</p>\n",
       "</div>"
      ],
      "text/plain": [
       "          DisNo. Historic Classification Key Disaster Group  \\\n",
       "0  1999-9388-DJI       No    nat-cli-dro-dro        Natural   \n",
       "1  1999-9388-SDN       No    nat-cli-dro-dro        Natural   \n",
       "2  1999-9388-SOM       No    nat-cli-dro-dro        Natural   \n",
       "3  2000-0001-AGO       No    tec-tra-roa-roa  Technological   \n",
       "4  2000-0002-AGO       No    nat-hyd-flo-riv        Natural   \n",
       "5  2000-0003-BGD       No    nat-met-ext-col        Natural   \n",
       "6  2000-0004-BRA       No    tec-tra-roa-roa  Technological   \n",
       "7  2000-0005-CHN       No    tec-tra-roa-roa  Technological   \n",
       "8  2000-0006-CHN       No    tec-mis-fir-fir  Technological   \n",
       "9  2000-0007-EGY       No    tec-tra-roa-roa  Technological   \n",
       "\n",
       "        Disaster Subgroup         Disaster Type      Disaster Subtype  \\\n",
       "0          Climatological               Drought               Drought   \n",
       "1          Climatological               Drought               Drought   \n",
       "2          Climatological               Drought               Drought   \n",
       "3               Transport                  Road                  Road   \n",
       "4            Hydrological                 Flood        Riverine flood   \n",
       "5          Meteorological   Extreme temperature             Cold wave   \n",
       "6               Transport                  Road                  Road   \n",
       "7               Transport                  Road                  Road   \n",
       "8  Miscellaneous accident  Fire (Miscellaneous)  Fire (Miscellaneous)   \n",
       "9               Transport                  Road                  Road   \n",
       "\n",
       "  External IDs Event Name  ISO  ... Reconstruction Costs, Adjusted ('000 US$)  \\\n",
       "0          NaN        NaN  DJI  ...                                  702336.0   \n",
       "1          NaN        NaN  SDN  ...                                  702336.0   \n",
       "2          NaN        NaN  SOM  ...                                  702336.0   \n",
       "3          NaN        NaN  AGO  ...                                  702336.0   \n",
       "4          NaN        NaN  AGO  ...                                  702336.0   \n",
       "5          NaN        NaN  BGD  ...                                  702336.0   \n",
       "6          NaN        NaN  BRA  ...                                  702336.0   \n",
       "7          NaN        NaN  CHN  ...                                  702336.0   \n",
       "8          NaN      Hotel  CHN  ...                                  702336.0   \n",
       "9          NaN        NaN  EGY  ...                                  702336.0   \n",
       "\n",
       "  Insured Damage ('000 US$) Insured Damage, Adjusted ('000 US$)  \\\n",
       "0                  250000.0                            349124.5   \n",
       "1                  250000.0                            349124.5   \n",
       "2                  250000.0                            349124.5   \n",
       "3                  250000.0                            349124.5   \n",
       "4                  250000.0                            349124.5   \n",
       "5                  250000.0                            349124.5   \n",
       "6                  250000.0                            349124.5   \n",
       "7                  250000.0                            349124.5   \n",
       "8                  250000.0                            349124.5   \n",
       "9                  250000.0                            349124.5   \n",
       "\n",
       "  Total Damage ('000 US$) Total Damage, Adjusted ('000 US$)        CPI  \\\n",
       "0                100000.0                          140878.0  58.111474   \n",
       "1                100000.0                          140878.0  56.514291   \n",
       "2                100000.0                          140878.0  56.514291   \n",
       "3                100000.0                          140878.0  56.514291   \n",
       "4                 10000.0                           17695.0  56.514291   \n",
       "5                100000.0                          140878.0  56.514291   \n",
       "6                100000.0                          140878.0  56.514291   \n",
       "7                100000.0                          140878.0  56.514291   \n",
       "8                100000.0                          140878.0  56.514291   \n",
       "9                100000.0                          140878.0  56.514291   \n",
       "\n",
       "                                         Admin Units Entry Date Last Update  \\\n",
       "0  [{\"adm1_code\":1093,\"adm1_name\":\"Ali Sabieh\"},{... 2006-03-01  2023-09-25   \n",
       "1  [{\"adm1_code\":2757,\"adm1_name\":\"Northern Darfu... 2006-03-08  2023-09-25   \n",
       "2  [{\"adm1_code\":2691,\"adm1_name\":\"Bay\"},{\"adm1_c... 2006-03-08  2023-09-25   \n",
       "3                                                NaN 2004-10-27  2023-09-25   \n",
       "4  [{\"adm2_code\":4214,\"adm2_name\":\"Baia Farta\"},{... 2005-02-03  2023-09-25   \n",
       "5  [{\"adm1_code\":575,\"adm1_name\":\"Barisal\"},{\"adm... 2003-07-01  2023-09-25   \n",
       "6                                                NaN 2003-07-01  2023-09-25   \n",
       "7                                                NaN 2005-02-09  2023-09-25   \n",
       "8                                                NaN 2003-07-01  2023-09-25   \n",
       "9                                                NaN 2003-07-01  2023-09-25   \n",
       "\n",
       "   Region Type Code  \n",
       "0               0.0  \n",
       "1               0.0  \n",
       "2               0.0  \n",
       "3               0.0  \n",
       "4               0.0  \n",
       "5               2.0  \n",
       "6               1.0  \n",
       "7               2.0  \n",
       "8               2.0  \n",
       "9               0.0  \n",
       "\n",
       "[10 rows x 47 columns]"
      ]
     },
     "execution_count": 146,
     "metadata": {},
     "output_type": "execute_result"
    }
   ],
   "source": [
    "# Join dataframe back to original dataframe\n",
    "onehot_encode_copy = onehot_encode_copy.join(onehot_df)\n",
    "df.head(10)\n"
   ]
  },
  {
   "cell_type": "code",
   "execution_count": 151,
   "id": "d97ee803-053a-435b-ae34-6c3fd8e2c74e",
   "metadata": {
    "tags": []
   },
   "outputs": [
    {
     "data": {
      "text/html": [
       "<div>\n",
       "<style scoped>\n",
       "    .dataframe tbody tr th:only-of-type {\n",
       "        vertical-align: middle;\n",
       "    }\n",
       "\n",
       "    .dataframe tbody tr th {\n",
       "        vertical-align: top;\n",
       "    }\n",
       "\n",
       "    .dataframe thead th {\n",
       "        text-align: right;\n",
       "    }\n",
       "</style>\n",
       "<table border=\"1\" class=\"dataframe\">\n",
       "  <thead>\n",
       "    <tr style=\"text-align: right;\">\n",
       "      <th></th>\n",
       "      <th>Appeal</th>\n",
       "      <th>Appeal Type Code</th>\n",
       "    </tr>\n",
       "  </thead>\n",
       "  <tbody>\n",
       "    <tr>\n",
       "      <th>0</th>\n",
       "      <td>No</td>\n",
       "      <td>0.0</td>\n",
       "    </tr>\n",
       "    <tr>\n",
       "      <th>1</th>\n",
       "      <td>No</td>\n",
       "      <td>0.0</td>\n",
       "    </tr>\n",
       "    <tr>\n",
       "      <th>2</th>\n",
       "      <td>No</td>\n",
       "      <td>0.0</td>\n",
       "    </tr>\n",
       "    <tr>\n",
       "      <th>3</th>\n",
       "      <td>No</td>\n",
       "      <td>0.0</td>\n",
       "    </tr>\n",
       "    <tr>\n",
       "      <th>4</th>\n",
       "      <td>No</td>\n",
       "      <td>0.0</td>\n",
       "    </tr>\n",
       "    <tr>\n",
       "      <th>5</th>\n",
       "      <td>No</td>\n",
       "      <td>0.0</td>\n",
       "    </tr>\n",
       "    <tr>\n",
       "      <th>6</th>\n",
       "      <td>No</td>\n",
       "      <td>0.0</td>\n",
       "    </tr>\n",
       "    <tr>\n",
       "      <th>7</th>\n",
       "      <td>No</td>\n",
       "      <td>0.0</td>\n",
       "    </tr>\n",
       "    <tr>\n",
       "      <th>8</th>\n",
       "      <td>No</td>\n",
       "      <td>0.0</td>\n",
       "    </tr>\n",
       "    <tr>\n",
       "      <th>9</th>\n",
       "      <td>No</td>\n",
       "      <td>0.0</td>\n",
       "    </tr>\n",
       "  </tbody>\n",
       "</table>\n",
       "</div>"
      ],
      "text/plain": [
       "  Appeal  Appeal Type Code\n",
       "0     No               0.0\n",
       "1     No               0.0\n",
       "2     No               0.0\n",
       "3     No               0.0\n",
       "4     No               0.0\n",
       "5     No               0.0\n",
       "6     No               0.0\n",
       "7     No               0.0\n",
       "8     No               0.0\n",
       "9     No               0.0"
      ]
     },
     "execution_count": 151,
     "metadata": {},
     "output_type": "execute_result"
    }
   ],
   "source": [
    "#Encoding Appeal Category using Ordinal Encoder\n",
    "\n",
    "ord_encoder = OrdinalEncoder()\n",
    "df[\"Appeal Type Code\"] = ord_encoder.fit_transform(df[[\"Appeal\"]])\n",
    "df[[\"Appeal\", \"Appeal Type Code\"]].head(10)"
   ]
  },
  {
   "cell_type": "code",
   "execution_count": null,
   "id": "8ad47ee3-5d52-4e97-b81c-ae4b2bbfa16f",
   "metadata": {},
   "outputs": [],
   "source": []
  }
 ],
 "metadata": {
  "kernelspec": {
   "display_name": "Python 3 (ipykernel)",
   "language": "python",
   "name": "python3"
  },
  "language_info": {
   "codemirror_mode": {
    "name": "ipython",
    "version": 3
   },
   "file_extension": ".py",
   "mimetype": "text/x-python",
   "name": "python",
   "nbconvert_exporter": "python",
   "pygments_lexer": "ipython3",
   "version": "3.11.4"
  }
 },
 "nbformat": 4,
 "nbformat_minor": 5
}
